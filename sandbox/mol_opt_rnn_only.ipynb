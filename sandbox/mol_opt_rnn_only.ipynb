{
  "cells": [
    {
      "cell_type": "code",
      "execution_count": 1,
      "metadata": {},
      "outputs": [],
      "source": [
        "# add path (for local)\n",
        "import sys\n",
        "repo_root = \"../\"\n",
        "if repo_root not in sys.path:\n",
        "    sys.path.insert(0, repo_root)"
      ]
    },
    {
      "cell_type": "code",
      "execution_count": 2,
      "metadata": {},
      "outputs": [],
      "source": [
        "guacamol_oracle_names = [\"albuterol_similarity\", \"amlodipine_mpo\", \"celecoxib_rediscovery\", \"deco_hop\", \"fexofenadine_mpo\", \"isomers_c7h8n2o2\", \"isomers_c9h10n2o2pf2cl\", \"median1\", \"median2\", \"mestranol_similarity\", \"osimertinib_mpo\", \"perindopril_mpo\", \"ranolazine_mpo\", \"scaffold_hop\", \"sitagliptin_mpo\", \"thiothixene_rediscovery\", \"troglitazone_rediscovery\", \"valsartan_smarts\", \"zaleplon_mpo\"]\n",
        "tdc_oracle_names = [\"drd2\", \"gsk3b\", \"jnk3\", \"qed\"]\n",
        "oracle_names = guacamol_oracle_names + tdc_oracle_names\n",
        "    \n",
        "def reward_class_name_from_oracle_name(oracle_name: str) -> str:\n",
        "    if oracle_name in tdc_oracle_names:\n",
        "        return \"TDCReward\"\n",
        "    else:\n",
        "        return \"GuacaMolReward\""
      ]
    },
    {
      "cell_type": "code",
      "execution_count": null,
      "metadata": {},
      "outputs": [],
      "source": [
        "import os\n",
        "import optuna\n",
        "from rdkit import RDLogger\n",
        "from utils import generator_from_conf, conf_from_yaml\n",
        "RDLogger.DisableLog('rdApp.*')\n",
        "\n",
        "yaml_path = \"config/mol_opt/optuna_rnn_only.yaml\"\n",
        "oracle_name = None\n",
        "\n",
        "def objective(trial):\n",
        "    conf = conf_from_yaml(yaml_path, repo_root)\n",
        "    conf.setdefault(\"transition_args\", {})\n",
        "    conf[\"transition_args\"][\"sharpness\"] = trial.suggest_float(\"sharpness\", 0.8, 1.1)\n",
        "    conf[\"transition_args\"][\"top_p\"] = trial.suggest_float(\"top_p\", 0.994, 0.999)\n",
        "    \n",
        "    conf.setdefault(\"policy_args\", {})\n",
        "    conf[\"policy_args\"][\"c\"] = trial.suggest_float(\"c\", 0.05, 0.4)\n",
        "    conf[\"policy_args\"][\"best_rate\"] = trial.suggest_float(\"best_rate\", 0, 1)\n",
        "    conf[\"policy_args\"][\"prior\"] = trial.suggest_float(\"prior\", 0.3, 1.2)\n",
        "    conf[\"policy_args\"][\"prior_weight\"] = trial.suggest_int(\"prior_weight\", 0, 2)\n",
        "    conf[\"policy_args\"][\"max_prior\"] = trial.suggest_float(\"max_prior\", 0, 0.6)\n",
        "\n",
        "    conf.setdefault(\"generator_args\", {})\n",
        "    conf[\"generator_args\"][\"eval_width\"] = trial.suggest_int(\"eval_width\", 1, 40)\n",
        "    conf[\"generator_args\"][\"n_evals\"] = trial.suggest_int(\"n_evals\", 1, 10)\n",
        "    conf[\"generator_args\"][\"n_tries\"] = trial.suggest_int(\"n_tries\", 1, 10)\n",
        "    conf[\"generator_args\"][\"terminal_reward\"] = trial.suggest_categorical(\"terminal_reward\", [\"ignore\", -1])\n",
        "    \n",
        "    conf[\"reward_class\"] = reward_class_name_from_oracle_name(oracle_name)\n",
        "    conf[\"reward_args\"] = {}\n",
        "    conf[\"reward_args\"][\"objective\"] = oracle_name\n",
        "    conf[\"output_dir\"] = conf.get(\"output_dir\") + os.sep + oracle_name\n",
        "        \n",
        "    generator = generator_from_conf(conf, repo_root)\n",
        "    generator.logger.info(\"reward=\"+oracle_name)\n",
        "    generator.logger.info(f\"params={trial.params}\")\n",
        "    max_generations, time_limit = 10000, conf.get(\"time_limit\")\n",
        "    \n",
        "    generator.generate(max_generations=1000, time_limit=time_limit/10)\n",
        "    intermediate_value = generator.top_k_auc(top_k=10, max_oracle_calls=1000)\n",
        "    trial.report(intermediate_value, 0)\n",
        "    if trial.should_prune():\n",
        "        print(f\"{oracle_name} Trial {trial.number} - Step {0}: intermediate_score={intermediate_value:.3f}, params={trial.params}\")\n",
        "        raise optuna.TrialPruned()\n",
        "    \n",
        "    generator.generate(max_generations=2000, time_limit=time_limit*2/10)\n",
        "    intermediate_value = generator.top_k_auc(top_k=10, max_oracle_calls=3000)\n",
        "    trial.report(intermediate_value, 1)\n",
        "    if trial.should_prune():\n",
        "        print(f\"{oracle_name} Trial {trial.number} - Step {1}: intermediate_score={intermediate_value:.3f}, params={trial.params}\")\n",
        "        raise optuna.TrialPruned()\n",
        "    \n",
        "    generator.generate(max_generations=7000, time_limit=time_limit*7/10)\n",
        "    score = generator.top_k_auc(top_k=10, max_oracle_calls=10000)\n",
        "    generator.logger.info(\"top_10_auc: \" + str(score))\n",
        "\n",
        "    trial.set_user_attr(\"score\", score)\n",
        "    print(f\"{oracle_name} Trial {trial.number}: score={score:.3f}\")\n",
        "    \n",
        "    return score"
      ]
    },
    {
      "cell_type": "code",
      "execution_count": null,
      "metadata": {},
      "outputs": [
        {
          "name": "stderr",
          "output_type": "stream",
          "text": [
            "/opt/anaconda3/envs/v3-forge/lib/python3.11/site-packages/optuna/_experimental.py:32: ExperimentalWarning: Argument ``multivariate`` is an experimental feature. The interface can change in the future.\n",
            "  warnings.warn(\n",
            "/opt/anaconda3/envs/v3-forge/lib/python3.11/site-packages/optuna/_experimental.py:32: ExperimentalWarning: Argument ``group`` is an experimental feature. The interface can change in the future.\n",
            "  warnings.warn(\n",
            "[I 2025-07-17 14:39:28,654] A new study created in RDB with name: albuterol_similarity_rnn_only\n",
            "[I 2025-07-17 14:41:14,823] Trial 0 finished with value: 0.5639513068043246 and parameters: {'sharpness': 1.0, 'top_p': 0.995, 'c': 0.2, 'best_rate': 0.5, 'prior': 1.0, 'prior_weight': 0, 'max_prior': 0.5, 'eval_width': 1, 'n_evals': 1, 'n_tries': 5, 'terminal_reward': -1}. Best is trial 0 with value: 0.5639513068043246.\n",
            "/opt/anaconda3/envs/v3-forge/lib/python3.11/site-packages/optuna/_experimental.py:32: ExperimentalWarning: Argument ``multivariate`` is an experimental feature. The interface can change in the future.\n",
            "  warnings.warn(\n",
            "/opt/anaconda3/envs/v3-forge/lib/python3.11/site-packages/optuna/_experimental.py:32: ExperimentalWarning: Argument ``group`` is an experimental feature. The interface can change in the future.\n",
            "  warnings.warn(\n",
            "[I 2025-07-17 14:41:14,874] A new study created in RDB with name: amlodipine_mpo_rnn_only\n"
          ]
        },
        {
          "name": "stdout",
          "output_type": "stream",
          "text": [
            "Trial 0: score=0.564\n"
          ]
        },
        {
          "name": "stderr",
          "output_type": "stream",
          "text": [
            "[I 2025-07-17 14:43:07,026] Trial 0 finished with value: 0.4891239588423812 and parameters: {'sharpness': 1.0, 'top_p': 0.995, 'c': 0.2, 'best_rate': 0.5, 'prior': 1.0, 'prior_weight': 0, 'max_prior': 0.5, 'eval_width': 1, 'n_evals': 1, 'n_tries': 5, 'terminal_reward': -1}. Best is trial 0 with value: 0.4891239588423812.\n",
            "[I 2025-07-17 14:43:07,078] A new study created in RDB with name: celecoxib_rediscovery_rnn_only\n"
          ]
        },
        {
          "name": "stdout",
          "output_type": "stream",
          "text": [
            "Trial 0: score=0.489\n"
          ]
        }
      ],
      "source": [
        "# start\n",
        "for oracle in oracle_names:\n",
        "    oracle_name = oracle\n",
        "    name = oracle + \"_rnn_only\"\n",
        "    storage = \"sqlite:///optuna/mol_opt/\" + name + \".db\"\n",
        "    sampler = sampler=optuna.samplers.TPESampler(multivariate=True, group=True)\n",
        "    pruner = optuna.pruners.MedianPruner(n_startup_trials=10, n_warmup_steps=0, interval_steps=1)\n",
        "    study = optuna.create_study(direction=\"maximize\", study_name=name, storage=storage, sampler=sampler, pruner=pruner)\n",
        "    study.enqueue_trial({\"sharpness\": 1.0, \"top_p\": 0.995, \"c\": 0.2, \"best_rate\": 0.5, \"prior\": 1.0, \"prior_weight\": 0, \"max_prior\": 0.5, \"eval_width\": 1, \"n_evals\": 1, \"n_tries\": 5})\n",
        "    study.optimize(objective, n_trials=1)\n",
        "    \n",
        "# continue\n",
        "for i in range(1, 10000):\n",
        "    for oracle in oracle_names:\n",
        "        oracle_name = oracle\n",
        "        name = oracle + \"_rnn_only\"\n",
        "        study = optuna.study.load_study(study_name=name, storage=\"sqlite:///optuna/mol_opt/\" + name + \".db\")\n",
        "        study.optimize(objective, n_trials=i)"
      ]
    }
  ],
  "metadata": {
    "accelerator": "GPU",
    "colab": {
      "gpuType": "T4",
      "provenance": []
    },
    "kernelspec": {
      "display_name": "v3-forge",
      "language": "python",
      "name": "python3"
    },
    "language_info": {
      "codemirror_mode": {
        "name": "ipython",
        "version": 3
      },
      "file_extension": ".py",
      "mimetype": "text/x-python",
      "name": "python",
      "nbconvert_exporter": "python",
      "pygments_lexer": "ipython3",
      "version": "3.11.0"
    }
  },
  "nbformat": 4,
  "nbformat_minor": 0
}
