{
  "cells": [
    {
      "cell_type": "code",
      "execution_count": 3,
      "metadata": {},
      "outputs": [
        {
          "name": "stdout",
          "output_type": "stream",
          "text": [
            "Fetched: 158\n"
          ]
        }
      ],
      "source": [
        "#get proteins from uniprot\n",
        "\n",
        "import requests\n",
        "import time\n",
        "\n",
        "base_url = \"https://rest.uniprot.org/uniprotkb/search\"\n",
        "params = {\n",
        "    \"query\": \"ft_helix:* AND NOT ft_mod_res:*\", #helix, not modified\n",
        "    \"format\": \"json\",\n",
        "    \"size\": 500\n",
        "}\n",
        "\n",
        "cursor = None\n",
        "fetched = 0\n",
        "output_file = \"unmodified_helix_proteins.json\"\n",
        "\n",
        "with open(output_file, \"w\") as f:\n",
        "    while True:\n",
        "        if cursor:\n",
        "            params[\"cursor\"] = cursor\n",
        "\n",
        "        response = requests.get(base_url, params=params)\n",
        "        if response.status_code != 200:\n",
        "            print(\"Failed:\", response.text)\n",
        "            break\n",
        "\n",
        "        f.write(response.text)\n",
        "        count = response.text.count(\">\")\n",
        "        fetched += count\n",
        "        print(f\"Fetched: {fetched}\")\n",
        "\n",
        "        cursor = response.headers.get(\"X-Next-Page-Cursor\")\n",
        "        if not cursor:\n",
        "            break\n",
        "\n",
        "        time.sleep(1) #avoid restrictions"
      ]
    }
  ],
  "metadata": {
    "accelerator": "GPU",
    "colab": {
      "gpuType": "T4",
      "provenance": []
    },
    "kernelspec": {
      "display_name": "v3-forge",
      "language": "python",
      "name": "python3"
    },
    "language_info": {
      "codemirror_mode": {
        "name": "ipython",
        "version": 3
      },
      "file_extension": ".py",
      "mimetype": "text/x-python",
      "name": "python",
      "nbconvert_exporter": "python",
      "pygments_lexer": "ipython3",
      "version": "3.11.0"
    }
  },
  "nbformat": 4,
  "nbformat_minor": 0
}
