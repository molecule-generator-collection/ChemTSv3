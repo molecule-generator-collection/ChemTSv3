{
  "cells": [
    {
      "cell_type": "markdown",
      "metadata": {},
      "source": [
        "# Basic workflow (without YAML)\n",
        "\n",
        "More practical workflow (de novo molecular generation, chained to lead optimizaiton) will be covered in `tutorial_user_2.ipynb`.\n",
        "\n",
        "For YAML workflow, refer to `generation.ipynb`, `chain_generation.ipynb` and `config/generation/mcts_example.yaml`."
      ]
    },
    {
      "cell_type": "code",
      "execution_count": null,
      "metadata": {},
      "outputs": [],
      "source": [
        "# Path setup\n",
        "\n",
        "import sys\n",
        "repo_root = \"../\" # Change this if running the notebook from a different directory\n",
        "if repo_root not in sys.path:\n",
        "    sys.path.insert(0, repo_root)"
      ]
    },
    {
      "cell_type": "code",
      "execution_count": null,
      "metadata": {},
      "outputs": [],
      "source": [
        "# Imports (may take some time on the first run)\n",
        "\n",
        "from filter import ValidityFilter, RadicalFilter\n",
        "from generator import MCTS\n",
        "from node import SMILESStringNode\n",
        "from policy import PUCT\n",
        "from transition import JensenTransition\n",
        "from reward import LogPReward"
      ]
    },
    {
      "cell_type": "code",
      "execution_count": null,
      "metadata": {},
      "outputs": [],
      "source": [
        "# Set up a generator (without YAML)\n",
        "\n",
        "benzene = SMILESStringNode.node_from_key(\"c1ccccc1\")\n",
        "reward = LogPReward()\n",
        "filters = [ValidityFilter(), RadicalFilter()] # ValidityFilter checks whether the molecule is valid. Since other filters and rewards typically assume validity and do not recheck it, this filter should usually be applied first in molecular generation.\n",
        "\n",
        "uct = PUCT(c=0.1, best_rate=0.9) # Hover over the class name (e.g., \"UCT\") to see its available arguments, typpes, default values, and descriptions (may not be supported in all IDEs)\n",
        "\n",
        "generator = MCTS(root=benzene, transition=JensenTransition(), reward=reward, filters=filters, filter_reward=[-1,0], policy=uct,\n",
        "                 avoid_duplicates=True,\n",
        "                 cut_failed_child=True,\n",
        "                 info_interval=100, output_dir=\"generation_result/tutorial_1\")"
      ]
    },
    {
      "cell_type": "code",
      "execution_count": null,
      "metadata": {},
      "outputs": [],
      "source": [
        "# Start generation\n",
        "\n",
        "generator.generate(max_generations=1000, time_limit=60) # Stops generation when either the number of generated nodes reaches 1000 or 60 seconds have passed. \n",
        "# Each generated molecule is logged to a CSV file in the output directory as soon as it is generated."
      ]
    },
    {
      "cell_type": "code",
      "execution_count": null,
      "metadata": {},
      "outputs": [],
      "source": [
        "# Analyze and plot results\n",
        "\n",
        "generator.analyze()\n",
        "generator.plot(moving_average_window=0.05, reward_top_ps=[0.1, 0.5]) # Plot the objective values and final reward for the generated molecules. The plots will also be saved to the output directory."
      ]
    },
    {
      "cell_type": "markdown",
      "metadata": {},
      "source": [
        "# Save and load"
      ]
    },
    {
      "cell_type": "code",
      "execution_count": null,
      "metadata": {},
      "outputs": [],
      "source": [
        "# Continue generation using the existing generator\n",
        "\n",
        "generator.generate(max_generations=200, time_limit=60)"
      ]
    },
    {
      "cell_type": "code",
      "execution_count": null,
      "metadata": {},
      "outputs": [],
      "source": [
        "# Save the generator and its current progress to a file\n",
        "\n",
        "save_path = generator.output_dir() + \"save.gtr\" # Generator's output directory can be fetched using output_dir()\n",
        "generator.save(save_path)"
      ]
    },
    {
      "cell_type": "code",
      "execution_count": null,
      "metadata": {},
      "outputs": [],
      "source": [
        "# Load generator\n",
        "\n",
        "generator = MCTS.load(save_path, transition=JensenTransition()) # Since some transitions rely on heavy models, they are separated from the generator's saved state."
      ]
    },
    {
      "cell_type": "code",
      "execution_count": null,
      "metadata": {},
      "outputs": [],
      "source": [
        "# Continue generation using the loaded generator\n",
        "\n",
        "generator.generate(max_generations=200, time_limit=60)"
      ]
    },
    {
      "cell_type": "markdown",
      "metadata": {},
      "source": [
        "# Analysis"
      ]
    },
    {
      "cell_type": "code",
      "execution_count": null,
      "metadata": {},
      "outputs": [],
      "source": [
        "# Generator methods for statistics.\n",
        "\n",
        "print(\"Number of generated nodes: \", generator.n_generated_nodes())\n",
        "print(\"Generated node per second: \", generator.node_per_sec())\n",
        "print(\"Proportion of unfiltered generated nodes: \", generator.node_per_sec())\n",
        "print(\"Average reward of top_p generated nodes: \", generator.average_reward(top_p=0.5))\n",
        "print(\"AUC of the average of top_k rewards within 1000 generation: \", generator.auc(top_k=5, max_oracle_calls=1000)) # Assumes the reward is in the range [0, 1]."
      ]
    },
    {
      "cell_type": "code",
      "execution_count": null,
      "metadata": {},
      "outputs": [],
      "source": [
        "# Check transition\n",
        "\n",
        "from utils import draw_mol\n",
        "\n",
        "for child in generator.root.children: # child nodes of the root node\n",
        "    print(f\"Probability: {child.last_prob:.3f} Action: {child.last_action}\")\n",
        "    draw_mol(child.mol(), width=70, height=70) # All MolNode subclasses have a mol() method."
      ]
    }
  ],
  "metadata": {
    "accelerator": "GPU",
    "colab": {
      "gpuType": "T4",
      "provenance": []
    },
    "kernelspec": {
      "display_name": "v3env-m",
      "language": "python",
      "name": "python3"
    },
    "language_info": {
      "codemirror_mode": {
        "name": "ipython",
        "version": 3
      },
      "file_extension": ".py",
      "mimetype": "text/x-python",
      "name": "python",
      "nbconvert_exporter": "python",
      "pygments_lexer": "ipython3",
      "version": "3.11.11"
    }
  },
  "nbformat": 4,
  "nbformat_minor": 0
}
