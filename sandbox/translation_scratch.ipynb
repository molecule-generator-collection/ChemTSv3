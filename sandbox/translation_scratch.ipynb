{
  "cells": [
    {
      "cell_type": "code",
      "execution_count": 1,
      "metadata": {},
      "outputs": [],
      "source": [
        "import sys\n",
        "molgen_path = \"../\"\n",
        "if molgen_path not in sys.path:\n",
        "    sys.path.insert(0, molgen_path)"
      ]
    },
    {
      "cell_type": "code",
      "execution_count": 2,
      "metadata": {},
      "outputs": [],
      "source": [
        "from rdkit import Chem\n",
        "from rdkit.Chem import Mol\n",
        "from rdkit.Chem import inchi\n",
        "\n",
        "def is_same_mol(mol1: Mol, mol2: Mol):\n",
        "    inchi1 = inchi.MolToInchiKey(mol1)\n",
        "    inchi2 = inchi.MolToInchiKey(mol2)\n",
        "    return inchi1 == inchi2\n",
        "\n",
        "def print_atoms_and_labels(mol: Mol):\n",
        "    for a in mol.GetAtoms():\n",
        "        text = a.GetSymbol() + \", MapNum: \" + str(a.GetAtomMapNum())\n",
        "        if a.HasProp('atomLabel'):\n",
        "            text += \", label: \" + a.GetProp(\"atomLabel\")\n",
        "        print(text)"
      ]
    },
    {
      "cell_type": "code",
      "execution_count": 15,
      "metadata": {},
      "outputs": [
        {
          "name": "stdout",
          "output_type": "stream",
          "text": [
            "The autoreload extension is already loaded. To reload it, use:\n",
            "  %reload_ext autoreload\n"
          ]
        }
      ],
      "source": [
        "%load_ext autoreload\n",
        "%autoreload 2\n",
        "from utils import MonomersLib, HELMConverter"
      ]
    },
    {
      "cell_type": "code",
      "execution_count": 19,
      "metadata": {},
      "outputs": [],
      "source": [
        "monomers_lib_path = molgen_path + \"data/helm/library/chembl_35_monomer_library.xml\"\n",
        "lib = MonomersLib.load(monomers_lib_path)"
      ]
    },
    {
      "cell_type": "code",
      "execution_count": 21,
      "metadata": {},
      "outputs": [
        {
          "name": "stderr",
          "output_type": "stream",
          "text": [
            "[00:15:47] WARNING: not removing hydrogen atom with dummy atom neighbors\n",
            "[00:15:47] WARNING: not removing hydrogen atom with dummy atom neighbors\n"
          ]
        },
        {
          "data": {
            "image/png": "[encoded data removed]",
            "text/plain": [
              "<rdkit.Chem.rdchem.Mol at 0x197c4a76f80>"
            ]
          },
          "execution_count": 21,
          "metadata": {},
          "output_type": "execute_result"
        }
      ],
      "source": [
        "helm1 = \"PEPTIDE1{G.R.G.D.S.P}$$$$\"\n",
        "helm2 = \"PEPTIDE1{A.A.A}$$$$\"\n",
        "helm3 = \"PEPTIDE1{A}$$$$\"\n",
        "helm = \"PEPTIDE1{K.F.Y.C.N.G.K.R.V.C.V.C.R.[am]}$$$$\"\n",
        "\n",
        "helm_list = HELMConverter.split_helm(helm)\n",
        "converter = HELMConverter(lib)\n",
        "mol = converter.mol_from_single_polymer(helm_list)\n",
        "mol = converter.close_residual_attachment_points(mol)\n",
        "mol"
      ]
    },
    {
      "cell_type": "code",
      "execution_count": 22,
      "metadata": {},
      "outputs": [
        {
          "data": {
            "text/plain": [
              "True"
            ]
          },
          "execution_count": 22,
          "metadata": {},
          "output_type": "execute_result"
        }
      ],
      "source": [
        "mol_h = Chem.MolFromHELM(helm)\n",
        "is_same_mol(mol, mol_h)"
      ]
    }
  ],
  "metadata": {
    "accelerator": "GPU",
    "colab": {
      "gpuType": "T4",
      "provenance": []
    },
    "kernelspec": {
      "display_name": "molgen-env",
      "language": "python",
      "name": "python3"
    },
    "language_info": {
      "codemirror_mode": {
        "name": "ipython",
        "version": 3
      },
      "file_extension": ".py",
      "mimetype": "text/x-python",
      "name": "python",
      "nbconvert_exporter": "python",
      "pygments_lexer": "ipython3",
      "version": "3.11.11"
    }
  },
  "nbformat": 4,
  "nbformat_minor": 0
}
