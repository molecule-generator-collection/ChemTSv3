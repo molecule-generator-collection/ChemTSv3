{
  "cells": [
    {
      "cell_type": "code",
      "execution_count": 9,
      "metadata": {},
      "outputs": [],
      "source": [
        "import sys\n",
        "molgen_path = \"../\"\n",
        "if molgen_path not in sys.path:\n",
        "    sys.path.insert(0, molgen_path)"
      ]
    },
    {
      "cell_type": "code",
      "execution_count": 13,
      "metadata": {},
      "outputs": [],
      "source": [
        "from rdkit import Chem\n",
        "from rdkit.Chem import Mol\n",
        "from rdkit.Chem import inchi\n",
        "\n",
        "def is_same_molecule(mol1: Mol, mol2: Mol):\n",
        "    inchi1 = inchi.MolToInchiKey(mol1)\n",
        "    inchi2 = inchi.MolToInchiKey(mol2)\n",
        "    return inchi1 == inchi2\n",
        "\n",
        "def print_atoms_and_labels(mol: Mol):\n",
        "    for a in mol.GetAtoms():\n",
        "        text = a.GetSymbol() + \", MapNum: \" + str(a.GetAtomMapNum())\n",
        "        if a.HasProp('atomLabel'):\n",
        "            text += \", label: \" + a.GetProp(\"atomLabel\")\n",
        "        print(text)"
      ]
    },
    {
      "cell_type": "code",
      "execution_count": 61,
      "metadata": {},
      "outputs": [
        {
          "data": {
            "image/png": "[encoded data removed]",
            "text/plain": [
              "<rdkit.Chem.rdchem.Mol at 0x1b169c5ceb0>"
            ]
          },
          "execution_count": 61,
          "metadata": {},
          "output_type": "execute_result"
        }
      ],
      "source": [
        "mol_h = Chem.MolFromHELM(\"PEPTIDE1{A.A}$$$$\")\n",
        "mol_h"
      ]
    },
    {
      "cell_type": "code",
      "execution_count": 15,
      "metadata": {},
      "outputs": [
        {
          "name": "stdout",
          "output_type": "stream",
          "text": [
            "C, MapNum: 0\n",
            "C, MapNum: 0\n",
            "N, MapNum: 0\n",
            "*, MapNum: 0, label: _R1\n",
            "C, MapNum: 0\n",
            "*, MapNum: 0, label: _R2\n",
            "O, MapNum: 0\n"
          ]
        }
      ],
      "source": [
        "mol_a1 = Chem.MolFromSmiles(\"C[C@H](N[*])C([*])=O |$;;;_R1;;_R2;$|\")\n",
        "print_atoms_and_labels(mol_a1)"
      ]
    },
    {
      "cell_type": "code",
      "execution_count": 80,
      "metadata": {},
      "outputs": [],
      "source": [
        "#n_term -> c_term\n",
        "def combine_monomers(m1: Mol, m2: Mol):\n",
        "    for a in m1.GetAtoms():\n",
        "        if a.HasProp(\"atomLabel\") and a.GetProp(\"atomLabel\").endswith(\"_R2\"):\n",
        "            a.SetAtomMapNum(1)\n",
        "    for a in m2.GetAtoms():\n",
        "        if a.HasProp(\"atomLabel\") and a.GetProp(\"atomLabel\").endswith(\"_R1\"):\n",
        "            a.SetAtomMapNum(1)\n",
        "    return Chem.molzip(m1, m2)"
      ]
    },
    {
      "cell_type": "code",
      "execution_count": 64,
      "metadata": {},
      "outputs": [],
      "source": [
        "def close_cap(mol: Mol, cap: Mol, r_num: int):\n",
        "    r_str = \"_R\" + str(r_num)\n",
        "    for a in mol.GetAtoms():\n",
        "        if a.HasProp(\"atomLabel\") and a.GetProp(\"atomLabel\").endswith(r_str):\n",
        "            a.SetAtomMapNum(1)\n",
        "    for a in cap.GetAtoms():\n",
        "        if a.HasProp(\"atomLabel\") and a.GetProp(\"atomLabel\").endswith(r_str):\n",
        "            a.SetAtomMapNum(1)\n",
        "    return Chem.molzip(mol, cap)"
      ]
    },
    {
      "cell_type": "code",
      "execution_count": 101,
      "metadata": {},
      "outputs": [],
      "source": [
        "import re\n",
        "\n",
        "def combine_monomers(m1: Mol, m1_r_num: int, m2: Mol, m2_r_num: int) -> Mol:\n",
        "    m1_r_str = \"_R\" + str(m1_r_num)\n",
        "    m2_r_str = \"_R\" + str(m2_r_num)\n",
        "    for a in m1.GetAtoms():\n",
        "        if a.HasProp(\"atomLabel\") and a.GetProp(\"atomLabel\").endswith(m1_r_str):\n",
        "            a.SetAtomMapNum(1)\n",
        "    for a in m2.GetAtoms():\n",
        "        if a.HasProp(\"atomLabel\") and a.GetProp(\"atomLabel\").endswith(m2_r_str):\n",
        "            a.SetAtomMapNum(1)\n",
        "    return Chem.molzip(m1, m2)\n",
        "\n",
        "def combine_backbone_monomers(m1: Mol, m2: Mol) -> Mol:\n",
        "    return combine_monomers(m1, 2, m2, 1)\n",
        "\n",
        "def close_r(mol: Mol, cap: Mol):\n",
        "    for a in cap.GetAtoms():\n",
        "        if a.HasProp(\"atomLabel\"):\n",
        "            r_str = a.GetProp(\"atomLabel\")\n",
        "            r_num = int(re.search(r'\\d+$', r_str).group())\n",
        "    return combine_monomers(mol, r_num, cap, r_num)\n"
      ]
    },
    {
      "cell_type": "code",
      "execution_count": 105,
      "metadata": {},
      "outputs": [
        {
          "data": {
            "image/png": "[encoded data removed]",
            "text/plain": [
              "<rdkit.Chem.rdchem.Mol at 0x1b16a2b8f90>"
            ]
          },
          "execution_count": 105,
          "metadata": {},
          "output_type": "execute_result"
        }
      ],
      "source": [
        "mol_a1 = Chem.MolFromSmiles(\"C[C@H](N[*])C([*])=O |$;;;_R1;;_R2;$|\")\n",
        "mol_a2 = Chem.MolFromSmiles(\"C[C@H](N[*])C([*])=O |$;;;_R1;;_R2;$|\")\n",
        "mol_aa = combine_backbone_monomers(mol_a1, mol_a2)\n",
        "mol_aa"
      ]
    },
    {
      "cell_type": "code",
      "execution_count": 103,
      "metadata": {},
      "outputs": [
        {
          "name": "stdout",
          "output_type": "stream",
          "text": [
            "C, MapNum: 0\n",
            "C, MapNum: 0\n",
            "N, MapNum: 0\n",
            "*, MapNum: 0, label: _R1\n",
            "C, MapNum: 0\n",
            "O, MapNum: 0\n",
            "C, MapNum: 0\n",
            "C, MapNum: 0\n",
            "N, MapNum: 0\n",
            "C, MapNum: 0\n",
            "*, MapNum: 0, label: _R2\n",
            "O, MapNum: 0\n"
          ]
        }
      ],
      "source": [
        "print_atoms_and_labels(mol_aa)"
      ]
    },
    {
      "cell_type": "code",
      "execution_count": 106,
      "metadata": {},
      "outputs": [
        {
          "name": "stderr",
          "output_type": "stream",
          "text": [
            "[03:03:52] WARNING: not removing hydrogen atom with dummy atom neighbors\n"
          ]
        },
        {
          "data": {
            "image/png": "[encoded data removed]",
            "text/plain": [
              "<rdkit.Chem.rdchem.Mol at 0x1b16aec85f0>"
            ]
          },
          "execution_count": 106,
          "metadata": {},
          "output_type": "execute_result"
        }
      ],
      "source": [
        "r1_mol = Chem.MolFromSmiles(\"[*][H] |$_R1;$|\")\n",
        "r2_mol = Chem.MolFromSmiles(\"O[*] |$;_R2$|\")\n",
        "mol_aa = close_r(mol_aa, r1_mol)\n",
        "mol_aa = close_r(mol_aa, r2_mol)\n",
        "mol_aa"
      ]
    },
    {
      "cell_type": "code",
      "execution_count": 107,
      "metadata": {},
      "outputs": [
        {
          "data": {
            "text/plain": [
              "True"
            ]
          },
          "execution_count": 107,
          "metadata": {},
          "output_type": "execute_result"
        }
      ],
      "source": [
        "is_same_molecule(mol_aa, mol_h)"
      ]
    }
  ],
  "metadata": {
    "accelerator": "GPU",
    "colab": {
      "gpuType": "T4",
      "provenance": []
    },
    "kernelspec": {
      "display_name": "molgen-env",
      "language": "python",
      "name": "python3"
    },
    "language_info": {
      "codemirror_mode": {
        "name": "ipython",
        "version": 3
      },
      "file_extension": ".py",
      "mimetype": "text/x-python",
      "name": "python",
      "nbconvert_exporter": "python",
      "pygments_lexer": "ipython3",
      "version": "3.11.11"
    }
  },
  "nbformat": 4,
  "nbformat_minor": 0
}
