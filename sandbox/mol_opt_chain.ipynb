{
  "cells": [
    {
      "cell_type": "code",
      "execution_count": 2,
      "metadata": {},
      "outputs": [],
      "source": [
        "# add path (for local)\n",
        "import sys\n",
        "repo_root = \"../\"\n",
        "if repo_root not in sys.path:\n",
        "    sys.path.insert(0, repo_root)"
      ]
    },
    {
      "cell_type": "code",
      "execution_count": 1,
      "metadata": {},
      "outputs": [],
      "source": [
        "guacamol_oracle_names = [\"zaleplon_mpo\", \"perindopril_mpo\", \"albuterol_similarity\", \"amlodipine_mpo\", \"celecoxib_rediscovery\", \"deco_hop\", \"fexofenadine_mpo\", \"isomers_c7h8n2o2\", \"isomers_c9h10n2o2pf2cl\", \"median1\", \"median2\", \"mestranol_similarity\", \"osimertinib_mpo\", \"ranolazine_mpo\", \"scaffold_hop\", \"sitagliptin_mpo\", \"thiothixene_rediscovery\", \"troglitazone_rediscovery\", \"valsartan_smarts\"]\n",
        "tdc_oracle_names = [\"drd2\", \"gsk3b\", \"jnk3\", \"qed\"]\n",
        "oracle_names = guacamol_oracle_names + tdc_oracle_names\n",
        "    \n",
        "def reward_class_name_from_oracle_name(oracle_name: str) -> str:\n",
        "    if oracle_name in tdc_oracle_names:\n",
        "        return \"TDCReward\"\n",
        "    else:\n",
        "        return \"GuacaMolReward\""
      ]
    },
    {
      "cell_type": "code",
      "execution_count": null,
      "metadata": {},
      "outputs": [],
      "source": [
        "import os\n",
        "import optuna\n",
        "from rdkit import RDLogger\n",
        "from node import SMILESStringNode\n",
        "from utils import generator_from_conf, conf_from_yaml\n",
        "RDLogger.DisableLog('rdApp.*')\n",
        "\n",
        "yaml_path_r = \"config/optuna/mol_opt_rnn.yaml\"\n",
        "yaml_path_j = \"config/optuna/mol_opt_jensen.yaml\"\n",
        "\n",
        "def objective(trial):\n",
        "    conf_r = conf_from_yaml(yaml_path_r, repo_root)\n",
        "    conf_r.setdefault(\"transition_args\", {})\n",
        "    conf_r[\"transition_args\"][\"sharpness\"] = trial.suggest_float(\"sharpness\", 0.8, 1.1)\n",
        "    conf_r[\"transition_args\"][\"top_p\"] = trial.suggest_float(\"top_p\", 0.993, 0.999)\n",
        "    \n",
        "    conf_r.setdefault(\"policy_args\", {})\n",
        "    conf_r[\"policy_args\"][\"c\"] = trial.suggest_float(\"c\", 0.01, 0.5)\n",
        "    conf_r[\"policy_args\"][\"best_rate\"] = trial.suggest_float(\"best_rate\", 0, 1)\n",
        "    conf_r[\"policy_args\"][\"prior\"] = trial.suggest_float(\"prior\", 0.3, 1.2)\n",
        "    conf_r[\"policy_args\"][\"prior_weight\"] = trial.suggest_int(\"prior_weight\", 0, 2)\n",
        "    conf_r[\"policy_args\"][\"max_prior\"] = trial.suggest_float(\"max_prior\", 0, 0.8)\n",
        "\n",
        "    conf_r.setdefault(\"generator_args\", {})\n",
        "    conf_r[\"generator_args\"][\"eval_width\"] = trial.suggest_int(\"eval_width\", 1, 40)\n",
        "    conf_r[\"generator_args\"][\"n_evals\"] = trial.suggest_int(\"n_evals\", 1, 10)\n",
        "    conf_r[\"generator_args\"][\"n_tries\"] = trial.suggest_int(\"n_tries\", 1, 10)\n",
        "    conf_r[\"generator_args\"][\"terminal_reward\"] = trial.suggest_categorical(\"terminal_reward\", [\"ignore\", -1])\n",
        "    \n",
        "    conf_j = conf_from_yaml(yaml_path_j, repo_root)\n",
        "    \n",
        "    sum_auc = 0\n",
        "    for i, oracle_name in enumerate(oracle_names):\n",
        "        conf_r[\"reward_class\"] = reward_class_name_from_oracle_name(oracle_name)\n",
        "        conf_r[\"reward_args\"] = {}\n",
        "        conf_r[\"reward_args\"][\"objective\"] = oracle_name\n",
        "        conf_r[\"output_dir\"] = conf_r.get(\"output_dir\") + os.sep + \"trial_\" + str(trial.number) + os.sep + oracle_name\n",
        "        \n",
        "        generator = generator_from_conf(conf_r, repo_root)\n",
        "        generator.logger.info(\"reward=\"+oracle_name)\n",
        "        generator.logger.info(f\"params={trial.params}\")\n",
        "        max_generations, time_limit = 10000, conf_r.get(\"time_limit\")\n",
        "    \n",
        "        generator.generate(max_generations=max_generations, time_limit=time_limit)\n",
        "        best_key = generator.top_k(k=1)[0]\n",
        "        new_root = SMILESStringNode.node_from_key(key=best_key)\n",
        "\n",
        "        auc = generator.top_k_auc(top_k=10, max_oracle_calls=max_generations)\n",
        "        generator.logger.info(\"top_10_auc: \" + str(auc))\n",
        "        sum_auc += auc\n",
        "        intermediate_value = sum_auc\n",
        "        trial.report(intermediate_value, i)\n",
        "        if trial.should_prune():\n",
        "            print(f\"{oracle_name} Trial {trial.number} - Step {0}: intermediate_score={intermediate_value:.3f}, params={trial.params}\")\n",
        "            raise optuna.TrialPruned()\n",
        "\n",
        "    trial.set_user_attr(\"sum_top_10_auc\", sum_auc)\n",
        "    print(f\"{oracle_name} Trial {trial.number}: sum_top_10_auc={sum_auc:.3f}\")\n",
        "    \n",
        "    return sum_auc"
      ]
    },
    {
      "cell_type": "code",
      "execution_count": null,
      "metadata": {},
      "outputs": [
        {
          "name": "stderr",
          "output_type": "stream",
          "text": [
            "[I 2025-07-18 14:27:47,060] A new study created in RDB with name: mol_opt_rnn_and_jensen\n"
          ]
        }
      ],
      "source": [
        "name = \"mol_opt_rnn_and_jensen\"\n",
        "storage = \"sqlite:///optuna/\" + name + \".db\"\n",
        "sampler = sampler=optuna.samplers.TPESampler(multivariate=True, group=True)\n",
        "pruner = optuna.pruners.MedianPruner(n_startup_trials=10, n_warmup_steps=0, interval_steps=1)\n",
        "study = optuna.create_study(direction=\"maximize\", study_name=name, storage=storage, sampler=sampler, pruner=pruner)\n",
        "study.enqueue_trial({\"sharpness\": 1.0, \"top_p\": 0.995, \"c\": 0.2, \"best_rate\": 0.8, \"prior\": 1.0, \"prior_weight\": 0, \"max_prior\": 0.5, \"eval_width\": 1, \"n_evals\": 1, \"n_tries\": 5})\n",
        "study.optimize(objective, n_trials=100000)"
      ]
    }
  ],
  "metadata": {
    "accelerator": "GPU",
    "colab": {
      "gpuType": "T4",
      "provenance": []
    },
    "kernelspec": {
      "display_name": "v3-forge",
      "language": "python",
      "name": "python3"
    },
    "language_info": {
      "codemirror_mode": {
        "name": "ipython",
        "version": 3
      },
      "file_extension": ".py",
      "mimetype": "text/x-python",
      "name": "python",
      "nbconvert_exporter": "python",
      "pygments_lexer": "ipython3",
      "version": "3.11.0"
    }
  },
  "nbformat": 4,
  "nbformat_minor": 0
}
