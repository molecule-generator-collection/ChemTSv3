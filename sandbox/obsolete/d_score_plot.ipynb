{
  "cells": [
    {
      "cell_type": "code",
      "execution_count": null,
      "metadata": {},
      "outputs": [],
      "source": [
        "# add path (for local)\n",
        "import sys\n",
        "repo_root = \"../\"\n",
        "if repo_root not in sys.path:\n",
        "    sys.path.insert(0, repo_root)"
      ]
    },
    {
      "cell_type": "code",
      "execution_count": null,
      "metadata": {},
      "outputs": [],
      "source": [
        "import pandas as pd\n",
        "\n",
        "df = pd.read_csv(\"generation_result/temp.csv\")\n",
        "# print(df.head())"
      ]
    },
    {
      "cell_type": "code",
      "execution_count": null,
      "metadata": {},
      "outputs": [],
      "source": [
        "import matplotlib.pyplot as plt\n",
        "from utils import moving_average, max_gauss, min_gauss\n",
        "\n",
        "window = 0.005\n",
        "linewidth = 0.8\n",
        "x = df[\"order\"]\n",
        "\n",
        "fig, ax = plt.subplots()\n",
        "for ytick in ax.get_yticks():\n",
        "    ax.axhline(y=ytick, color='gray', linestyle='--', linewidth=0.5)\n",
        "\n",
        "y1 = df[\"solubility\"]\n",
        "y1 = [max_gauss(v, a=1, mu=-2, sigma=0.6) for v in y1]\n",
        "plt.plot(x, moving_average(y1, window), label=\"solubility\", linewidth=linewidth, color=\"orchid\")\n",
        "\n",
        "y2 = df[\"permeability\"]\n",
        "y2 = [max_gauss(v, a=1, mu=1, sigma=1) for v in y2]\n",
        "plt.plot(x, moving_average(y2, window), label=\"permeability\", linewidth=linewidth, color=\"yellowgreen\")\n",
        "\n",
        "y3 = df[\"metabolic_stability\"]\n",
        "y3 = [max_gauss(v, a=1, mu=75, sigma=20) for v in y3]\n",
        "plt.plot(x, moving_average(y3, window), label=\"metabolic_stability\", linewidth=linewidth, color=\"yellow\")\n",
        "\n",
        "y4 = df[\"toxicity\"]\n",
        "y4 = [min_gauss(v, a=1, mu=5.5, sigma=0.5) for v in y4]\n",
        "plt.plot(x, moving_average(y4, window), label=\"toxicity\", linewidth=linewidth, color=\"slateblue\")\n",
        "\n",
        "y5 = df[\"sa_score\"]\n",
        "y5 = [max_gauss(-v, a=1, mu=-3, sigma=2) for v in y5]\n",
        "plt.plot(x, moving_average(y5, window), label=\"sa_score\", linewidth=linewidth, color=\"green\")\n",
        "\n",
        "y6 = df[\"qed\"]\n",
        "y6 = [max_gauss(v, a=1, mu=0.8, sigma=0.25) for v in y6]\n",
        "plt.plot(x, moving_average(y6, window), label=\"qed\", linewidth=linewidth, color=\"sienna\")\n",
        "\n",
        "plt.title(\"ma_window=\" + str(window))\n",
        "# plt.legend()\n",
        "plt.show()"
      ]
    },
    {
      "cell_type": "code",
      "execution_count": null,
      "metadata": {},
      "outputs": [],
      "source": [
        "window = 0.005\n",
        "linewidth = 0.8\n",
        "x = df[\"order\"]\n",
        "\n",
        "y1 = df[\"egfr\"]\n",
        "plt.plot(x, moving_average(y1, window), label=\"solubility\", linewidth=linewidth, color=\"steelblue\")\n",
        "y2 = df[\"pdgfr_beta\"]\n",
        "plt.plot(x, moving_average(y2, window), label=\"permeability\", linewidth=linewidth, color=\"deepskyblue\")\n",
        "y3 = df[\"ephb4\"]\n",
        "plt.plot(x, moving_average(y3, window), label=\"metabolic_stability\", linewidth=linewidth, color=\"darkgray\")\n",
        "y4 = df[\"abl\"]\n",
        "plt.plot(x, moving_average(y4, window), label=\"toxicity\", linewidth=linewidth, color=\"forestgreen\")\n",
        "y5 = df[\"fgfr1\"]\n",
        "plt.plot(x, moving_average(y5, window), label=\"sa_score\", linewidth=linewidth, color=\"hotpink\")\n",
        "y6 = df[\"vegfr2\"]\n",
        "plt.plot(x, moving_average(y6, window), label=\"qed\", linewidth=linewidth, color=\"mediumpurple\")\n",
        "y7 = df[\"lck\"]\n",
        "plt.plot(x, moving_average(y7, window), label=\"qed\", linewidth=linewidth, color=\"darkkhaki\")\n",
        "y8 = df[\"src\"]\n",
        "plt.plot(x, moving_average(y8, window), label=\"qed\", linewidth=linewidth, color=\"indianred\")\n",
        "y9 = df[\"erbb2\"]\n",
        "plt.plot(x, moving_average(y9, window), label=\"qed\", linewidth=linewidth, color=\"darkorange\")\n",
        "\n",
        "plt.ylim((4.7, 8.2))\n",
        "plt.grid(axis=\"y\")\n",
        "plt.title(\"ma_window=\" + str(window))\n",
        "# plt.legend()\n",
        "plt.show()"
      ]
    },
    {
      "cell_type": "code",
      "execution_count": null,
      "metadata": {},
      "outputs": [],
      "source": [
        "import matplotlib.pyplot as plt\n",
        "from utils import moving_average, max_gauss, min_gauss\n",
        "\n",
        "window = 0.05\n",
        "x = df[\"order\"]\n",
        "\n",
        "fig, ax = plt.subplots()\n",
        "for ytick in ax.get_yticks():\n",
        "    ax.axhline(y=ytick, color='gray', linestyle='--', linewidth=0.5)\n",
        "\n",
        "y1 = df[\"d_score_reward\"]\n",
        "plt.plot(x, moving_average(y1, window), label=\"d_score\", linewidth=linewidth)\n",
        "\n",
        "plt.ylim((0,0.6))\n",
        "plt.title(\"ma_window=\" + str(window))\n",
        "plt.legend()\n",
        "plt.show()"
      ]
    }
  ],
  "metadata": {
    "accelerator": "GPU",
    "colab": {
      "gpuType": "T4",
      "provenance": []
    },
    "kernelspec": {
      "display_name": "v3-forge",
      "language": "python",
      "name": "python3"
    },
    "language_info": {
      "codemirror_mode": {
        "name": "ipython",
        "version": 3
      },
      "file_extension": ".py",
      "mimetype": "text/x-python",
      "name": "python",
      "nbconvert_exporter": "python",
      "pygments_lexer": "ipython3",
      "version": "3.11.0"
    }
  },
  "nbformat": 4,
  "nbformat_minor": 0
}
