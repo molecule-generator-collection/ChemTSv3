{
  "cells": [
    {
      "cell_type": "code",
      "execution_count": 1,
      "metadata": {},
      "outputs": [],
      "source": [
        "# add path (for local)\n",
        "import sys\n",
        "repo_root = \"../../\"\n",
        "if repo_root not in sys.path:\n",
        "    sys.path.insert(0, repo_root)"
      ]
    },
    {
      "cell_type": "code",
      "execution_count": null,
      "metadata": {},
      "outputs": [
        {
          "data": {
            "text/plain": [
              "'CC(C)C(C(=O)O)C1=CC=C(C(C)C)C=C1'"
            ]
          },
          "execution_count": 6,
          "metadata": {},
          "output_type": "execute_result"
        }
      ],
      "source": [
        "from openai import OpenAI\n",
        "\n",
        "api_key = \"\"\n",
        "\n",
        "smiles = \"c1cc(CC(C)C)ccc1C(C)C(=O)O\"\n",
        "prompt = \"I will give you a molecule as SMILES. Please transfrom a given molecule to improve permeability, and return it as SMILES string. Don't include anything else other than SMILES in the output. Starting molecule: ###SMILES###\"\n",
        "prompt = prompt.replace(\"###SMILES###\", smiles)\n",
        "\n",
        "def ask(prompt: str, api_key: str, model: str = \"gpt-4o-mini\") -> str:\n",
        "    client = OpenAI(api_key=api_key)\n",
        "    resp = client.responses.create(model=model, input=prompt)\n",
        "    return resp.output_text\n",
        "\n",
        "ask(prompt=prompt, api_key=api_key)"
      ]
    },
    {
      "cell_type": "code",
      "execution_count": null,
      "metadata": {},
      "outputs": [],
      "source": [
        "from rdkit import Chem\n",
        "from rdkit.Chem import AllChem\n",
        "from utils import draw_mol\n",
        "\n",
        "mol = Chem.MolFromSmiles(\"NCCCC(=O)O\")\n",
        "draw_mol(mol, 100, 100)\n",
        "# mol = Chem.MolFromSmiles(\"CCc1ccccc1\")\n",
        "# mol = Chem.MolFromSmiles(\"O[C@H](c1cncnc1C(CC(F)F)F)C(=O)[O-]\")\n",
        "# mol = Chem.AddHs(mol)\n",
        "\n",
        "# smirks_list = [\n",
        "#     \"[cH:1]>>[c:1]C\", \"[cH:1]>>[c:1]CC\", \"[cH:1]>>[c:1]F\", \"[cH:1]>>[c:1]Cl\", \"[cH:1]>>[c:1]O\", \"[cH:1]>>[c:1][N+](=O)[O-]\", # benzene-derivative\n",
        "#     \"[O:1][H]>>[O:1]C(C)=O\", \"[O:1][H]>>[O:1]C\", \"[O:1][H]>>[O:1]S(=O)(=O)c1ccc(C)cc1\", # alcohol\n",
        "#     \"[N:1]([H])[H]>>[N:1]C(C)=O\", \"[N:1]([H])[H]>>[N:1]C(=O)OC(C)(C)C\", \"[N:1]([H])[H]>>[N:1]S(=O)(=O)c1ccccc1\", # amine\n",
        "#     \"[C:1](=O)[O:2][H]>>[C:1](=O)[O:2]C\", \"[C:1](=O)[OH]>>[C:1](=O)[NH2]\", \"[C:1](=O)[OH]>>[C:1](=O)Cl\", # carboxylic acid\n",
        "#     \"[c:1][Br]>>[c:1]c1ccccc1\", \"[c:1][Cl]>>[c:1]N\", # cross-coupling # \"[c:1][I]>>[c:1]C#CH\"?\n",
        "#     \"[C:1]=[C:2]>>[C:1](O)[C:2](O)\", \"[C:1]=[C:2]>>[C:1](Br)[C:2](Br)\", \"[C:1](=O)[C:2]>>[C:1](=N[C:2])\" # misc\n",
        "# ]\n",
        "smirks_list = [\"[N:1]>>[N:1]C(=O)OC(C)(C)C\"]\n",
        "\n",
        "generated_mols = []\n",
        "for smarts in smirks_list:\n",
        "    try:\n",
        "        rxn = AllChem.ReactionFromSmarts(smarts)\n",
        "\n",
        "        products = rxn.RunReactants((mol,))\n",
        "        for ps in products:\n",
        "            for p in ps:\n",
        "                generated_mols.append(p)\n",
        "    except:\n",
        "        continue\n",
        "        \n",
        "unique_smiles = set()\n",
        "unique_mols = []\n",
        "\n",
        "for mol in generated_mols:\n",
        "    try:\n",
        "        mol = Chem.RemoveHs(mol)\n",
        "        smiles = Chem.MolToSmiles(mol, canonical=True)\n",
        "        if smiles not in unique_smiles:\n",
        "            unique_smiles.add(smiles)\n",
        "            unique_mols.append(mol)\n",
        "    except:\n",
        "        continue\n",
        "        \n",
        "for mol in unique_mols:\n",
        "    draw_mol(mol, 100, 100)"
      ]
    },
    {
      "cell_type": "code",
      "execution_count": null,
      "metadata": {},
      "outputs": [],
      "source": [
        "from rdkit import Chem\n",
        "from ClickReaction import AlkalineEsterHydrolysis, AmideCoupling, AmideCouplingWithAnilines, BocRemoval, CuAAC, FmocRemoval, SulfonAmideFormation, SuzukiMiyaura\n",
        "\n",
        "patterns = {\n",
        "    \"carboxylic_acid\": Chem.MolFromSmarts(\"C(=O)[OH]\"),\n",
        "    \"amine\": Chem.MolFromSmarts(\"[NX3;H2,H1;!$(NC=O)]\"),\n",
        "    \"aniline\": Chem.MolFromSmarts(\"c[NX3;H2,H1]\"),\n",
        "    \"alkyne\": Chem.MolFromSmarts(\"C#C\"),\n",
        "    \"azide\": Chem.MolFromSmarts(\"N=[N+]=[N-]\"),\n",
        "    \"sulfonyl_halide\": Chem.MolFromSmarts(\"S(=O)(=O)[Cl,Br,F,I]\"),\n",
        "    \"aryl_halide\": Chem.MolFromSmarts(\"c[Cl,Br,I,F]\"),\n",
        "    \"boronic_acid\": Chem.MolFromSmarts(\"B(O)O\"),\n",
        "}\n",
        "\n",
        "def detect_functional_groups(mol):\n",
        "    results = {}\n",
        "    for name, patt in patterns.items():\n",
        "        results[name] = mol.HasSubstructMatch(patt)\n",
        "    return results\n",
        "\n",
        "initial_mol = Chem.MolFromSmiles(\"O=C(/[O-])c1cncnc1Cc1noc(-c2ccncc2)n1\")\n",
        "results = []\n",
        "\n",
        "for reaction in [AlkalineEsterHydrolysis, BocRemoval, FmocRemoval]:\n",
        "    try:\n",
        "        result = reaction(initial_mol).get_product()\n",
        "        results += result\n",
        "    except:\n",
        "        pass\n",
        "\n",
        "mol_is = detect_functional_groups(initial_mol)\n",
        "\n",
        "print(mol_is)\n",
        "\n",
        "for r in results:\n",
        "    print(Chem.MolToSmiles(r))"
      ]
    },
    {
      "cell_type": "code",
      "execution_count": null,
      "metadata": {},
      "outputs": [],
      "source": [
        "from transition import BioT5Transition\n",
        "from node import MolStringNode\n",
        "from language import SELFIES\n",
        "from utils import draw_mol\n",
        "\n",
        "transition = BioT5Transition(target_objective=\"improve LogP value\")\n",
        "root = MolStringNode.node_from_key(\"[C][=C][C][=C][C][=C][Ring1][=Branch1]\", lang=SELFIES())\n",
        "child = transition.sample_transition(root)\n",
        "mol = child.mol()\n",
        "\n",
        "draw_mol(mol)"
      ]
    },
    {
      "cell_type": "code",
      "execution_count": null,
      "metadata": {},
      "outputs": [],
      "source": [
        "import pandas as pd\n",
        "\n",
        "df = pd.read_csv(\"generation_result/temp.csv\")\n",
        "df = df.iloc[-1000:, :] # for faster test\n",
        "df"
      ]
    },
    {
      "cell_type": "code",
      "execution_count": null,
      "metadata": {},
      "outputs": [],
      "source": [
        "from rdkit import Chem\n",
        "df[\"mol\"] = df[\"key\"].apply(Chem.MolFromSmiles)"
      ]
    },
    {
      "cell_type": "code",
      "execution_count": null,
      "metadata": {},
      "outputs": [],
      "source": [
        "df[\"mol\"][199043]"
      ]
    },
    {
      "cell_type": "code",
      "execution_count": null,
      "metadata": {},
      "outputs": [],
      "source": [
        "from rdkit.Chem import rdMMPA\n",
        "\n",
        "def get_fragments(mol):\n",
        "    return rdMMPA.FragmentMol(\n",
        "        mol,\n",
        "        maxCuts=3,\n",
        "        maxCutBonds=20,\n",
        "        resultsAsMols=True\n",
        "    )\n",
        "\n",
        "fragment_map = {}\n",
        "for idx, row in df.iterrows():\n",
        "    # print(idx)\n",
        "    frags = get_fragments(row[\"mol\"])\n",
        "    for core, sidechain in frags:\n",
        "        if core is None or sidechain is None:\n",
        "            continue\n",
        "        key = (Chem.MolToSmiles(core),)\n",
        "        val = (Chem.MolToSmiles(sidechain), row[\"d_score_reward\"], row[\"key\"])\n",
        "        fragment_map.setdefault(key, []).append(val)\n",
        "        # print(key, val)\n",
        "\n",
        "results = []\n",
        "for core, entries in fragment_map.items():\n",
        "    if len(entries) < 2:\n",
        "        continue\n",
        "    for i in range(len(entries)):\n",
        "        for j in range(i + 1, len(entries)):\n",
        "            sc1, p1, s1 = entries[i]\n",
        "            sc2, p2, s2 = entries[j]\n",
        "            delta = p2 - p1\n",
        "            results.append({\n",
        "                \"core\": core,\n",
        "                \"sc1\": sc1,\n",
        "                \"sc2\": sc2,\n",
        "                \"delta_property\": delta,\n",
        "                \"smiles1\": s1,\n",
        "                \"smiles2\": s2\n",
        "            })\n",
        "\n",
        "mmpa_df = pd.DataFrame(results)"
      ]
    },
    {
      "cell_type": "code",
      "execution_count": null,
      "metadata": {},
      "outputs": [],
      "source": [
        "mmpa_df"
      ]
    },
    {
      "cell_type": "code",
      "execution_count": null,
      "metadata": {},
      "outputs": [],
      "source": [
        "mmpa_df[\"smirks\"] = mmpa_df.apply(lambda row: f\"{row['sc1']}>>{row['sc2']}\", axis=1)\n",
        "\n",
        "smirks = (\n",
        "    mmpa_df.groupby(\"smirks\")[\"delta_property\"]\n",
        "    .agg([\"mean\", \"std\", \"count\"])\n",
        "    .reset_index()\n",
        "    # .sort_values(\"mean\", ascending=False)\n",
        ")"
      ]
    },
    {
      "cell_type": "code",
      "execution_count": null,
      "metadata": {},
      "outputs": [],
      "source": [
        "smirks"
      ]
    },
    {
      "cell_type": "code",
      "execution_count": null,
      "metadata": {},
      "outputs": [],
      "source": [
        "from rdkit.Chem import AllChem\n",
        "\n",
        "def apply_smirks(mol: Chem.Mol, smirks: str):\n",
        "    try:\n",
        "        rxn = AllChem.ReactionFromSmarts(smirks, useSmiles=True)\n",
        "        products = rxn.RunReactants((mol,))\n",
        "        return products\n",
        "    except Exception as e:\n",
        "        return []"
      ]
    },
    {
      "cell_type": "code",
      "execution_count": null,
      "metadata": {},
      "outputs": [],
      "source": [
        "culled_smirks = smirks[smirks[\"mean\"] > 0]\n",
        "culled_smirks = culled_smirks[culled_smirks[\"count\"] > 1]"
      ]
    },
    {
      "cell_type": "code",
      "execution_count": null,
      "metadata": {},
      "outputs": [],
      "source": [
        "mol = Chem.MolFromSmiles(\"O[C@H](c1cncnc1C(CC(F)F)F)C(=O)[O-]\")"
      ]
    },
    {
      "cell_type": "code",
      "execution_count": null,
      "metadata": {},
      "outputs": [],
      "source": [
        "for s in culled_smirks[\"smirks\"]:\n",
        "    result = apply_smirks(mol, s)\n",
        "    if result:\n",
        "        print(result)"
      ]
    },
    {
      "cell_type": "code",
      "execution_count": null,
      "metadata": {},
      "outputs": [],
      "source": [
        "from utils import draw_mol\n",
        "mol = Chem.MolFromSmiles(\"O[C@H](c1cncnc1C(CC(F)F)F)C(=O)[O-]\")\n",
        "draw_mol(mol)"
      ]
    }
  ],
  "metadata": {
    "accelerator": "GPU",
    "colab": {
      "gpuType": "T4",
      "provenance": []
    },
    "kernelspec": {
      "display_name": "v3env",
      "language": "python",
      "name": "python3"
    },
    "language_info": {
      "codemirror_mode": {
        "name": "ipython",
        "version": 3
      },
      "file_extension": ".py",
      "mimetype": "text/x-python",
      "name": "python",
      "nbconvert_exporter": "python",
      "pygments_lexer": "ipython3",
      "version": "3.11.11"
    }
  },
  "nbformat": 4,
  "nbformat_minor": 0
}
