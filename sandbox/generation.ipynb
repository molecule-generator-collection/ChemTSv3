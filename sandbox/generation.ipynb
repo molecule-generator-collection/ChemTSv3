{
  "cells": [
    {
      "cell_type": "code",
      "execution_count": 11,
      "metadata": {},
      "outputs": [],
      "source": [
        "# add path (for local)\n",
        "import sys\n",
        "repo_root = \"../\"\n",
        "if repo_root not in sys.path:\n",
        "    sys.path.insert(0, repo_root)"
      ]
    },
    {
      "cell_type": "code",
      "execution_count": 12,
      "metadata": {},
      "outputs": [
        {
          "name": "stdout",
          "output_type": "stream",
          "text": [
            "The autoreload extension is already loaded. To reload it, use:\n",
            "  %reload_ext autoreload\n"
          ]
        }
      ],
      "source": [
        "%load_ext autoreload\n",
        "%autoreload 2\n",
        "\n",
        "from rdkit import RDLogger\n",
        "from utils import conf_from_yaml, generator_from_conf\n",
        "RDLogger.DisableLog('rdApp.*') # use debug: true to log invalid mols\n",
        "\n",
        "def generate_and_analyze(generator, conf):\n",
        "    generator.generate(time_limit=conf.get(\"time_limit\"), max_generations=conf.get(\"max_generations\"))\n",
        "    generator.plot(**conf.get(\"plot_args\", {}))\n",
        "    generator.analyze()\n",
        "\n",
        "def queue_generations(*args: str):\n",
        "    for yaml_path in args:\n",
        "        conf = conf_from_yaml(yaml_path, repo_root)\n",
        "        generator = generator_from_conf(conf, repo_root)\n",
        "        generate_and_analyze(generator, conf)"
      ]
    },
    {
      "cell_type": "code",
      "execution_count": null,
      "metadata": {
        "colab": {
          "base_uri": "https://localhost:8080/",
          "height": 1000
        },
        "id": "KsQZ5Dx_zWtD",
        "outputId": "ad4867f1-023b-4634-ae52-fa0f64488692"
      },
      "outputs": [
        {
          "name": "stderr",
          "output_type": "stream",
          "text": [
            "seed: 1752139933\n",
            "Starting generation...\n",
            "<Best reward updated> 1 - time: 0.00, reward: 0.0000, node: Cc1ncncn1\n",
            "<Best reward updated> 40 - time: 0.62, reward: 0.1975, node: Cc1cc(-c2ccoc2)c2ccccc2c1\n",
            "<Best reward updated> 41 - time: 0.71, reward: 0.2226, node: c1ccc2cc(Cc3cncnc3)ccc2c1\n",
            "<Best reward updated> 43 - time: 0.74, reward: 0.2246, node: c1ccc2cc(Cc3ccc4[nH]ccc4c3)ccc2c1\n",
            "<Best reward updated> 45 - time: 0.77, reward: 0.2513, node: Cc1ccc2c(-c3ccccn3)cccc2c1\n",
            "<Best reward updated> 48 - time: 0.83, reward: 0.3477, node: Cc1ccc2cc(-c3cncnc3)ccc2c1\n",
            "<Best reward updated> 57 - time: 0.98, reward: 0.3878, node: CS(=O)(=O)c1ccc2ccccc2c1\n",
            "100 - time: 1.71, average over 100: 0.1068\n",
            "200 - time: 3.45, average over 100: 0.1329\n",
            "<Best reward updated> 214 - time: 3.66, reward: 0.4014, node: ICc1cncnc1\n",
            "<Best reward updated> 222 - time: 3.78, reward: 0.4239, node: ICc1csc2ncncc12\n",
            "<Best reward updated> 236 - time: 4.00, reward: 0.4914, node: ICc1cccc2cncnc12\n",
            "<Best reward updated> 244 - time: 4.12, reward: 0.5277, node: Ic1cccc2cncnc12\n",
            "300 - time: 5.75, average over 100: 0.1764\n",
            "400 - time: 7.51, average over 100: 0.2231\n",
            "500 - time: 9.22, average over 100: 0.2576\n",
            "<Best reward updated> 513 - time: 9.53, reward: 0.5374, node: Nc1cc(I)c2ncncc2c1\n",
            "600 - time: 11.60, average over 100: 0.2530\n",
            "700 - time: 13.97, average over 100: 0.2803\n",
            "<Best reward updated> 736 - time: 14.82, reward: 0.5409, node: N#Cc1ccc2cncnc2c1I\n",
            "800 - time: 16.27, average over 100: 0.2773\n",
            "900 - time: 18.65, average over 100: 0.2678\n",
            "1000 - time: 21.04, average over 100: 0.2876\n",
            "1100 - time: 26.35, average over 100: 0.2807\n",
            "1200 - time: 31.16, average over 100: 0.2736\n",
            "1300 - time: 36.12, average over 100: 0.2696\n",
            "1400 - time: 40.81, average over 100: 0.2883\n",
            "1500 - time: 46.56, average over 100: 0.2781\n",
            "<Best reward updated> 1563 - time: 49.03, reward: 0.5586, node: N#Cc1ccc2cncnc2c1CI\n",
            "1600 - time: 49.95, average over 100: 0.2569\n",
            "1700 - time: 56.15, average over 100: 0.2775\n",
            "1800 - time: 64.88, average over 100: 0.2669\n",
            "1900 - time: 71.23, average over 100: 0.2731\n",
            "2000 - time: 75.59, average over 100: 0.2611\n",
            "2100 - time: 79.31, average over 100: 0.2333\n",
            "2200 - time: 82.18, average over 100: 0.2527\n",
            "2300 - time: 85.62, average over 100: 0.2986\n",
            "2400 - time: 89.23, average over 100: 0.2562\n",
            "2500 - time: 92.22, average over 100: 0.2561\n",
            "2600 - time: 95.93, average over 100: 0.2702\n",
            "2700 - time: 99.66, average over 100: 0.2622\n",
            "<Best reward updated> 2779 - time: 101.88, reward: 0.5914, node: c1cc(-c2ccc3cncnc3c2)ccn1\n",
            "2800 - time: 102.84, average over 100: 0.2772\n",
            "2900 - time: 106.45, average over 100: 0.2861\n",
            "3000 - time: 109.88, average over 100: 0.2589\n",
            "3100 - time: 113.03, average over 100: 0.2912\n",
            "3200 - time: 115.84, average over 100: 0.2846\n",
            "3300 - time: 118.72, average over 100: 0.2893\n",
            "3400 - time: 121.57, average over 100: 0.2831\n",
            "3500 - time: 124.37, average over 100: 0.2963\n",
            "3600 - time: 127.13, average over 100: 0.2768\n",
            "3700 - time: 129.74, average over 100: 0.2794\n",
            "3800 - time: 132.46, average over 100: 0.2905\n",
            "3900 - time: 135.19, average over 100: 0.2865\n",
            "4000 - time: 137.75, average over 100: 0.2802\n",
            "4100 - time: 140.36, average over 100: 0.2972\n",
            "4200 - time: 142.99, average over 100: 0.2630\n",
            "4300 - time: 145.59, average over 100: 0.2800\n",
            "4400 - time: 148.23, average over 100: 0.2842\n",
            "4500 - time: 150.87, average over 100: 0.3197\n",
            "4600 - time: 153.61, average over 100: 0.3039\n",
            "4700 - time: 156.26, average over 100: 0.3051\n",
            "4800 - time: 158.89, average over 100: 0.2796\n",
            "4900 - time: 161.52, average over 100: 0.3048\n",
            "5000 - time: 164.11, average over 100: 0.2880\n",
            "5100 - time: 166.71, average over 100: 0.2711\n",
            "5200 - time: 169.85, average over 100: 0.2909\n",
            "5300 - time: 174.89, average over 100: 0.2931\n",
            "5400 - time: 179.85, average over 100: 0.3178\n",
            "5500 - time: 184.28, average over 100: 0.2929\n",
            "<Best reward updated> 5526 - time: 185.04, reward: 0.5949, node: Ic1ccc2cncnc2c1\n",
            "5600 - time: 186.89, average over 100: 0.3019\n",
            "5700 - time: 193.06, average over 100: 0.2781\n",
            "5800 - time: 197.68, average over 100: 0.3018\n",
            "5900 - time: 201.90, average over 100: 0.2989\n",
            "6000 - time: 205.64, average over 100: 0.2960\n",
            "6100 - time: 209.96, average over 100: 0.2889\n",
            "6200 - time: 214.60, average over 100: 0.2920\n",
            "6300 - time: 219.02, average over 100: 0.3107\n",
            "6400 - time: 223.19, average over 100: 0.3006\n",
            "6500 - time: 226.93, average over 100: 0.2958\n",
            "6600 - time: 232.23, average over 100: 0.2758\n",
            "<Best reward updated> 6652 - time: 234.17, reward: 0.6250, node: Nc1cc2cncnc2cc1I\n",
            "6700 - time: 236.29, average over 100: 0.2929\n",
            "6800 - time: 239.75, average over 100: 0.2765\n"
          ]
        }
      ],
      "source": [
        "# start generation\n",
        "\n",
        "# yaml_path = \"config/mcts_helm.yaml\"\n",
        "# yaml_path = \"config/mcts_smiles.yaml\"\n",
        "# yaml_path = \"config/model_test.yaml\"\n",
        "# yaml_path = \"config/mcts_d_score.yaml\"\n",
        "# yaml_path = \"config/mcts_biot5.yaml\"\n",
        "yaml_path = \"config/mcts_smirks.yaml\"\n",
        "\n",
        "conf = conf_from_yaml(yaml_path, repo_root)\n",
        "generator = generator_from_conf(conf, repo_root)\n",
        "generate_and_analyze(generator, conf)\n",
        "# queue_generations(c1, c2)"
      ]
    },
    {
      "cell_type": "code",
      "execution_count": 17,
      "metadata": {},
      "outputs": [
        {
          "data": {
            "text/plain": [
              "3.2626957863833743"
            ]
          },
          "execution_count": 17,
          "metadata": {},
          "output_type": "execute_result"
        }
      ],
      "source": [
        "generator.root.sum_r"
      ]
    },
    {
      "cell_type": "code",
      "execution_count": 14,
      "metadata": {},
      "outputs": [
        {
          "data": {
            "image/jpeg": "[encoded data removed]",
            "image/png": "[encoded data removed]",
            "text/plain": [
              "<PIL.PngImagePlugin.PngImageFile image mode=RGB size=500x200>"
            ]
          },
          "metadata": {},
          "output_type": "display_data"
        }
      ],
      "source": [
        "from node import MolStringNode\n",
        "from language import SELFIES\n",
        "from utils import draw_mol\n",
        "x = MolStringNode.node_from_key(\"[C][C][O][C][=C][Branch1][C][Cl][C][=C][Branch1][C][Cl][C][Branch2][Ring2][=Branch2][C][C][C][C][C][C][C][C][C][C][C][C][C][Branch1][C][C][C][C][C][C][Branch1][C][C][C][C][C][C][Branch1][C][C][C].[Cl][=C][Branch1][C][Cl][C][=C][Ring2][Ring2][C][Cl]\", lang=SELFIES())\n",
        "mol = x.mol()\n",
        "draw_mol(mol, 500, 200)"
      ]
    },
    {
      "cell_type": "code",
      "execution_count": null,
      "metadata": {},
      "outputs": [
        {
          "name": "stderr",
          "output_type": "stream",
          "text": [
            "Starting generation...\n"
          ]
        }
      ],
      "source": [
        "# continue generation\n",
        "generator.generate(time_limit=conf.get(\"time_limit\") - generator.passed_time, max_generations=conf.get(\"max_generations\") - len(generator.unique_keys))\n",
        "generator.plot(**conf.get(\"plot_args\", {}))\n",
        "generator.analyze()"
      ]
    },
    {
      "cell_type": "code",
      "execution_count": 16,
      "metadata": {
        "id": "EC6dDxCrF1dA"
      },
      "outputs": [],
      "source": [
        "#save mcts\n",
        "save_path = generator.output_dir() + \"save.mcts\"\n",
        "generator.save(save_path)"
      ]
    },
    {
      "cell_type": "code",
      "execution_count": null,
      "metadata": {},
      "outputs": [],
      "source": [
        "#load generator and yaml\n",
        "from generator import Generator\n",
        "load_dir = \"generation_result/06-26_08-51/\"\n",
        "conf = conf_from_yaml(\"sandbox/\" + load_dir + \"setting.yaml\", repo_root)\n",
        "generator = generator_from_conf(conf, repo_root)\n",
        "generator = Generator.load(load_dir + \"save.mcts\", generator.transition)"
      ]
    },
    {
      "cell_type": "code",
      "execution_count": null,
      "metadata": {},
      "outputs": [],
      "source": [
        "#time test\n",
        "import cProfile\n",
        "import pstats\n",
        "\n",
        "profiler = cProfile.Profile()\n",
        "profiler.enable()\n",
        "conf = conf_from_yaml(yaml_path, repo_root)\n",
        "generator = generator_from_conf(conf, repo_root)\n",
        "generate_and_analyze(generator, conf)\n",
        "profiler.disable()\n",
        "\n",
        "stats = pstats.Stats(profiler)\n",
        "stats.sort_stats(\"cumtime\").print_stats(100)"
      ]
    }
  ],
  "metadata": {
    "accelerator": "GPU",
    "colab": {
      "gpuType": "T4",
      "provenance": []
    },
    "kernelspec": {
      "display_name": "v3-forge",
      "language": "python",
      "name": "python3"
    },
    "language_info": {
      "codemirror_mode": {
        "name": "ipython",
        "version": 3
      },
      "file_extension": ".py",
      "mimetype": "text/x-python",
      "name": "python",
      "nbconvert_exporter": "python",
      "pygments_lexer": "ipython3",
      "version": "3.11.0"
    }
  },
  "nbformat": 4,
  "nbformat_minor": 0
}
