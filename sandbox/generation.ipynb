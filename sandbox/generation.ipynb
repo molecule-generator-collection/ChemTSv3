{
  "cells": [
    {
      "cell_type": "code",
      "execution_count": 1,
      "metadata": {},
      "outputs": [],
      "source": [
        "# add path (for local)\n",
        "import sys\n",
        "repo_root = \"../\"\n",
        "if repo_root not in sys.path:\n",
        "    sys.path.insert(0, repo_root)"
      ]
    },
    {
      "cell_type": "code",
      "execution_count": 2,
      "metadata": {},
      "outputs": [
        {
          "name": "stderr",
          "output_type": "stream",
          "text": [
            "<frozen importlib._bootstrap>:241: RuntimeWarning: to-Python converter for boost::shared_ptr<RDKit::FilterHierarchyMatcher> already registered; second conversion method ignored.\n",
            "/home/fujii/anaconda3/envs/v3-forge/lib/python3.11/site-packages/tqdm/auto.py:21: TqdmWarning: IProgress not found. Please update jupyter and ipywidgets. See https://ipywidgets.readthedocs.io/en/stable/user_install.html\n",
            "  from .autonotebook import tqdm as notebook_tqdm\n"
          ]
        },
        {
          "name": "stdout",
          "output_type": "stream",
          "text": [
            "Loading BioT5 models...\n",
            "Model loading completed.\n"
          ]
        }
      ],
      "source": [
        "%load_ext autoreload\n",
        "%autoreload 2\n",
        "\n",
        "from rdkit import RDLogger\n",
        "from utils import generator_from_conf, conf_from_yaml\n",
        "RDLogger.DisableLog('rdApp.*') # use debug: true to log invalid mols\n",
        "\n",
        "def generate_and_analyze(generator, conf):\n",
        "    generator.generate(time_limit=conf.get(\"time_limit\"), max_generations=conf.get(\"max_generations\"))\n",
        "    generator.plot(**conf.get(\"plot_args\", {}))\n",
        "    generator.analyze()\n",
        "\n",
        "def queue_generations(*args: str):\n",
        "    for yaml_path in args:\n",
        "        conf = conf_from_yaml(yaml_path, repo_root)\n",
        "        generator = generator_from_conf(conf, repo_root)\n",
        "        generate_and_analyze(generator, conf)"
      ]
    },
    {
      "cell_type": "code",
      "execution_count": null,
      "metadata": {
        "colab": {
          "base_uri": "https://localhost:8080/",
          "height": 1000
        },
        "id": "KsQZ5Dx_zWtD",
        "outputId": "ad4867f1-023b-4634-ae52-fa0f64488692"
      },
      "outputs": [
        {
          "name": "stderr",
          "output_type": "stream",
          "text": [
            "seed: 1751425904\n",
            "Starting generation...\n"
          ]
        },
        {
          "name": "stderr",
          "output_type": "stream",
          "text": [
            "<best reward updated> order: 1, time: 0.00, reward: 0.1383, node: [O][C][=C][C][=C][C][=C][Ring1][=Branch1]\n",
            "<best reward updated> order: 2, time: 0.50, reward: 0.3353, node: [C][O][C][=C][C][=C][C][=C][Ring1][=Branch1][O][C][=C][C][=C][C][=C][Ring1][=Branch1]\n",
            "<best reward updated> order: 3, time: 0.50, reward: 0.3919, node: [C][O][C][=C][C][=C][C][=C][Ring1][=Branch1][O][C][=C][C][=C][Branch1][C][Cl][C][=C][Ring1][#Branch1]\n",
            "<best reward updated> order: 4, time: 1.41, reward: 0.4458, node: [C][O][C][=C][C][=C][C][Branch1][C][Cl][=C][Ring1][#Branch1][O][C][=C][C][=C][Branch1][C][Cl][C][=C][Ring1][#Branch1]\n",
            "<best reward updated> order: 5, time: 2.48, reward: 0.5442, node: [C][O][C][=C][C][Branch1][C][Cl][=C][Branch1][C][Cl][C][Branch1][C][Cl][=C][Ring1][=Branch2][O][C][=C][C][=C][Branch1][C][Cl][C][=C][Ring1][#Branch1]\n",
            "order: 6, time: 3.80, reward: 0.4068, node: [C][O][C][=C][Branch1][C][Cl][C][Branch1][C][Cl][=C][Branch1][C][Cl][C][Branch1][Ring1][O][C][=C][Ring1][O][Cl]\n",
            "<best reward updated> order: 7, time: 3.80, reward: 0.5684, node: [O][C][=C][Branch1][C][Cl][C][=C][Branch1][C][Cl][C][Branch1][C][Cl][=C][Ring1][=Branch2][O][C][=C][C][=C][Branch1][C][Cl][C][Branch1][C][Cl][=C][Ring1][Branch2]\n",
            "order: 8, time: 5.10, reward: 0.5651, node: [O][C][=C][Branch1][C][Cl][C][Branch1][C][Cl][=C][Branch1][C][Cl][C][Branch1][C][Cl][=C][Ring1][#Branch2][O][C][=C][C][=C][Branch1][C][I][C][=C][Ring1][#Branch1]\n",
            "<best reward updated> order: 9, time: 6.72, reward: 0.6503, node: [O][C][=C][Branch1][C][Cl][C][Branch1][C][Cl][=C][Branch1][C][Cl][C][Branch1][C][Cl][=C][Ring1][#Branch2][O][C][=C][C][Branch1][C][Cl][=C][Branch1][C][Cl][C][=C][Ring1][Branch2][Cl]\n",
            "order: 10, time: 8.48, reward: 0.6110, node: [O][C][=C][Branch1][C][Cl][C][=C][Branch1][C][Cl][C][Branch1][C][Cl][=C][Ring1][=Branch2][O][C][=C][C][Branch1][C][Cl][=C][Branch1][C][Cl][C][=C][Ring1][Branch2][Cl]\n",
            "order: 11, time: 9.89, reward: 0.4885, node: [O][=C][C][Branch1][C][Cl][=C][Branch1][C][Cl][C][Branch1][C][Cl][=C][Ring1][=Branch2][O][C][=C][C][=C][Branch1][C][Cl][C][Branch1][C][Cl][=C][Ring1][Branch2]\n",
            "order: 12, time: 11.28, reward: 0.6098, node: [O][C][=C][Branch1][C][I][C][Branch1][C][Cl][=C][Branch2][Ring1][#Branch1][O][C][=C][C][Branch1][C][Cl][=C][Branch1][C][Cl][C][Branch1][C][Cl][=C][Ring1][=Branch2][C][Branch1][C][Cl][=C][Ring2][Ring1][Ring2][Cl]\n",
            "order: 13, time: 11.28, reward: 0.4719, node: [O][=C][C][=C][Branch1][C][I][C][Branch2][Ring1][Branch1][O][C][=C][C][=C][Branch1][C][Cl][C][Branch1][C][I][=C][Ring1][Branch2][O][C][=C][Ring2][Ring1][C][I]\n",
            "order: 14, time: 16.25, reward: 0.5684, node: [O][C][=C][Branch1][C][Cl][C][=C][Branch1][C][Cl][C][Branch1][C][Cl][=C][Ring1][=Branch2][O][C][=C][C][=C][Branch1][C][Cl][C][=C][Ring1][#Branch1][Cl]\n",
            "<best reward updated> order: 15, time: 19.40, reward: 0.6864, node: [O][C][=C][Branch1][C][Cl][C][Branch1][C][Cl][=C][Branch1][C][Cl][C][Branch1][C][Cl][=C][Ring1][#Branch2][O][C][=C][C][Branch1][C][Cl][=C][Branch1][C][Cl][C][Branch1][C][Cl][=C][Ring1][=Branch2][Cl]\n",
            "order: 16, time: 21.12, reward: 0.6503, node: [O][C][=C][Branch1][C][Cl][C][=C][Branch1][C][Cl][C][Branch1][C][Cl][=C][Ring1][=Branch2][O][C][=C][C][Branch1][C][Cl][=C][Branch1][C][Cl][C][Branch1][C][Cl][=C][Ring1][=Branch2][Cl]\n",
            "order: 17, time: 22.78, reward: 0.6110, node: [O][C][=C][C][Branch1][C][Cl][=C][Branch1][C][Cl][C][Branch1][C][Cl][=C][Ring1][=Branch2][O][C][=C][C][Branch1][C][Cl][=C][Branch1][C][Cl][C][=C][Ring1][Branch2][Cl]\n",
            "order: 18, time: 24.44, reward: 0.5997, node: [O].[O][=C][Branch1][C][O][C][=C][Branch1][C][Cl][C][Branch1][C][Cl][=C][Branch1][C][Cl][C][Branch1][C][Cl][=C][Ring1][#Branch2][O][C][=C][C][Branch1][C][Cl][=C][Branch1][C][Cl][C][=C][Ring1][Branch2][Cl]\n",
            "order: 19, time: 27.83, reward: 0.5640, node: [O].[O][=C][C][=C][Branch1][C][Cl][C][Branch1][C][Cl][=C][Branch1][C][Cl][C][Branch1][C][Cl][=C][Ring1][#Branch2][O][C][=C][C][=C][Branch1][C][Cl][C][=C][Ring1][#Branch1][Cl]\n",
            "order: 20, time: 35.94, reward: 0.2802, node: [O].[O][=C][Branch1][C][O][C][=C][Branch1][C][Cl][C][Branch1][C][Cl][=C][Branch1][C][Cl][C][Branch1][C][Cl][=C][Ring1][#Branch2][O]\n",
            "order: 21, time: 37.43, reward: 0.6206, node: [O][C][=C][Branch1][C][Cl][C][=C][Branch1][C][Cl][C][Branch1][C][Cl][=C][Ring1][=Branch2][O][C@H1][C][=C][Branch1][C][Cl][C][Branch1][C][Cl][=C][Branch1][C][Cl][C][Branch1][C][Cl][=C][Ring1][#Branch2][O]\n",
            "order: 22, time: 47.35, reward: 0.6499, node: [O][=C][Branch1][C][O][C][=C][Branch1][C][Cl][C][Branch1][C][Cl][=C][Branch1][C][Cl][C][Branch1][C][Cl][=C][Ring1][#Branch2][O][C][=C][C][Branch1][C][Cl][=C][Branch1][C][Cl][C][=C][Ring1][Branch2][Cl]\n",
            "order: 23, time: 50.66, reward: 0.6864, node: [O][C][=C][Branch1][C][Cl][C][=C][Branch1][C][Cl][C][Branch1][C][Cl][=C][Ring1][=Branch2][O][C][=C][Branch1][C][Cl][C][Branch1][C][Cl][=C][Branch1][C][Cl][C][Branch1][C][Cl][=C][Ring1][#Branch2][Cl]\n"
          ]
        }
      ],
      "source": [
        "# start generation\n",
        "c1 = \"config/mcts_helm.yaml\"\n",
        "c2 = \"config/mcts_smiles.yaml\"\n",
        "c3 = \"config/model_test.yaml\"\n",
        "c4 = \"config/mcts_d_score.yaml\"\n",
        "c5 = \"config/mcts_biot5.yaml\"\n",
        "\n",
        "conf = conf_from_yaml(c5, repo_root)\n",
        "generator = generator_from_conf(conf, repo_root)\n",
        "generate_and_analyze(generator, conf)\n",
        "# queue_generations(c1, c2)"
      ]
    },
    {
      "cell_type": "code",
      "execution_count": null,
      "metadata": {},
      "outputs": [],
      "source": [
        "#continue search\n",
        "generator.generate(time_limit=conf.get(\"time_limit\") - generator.passed_time, max_generations=conf.get(\"max_generations\") - len(generator.unique_keys))\n",
        "generator.plot(**conf.get(\"plot_args\", {}))\n",
        "generator.analyze()"
      ]
    },
    {
      "cell_type": "code",
      "execution_count": 16,
      "metadata": {
        "id": "EC6dDxCrF1dA"
      },
      "outputs": [],
      "source": [
        "#save mcts\n",
        "save_path = generator.output_dir() + \"save.mcts\"\n",
        "generator.save(save_path)"
      ]
    },
    {
      "cell_type": "code",
      "execution_count": null,
      "metadata": {},
      "outputs": [],
      "source": [
        "#load generator and yaml\n",
        "load_dir = \"generation_result/06-26_08-51/\"\n",
        "generator, conf = read_yaml(\"sandbox/\" + load_dir + \"setting.yaml\")\n",
        "generator = Generator.load(load_dir + \"save.mcts\", generator.transition)"
      ]
    },
    {
      "cell_type": "code",
      "execution_count": null,
      "metadata": {},
      "outputs": [],
      "source": [
        "#time test\n",
        "import cProfile\n",
        "import pstats\n",
        "\n",
        "profiler = cProfile.Profile()\n",
        "profiler.enable()\n",
        "read_yaml(c2)\n",
        "profiler.disable()\n",
        "\n",
        "stats = pstats.Stats(profiler)\n",
        "stats.sort_stats(\"cumtime\").print_stats(100)"
      ]
    }
  ],
  "metadata": {
    "accelerator": "GPU",
    "colab": {
      "gpuType": "T4",
      "provenance": []
    },
    "kernelspec": {
      "display_name": "v3-forge",
      "language": "python",
      "name": "python3"
    },
    "language_info": {
      "codemirror_mode": {
        "name": "ipython",
        "version": 3
      },
      "file_extension": ".py",
      "mimetype": "text/x-python",
      "name": "python",
      "nbconvert_exporter": "python",
      "pygments_lexer": "ipython3",
      "version": "3.11.0"
    }
  },
  "nbformat": 4,
  "nbformat_minor": 0
}
