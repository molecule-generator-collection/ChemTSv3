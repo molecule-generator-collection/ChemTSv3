{
  "cells": [
    {
      "cell_type": "code",
      "execution_count": null,
      "metadata": {},
      "outputs": [],
      "source": [
        "# add path (for local)\n",
        "import sys\n",
        "repo_root = \"../\"\n",
        "if repo_root not in sys.path:\n",
        "    sys.path.insert(0, repo_root)"
      ]
    },
    {
      "cell_type": "code",
      "execution_count": null,
      "metadata": {},
      "outputs": [],
      "source": [
        "from rdkit import RDLogger\n",
        "from utils import conf_from_yaml, generator_from_conf\n",
        "RDLogger.DisableLog('rdApp.*') # use debug: true to log invalid mols\n",
        "\n",
        "def generate_and_analyze(generator, conf):\n",
        "    generator.generate(time_limit=conf.get(\"time_limit\"), max_generations=conf.get(\"max_generations\"))\n",
        "    generator.plot(**conf.get(\"plot_args\", {}))\n",
        "    generator.analyze()\n",
        "\n",
        "def queue_generations(*args: str):\n",
        "    for yaml_path in args:\n",
        "        conf = conf_from_yaml(yaml_path, repo_root)\n",
        "        generator = generator_from_conf(conf, repo_root)\n",
        "        generate_and_analyze(generator, conf)"
      ]
    },
    {
      "cell_type": "code",
      "execution_count": null,
      "metadata": {
        "colab": {
          "base_uri": "https://localhost:8080/",
          "height": 1000
        },
        "id": "KsQZ5Dx_zWtD",
        "outputId": "ad4867f1-023b-4634-ae52-fa0f64488692"
      },
      "outputs": [],
      "source": [
        "# start generation\n",
        "\n",
        "yaml_path = \"config/generation/mcts_smiles.yaml\"\n",
        "# yaml_path = \"config/generation/mcts_helm.yaml\"\n",
        "# yaml_path = \"config/generation/mcts_biot5.yaml\"\n",
        "# yaml_path = \"config/generation/mcts_smirks.yaml\"\n",
        "# yaml_path = \"config/generation/mcts_jensen.yaml\"\n",
        "# yaml_path = \"config/generation/heapq_smiles.yaml\"\n",
        "# yaml_path = \"config/generation/random.yaml\"\n",
        "# yaml_path = \"config/generation/mol_opt/jnk3.yaml\"\n",
        "\n",
        "conf = conf_from_yaml(yaml_path, repo_root)\n",
        "generator = generator_from_conf(conf, repo_root)\n",
        "generate_and_analyze(generator, conf)\n",
        "# queue_generations(c1, c2)"
      ]
    },
    {
      "cell_type": "code",
      "execution_count": null,
      "metadata": {},
      "outputs": [],
      "source": [
        "# continue generation\n",
        "generator.generate(time_limit=conf.get(\"time_limit\") - generator.passed_time, max_generations=conf.get(\"max_generations\") - len(generator.unique_keys))\n",
        "generator.plot(**conf.get(\"plot_args\", {}))\n",
        "generator.analyze()"
      ]
    },
    {
      "cell_type": "code",
      "execution_count": null,
      "metadata": {
        "id": "EC6dDxCrF1dA"
      },
      "outputs": [],
      "source": [
        "# save mcts\n",
        "save_path = generator.output_dir() + \"save.mcts\"\n",
        "generator.save(save_path)"
      ]
    },
    {
      "cell_type": "code",
      "execution_count": null,
      "metadata": {},
      "outputs": [],
      "source": [
        "# load generator and yaml\n",
        "from generator import Generator\n",
        "load_dir = \"generation_result/06-26_08-51/\"\n",
        "conf = conf_from_yaml(\"sandbox/\" + load_dir + \"setting.yaml\", repo_root)\n",
        "generator = generator_from_conf(conf, repo_root)\n",
        "generator = Generator.load(load_dir + \"save.mcts\", generator.transition)"
      ]
    },
    {
      "cell_type": "code",
      "execution_count": null,
      "metadata": {},
      "outputs": [],
      "source": [
        "# time test\n",
        "import cProfile\n",
        "import pstats\n",
        "\n",
        "profiler = cProfile.Profile()\n",
        "profiler.enable()\n",
        "conf = conf_from_yaml(yaml_path, repo_root)\n",
        "generator = generator_from_conf(conf, repo_root)\n",
        "generate_and_analyze(generator, conf)\n",
        "profiler.disable()\n",
        "\n",
        "stats = pstats.Stats(profiler)\n",
        "stats.sort_stats(\"cumtime\").print_stats(100)"
      ]
    }
  ],
  "metadata": {
    "accelerator": "GPU",
    "colab": {
      "gpuType": "T4",
      "provenance": []
    },
    "kernelspec": {
      "display_name": "v3env",
      "language": "python",
      "name": "python3"
    },
    "language_info": {
      "codemirror_mode": {
        "name": "ipython",
        "version": 3
      },
      "file_extension": ".py",
      "mimetype": "text/x-python",
      "name": "python",
      "nbconvert_exporter": "python",
      "pygments_lexer": "ipython3",
      "version": "3.11.11"
    }
  },
  "nbformat": 4,
  "nbformat_minor": 0
}
