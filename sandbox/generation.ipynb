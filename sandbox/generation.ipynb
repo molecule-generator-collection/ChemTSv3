{
  "cells": [
    {
      "cell_type": "code",
      "execution_count": 1,
      "metadata": {},
      "outputs": [],
      "source": [
        "# add path (for local)\n",
        "import sys\n",
        "repo_root = \"../\"\n",
        "if repo_root not in sys.path:\n",
        "    sys.path.insert(0, repo_root)"
      ]
    },
    {
      "cell_type": "code",
      "execution_count": 2,
      "metadata": {},
      "outputs": [
        {
          "name": "stderr",
          "output_type": "stream",
          "text": [
            "<frozen importlib._bootstrap>:241: RuntimeWarning: to-Python converter for boost::shared_ptr<RDKit::FilterHierarchyMatcher> already registered; second conversion method ignored.\n",
            "/opt/anaconda3/envs/v3-forge/lib/python3.11/site-packages/tqdm/auto.py:21: TqdmWarning: IProgress not found. Please update jupyter and ipywidgets. See https://ipywidgets.readthedocs.io/en/stable/user_install.html\n",
            "  from .autonotebook import tqdm as notebook_tqdm\n"
          ]
        }
      ],
      "source": [
        "%load_ext autoreload\n",
        "%autoreload 2\n",
        "\n",
        "from rdkit import RDLogger\n",
        "from utils import generator_from_conf, conf_from_yaml\n",
        "RDLogger.DisableLog('rdApp.*') # use debug: true to log invalid mols\n",
        "\n",
        "def generate_and_analyze(generator, conf):\n",
        "    generator.generate(time_limit=conf.get(\"time_limit\"), max_generations=conf.get(\"max_generations\"))\n",
        "    generator.plot(**conf.get(\"plot_args\", {}))\n",
        "    generator.analyze()\n",
        "\n",
        "def queue_generations(*args: str):\n",
        "    for yaml_path in args:\n",
        "        conf = conf_from_yaml(yaml_path, repo_root)\n",
        "        generator = generator_from_conf(conf, repo_root)\n",
        "        generate_and_analyze(generator, conf)"
      ]
    },
    {
      "cell_type": "code",
      "execution_count": null,
      "metadata": {
        "colab": {
          "base_uri": "https://localhost:8080/",
          "height": 1000
        },
        "id": "KsQZ5Dx_zWtD",
        "outputId": "ad4867f1-023b-4634-ae52-fa0f64488692"
      },
      "outputs": [
        {
          "name": "stderr",
          "output_type": "stream",
          "text": [
            "seed: 1751954063\n",
            "Starting generation...\n",
            "<Best reward updated> 1 - time: 0.00, reward: 0.0000, node: CC#N\n",
            "<Best reward updated> 41 - time: 0.41, reward: 0.3306, node: Cc1cccc(I)c1\n",
            "<Best reward updated> 78 - time: 0.41, reward: 0.3582, node: ICc1ccccc1\n",
            "100 - time: 0.41, average over 100: 0.0167\n",
            "<Best reward updated> 158 - time: 0.41, reward: 0.3941, node: Cc1ccc(I)cc1\n",
            "200 - time: 0.41, average over 100: 0.0242\n",
            "<Best reward updated> 243 - time: 2.43, reward: 0.4256, node: NC(=O)c1ccc(I)cc1\n",
            "<Best reward updated> 251 - time: 2.43, reward: 0.4263, node: Nc1ccc(I)cc1\n"
          ]
        }
      ],
      "source": [
        "# start generation\n",
        "\n",
        "# yaml_path = \"config/mcts_helm.yaml\"\n",
        "# yaml_path = \"config/mcts_smiles.yaml\"\n",
        "# yaml_path = \"config/model_test.yaml\"\n",
        "# yaml_path = \"config/mcts_d_score.yaml\"\n",
        "# yaml_path = \"config/mcts_biot5.yaml\"\n",
        "yaml_path = \"config/mcts_smirks.yaml\"\n",
        "\n",
        "conf = conf_from_yaml(yaml_path, repo_root)\n",
        "generator = generator_from_conf(conf, repo_root)\n",
        "generate_and_analyze(generator, conf)\n",
        "# queue_generations(c1, c2)"
      ]
    },
    {
      "cell_type": "code",
      "execution_count": 14,
      "metadata": {},
      "outputs": [
        {
          "data": {
            "image/jpeg": "[encoded data removed]",
            "image/png": "[encoded data removed]",
            "text/plain": [
              "<PIL.PngImagePlugin.PngImageFile image mode=RGB size=500x200>"
            ]
          },
          "metadata": {},
          "output_type": "display_data"
        }
      ],
      "source": [
        "from node import MolStringNode\n",
        "from language import SELFIES\n",
        "from utils import draw_mol\n",
        "x = MolStringNode.node_from_key(\"[C][C][O][C][=C][Branch1][C][Cl][C][=C][Branch1][C][Cl][C][Branch2][Ring2][=Branch2][C][C][C][C][C][C][C][C][C][C][C][C][C][Branch1][C][C][C][C][C][C][Branch1][C][C][C][C][C][C][Branch1][C][C][C].[Cl][=C][Branch1][C][Cl][C][=C][Ring2][Ring2][C][Cl]\", lang=SELFIES())\n",
        "mol = x.mol()\n",
        "draw_mol(mol, 500, 200)"
      ]
    },
    {
      "cell_type": "code",
      "execution_count": null,
      "metadata": {},
      "outputs": [
        {
          "name": "stderr",
          "output_type": "stream",
          "text": [
            "Starting generation...\n"
          ]
        }
      ],
      "source": [
        "# continue generation\n",
        "generator.generate(time_limit=conf.get(\"time_limit\") - generator.passed_time, max_generations=conf.get(\"max_generations\") - len(generator.unique_keys))\n",
        "generator.plot(**conf.get(\"plot_args\", {}))\n",
        "generator.analyze()"
      ]
    },
    {
      "cell_type": "code",
      "execution_count": 16,
      "metadata": {
        "id": "EC6dDxCrF1dA"
      },
      "outputs": [],
      "source": [
        "#save mcts\n",
        "save_path = generator.output_dir() + \"save.mcts\"\n",
        "generator.save(save_path)"
      ]
    },
    {
      "cell_type": "code",
      "execution_count": null,
      "metadata": {},
      "outputs": [],
      "source": [
        "#load generator and yaml\n",
        "from generator import Generator\n",
        "load_dir = \"generation_result/06-26_08-51/\"\n",
        "conf = conf_from_yaml(\"sandbox/\" + load_dir + \"setting.yaml\", repo_root)\n",
        "generator = generator_from_conf(conf, repo_root)\n",
        "generator = Generator.load(load_dir + \"save.mcts\", generator.transition)"
      ]
    },
    {
      "cell_type": "code",
      "execution_count": null,
      "metadata": {},
      "outputs": [],
      "source": [
        "#time test\n",
        "import cProfile\n",
        "import pstats\n",
        "\n",
        "profiler = cProfile.Profile()\n",
        "profiler.enable()\n",
        "conf = conf_from_yaml(yaml_path, repo_root)\n",
        "generator = generator_from_conf(conf, repo_root)\n",
        "generate_and_analyze(generator, conf)\n",
        "profiler.disable()\n",
        "\n",
        "stats = pstats.Stats(profiler)\n",
        "stats.sort_stats(\"cumtime\").print_stats(100)"
      ]
    }
  ],
  "metadata": {
    "accelerator": "GPU",
    "colab": {
      "gpuType": "T4",
      "provenance": []
    },
    "kernelspec": {
      "display_name": "v3-forge",
      "language": "python",
      "name": "python3"
    },
    "language_info": {
      "codemirror_mode": {
        "name": "ipython",
        "version": 3
      },
      "file_extension": ".py",
      "mimetype": "text/x-python",
      "name": "python",
      "nbconvert_exporter": "python",
      "pygments_lexer": "ipython3",
      "version": "3.11.0"
    }
  },
  "nbformat": 4,
  "nbformat_minor": 0
}
