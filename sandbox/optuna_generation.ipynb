{
  "cells": [
    {
      "cell_type": "code",
      "execution_count": 1,
      "metadata": {},
      "outputs": [],
      "source": [
        "#for local\n",
        "import sys\n",
        "repo_root = \"../\"\n",
        "if repo_root not in sys.path:\n",
        "    sys.path.insert(0, repo_root)"
      ]
    },
    {
      "cell_type": "code",
      "execution_count": 2,
      "metadata": {},
      "outputs": [
        {
          "name": "stderr",
          "output_type": "stream",
          "text": [
            "/home/fujii/anaconda3/envs/v3-forge/lib/python3.11/site-packages/tqdm/auto.py:21: TqdmWarning: IProgress not found. Please update jupyter and ipywidgets. See https://ipywidgets.readthedocs.io/en/stable/user_install.html\n",
            "  from .autonotebook import tqdm as notebook_tqdm\n",
            "<frozen importlib._bootstrap>:241: RuntimeWarning: to-Python converter for boost::shared_ptr<RDKit::FilterHierarchyMatcher> already registered; second conversion method ignored.\n"
          ]
        }
      ],
      "source": [
        "from datetime import datetime\n",
        "import importlib\n",
        "import numpy as np\n",
        "import logging\n",
        "import os\n",
        "import shutil\n",
        "from typing import Any\n",
        "import yaml\n",
        "import optuna\n",
        "from rdkit import RDLogger\n",
        "from generator import Generator\n",
        "from language import Language\n",
        "from node import MolSentenceNode\n",
        "from utils import add_sep, class_from_package, make_logger\n",
        "RDLogger.DisableLog('rdApp.*')\n",
        "\n",
        "yaml_path = \"config/optuna_generation.yaml\"\n",
        "\n",
        "with open(os.path.join(repo_root, yaml_path)) as f:\n",
        "    conf = yaml.safe_load(f)\n",
        "transition_args = conf.get(\"transition_args\", {})\n",
        "model_dir = os.path.join(repo_root, transition_args.pop(\"model_dir\"))\n",
        "lang_path = conf.get(\"lang_path\")\n",
        "if lang_path is None:\n",
        "    lang_name = os.path.basename(os.path.normpath(model_dir)) + \".lang\"\n",
        "    lang_path = add_sep(model_dir) + lang_name\n",
        "lang = Language.load(lang_path)\n",
        "policy_args = conf.get(\"policy_args\", {})\n",
        "reward_class = class_from_package(\"reward\", conf.get(\"reward_class\"))\n",
        "reward = reward_class(**conf.get(\"reward_args\", {}))\n",
        "filter_settings = conf.get(\"filters\", [])\n",
        "filters = []\n",
        "for s in filter_settings:\n",
        "    filter_class = class_from_package(\"filter\", s.pop(\"filter_class\"))\n",
        "    filters.append(filter_class(**s))\n",
        "generator_args = conf.get(\"generator_args\", {})\n",
        "\n",
        "def objective(trial):\n",
        "    transition_args[\"top_p\"] = 1 - trial.suggest_loguniform(\"1-top_p\", 0.003, 0.007)\n",
        "    transition_args[\"power\"] = trial.suggest_uniform(\"power\", 0.7, 1.3)\n",
        "    # transition_args[\"temperature\"] = trial.suggest_uniform(\"temperature\", 0.7, 1.2)\n",
        "    # policy_class = trial.suggest_categorical(\"policy_class\", [\"UCB\", \"PUCT\"])\n",
        "    policy_class = \"UCB1\"\n",
        "    policy_args[\"c\"] = trial.suggest_uniform(\"c\", 0.01, 1)\n",
        "    policy_args[\"best_rate\"] = trial.suggest_uniform(\"best_rate\", 0, 1)\n",
        "    # generator_args[\"filtered_reward\"] = trial.suggest_uniform(\"filtered_reward\", -1, 0.2)\n",
        "    generator_args[\"rollout_width\"] = trial.suggest_int(\"rollout_width\", 1, 40)\n",
        "    # generator_args[\"allow_rollout_overlaps\"] = trial.suggest_categorical(\"allow_rollout_overlaps\", [True, False])\n",
        "    generator_args[\"n_rollouts\"] = trial.suggest_int(\"n_rollouts\", 1, 10)\n",
        "    generator_args[\"n_tries\"] = trial.suggest_int(\"n_tries\", 1, 3)\n",
        "    generator_args[\"terminal_reward\"] = trial.suggest_categorical(\"terminal_reward\", [\"ignore\", -1])\n",
        "    generator_args[\"remove_failed_child\"] = trial.suggest_categorical(\"remove_failed_child\", [True, False])\n",
        "\n",
        "    output_dir=os.path.join(repo_root, \"sandbox\", conf[\"output_dir\"], datetime.now().strftime(\"%m-%d_%H-%M\")) + os.sep\n",
        "    console_level = logging.ERROR\n",
        "    file_level = logging.DEBUG if conf.get(\"debug\") else logging.INFO\n",
        "    logger = make_logger(output_dir, console_level=console_level, file_level=file_level)\n",
        "    logger.info(\"params:\" + str(trial.params))\n",
        "\n",
        "    transition_class = class_from_package(\"transition\", conf[\"transition_class\"])\n",
        "    transition = transition_class(model_dir=model_dir, lang=lang, logger=logger, device=conf.get(\"device\"), **transition_args)\n",
        "    \n",
        "    policy_class = class_from_package(\"policy\", policy_class)\n",
        "    policy = policy_class(**policy_args)\n",
        "    generator_args[\"policy\"] = policy\n",
        "        \n",
        "    root = MolSentenceNode.bos_node(lang, device=conf.get(\"device\")) # TODO: change after root node generalization\n",
        "    \n",
        "    generator_class = class_from_package(\"generator\", conf.get(\"generator_class\", \"MCTS\"))\n",
        "    generator = generator_class(root=root, transition=transition, reward=reward, filters=filters, output_dir=output_dir, logger=logger, **generator_args)\n",
        "    \n",
        "    max_generations, time_limit = conf.get(\"max_generations\"), conf.get(\"time_limit\")\n",
        "    n_steps, best_reward_rate, recent_mean_window = conf.get(\"n_steps\"), conf.get(\"best_reward_rate\"), conf.get(\"recent_mean_window\")\n",
        "    \n",
        "    for i in range(0, n_steps):\n",
        "        generator.generate(max_generations=max_generations / n_steps, time_limit=time_limit / n_steps)\n",
        "        mean_reward = generator.mean_reward()\n",
        "        recent_mean_reward = generator.mean_reward(window=recent_mean_window)\n",
        "        intermediate_value = (1 - best_reward_rate) * mean_reward + best_reward_rate * generator.best_reward\n",
        "        trial.report(intermediate_value, i)\n",
        "        if trial.should_prune():\n",
        "            print(f\"Trial {trial.number} - Step {i}: best_reward={generator.best_reward:.3f}, params={trial.params}, mean_reward={mean_reward:.3f}\")\n",
        "            raise optuna.TrialPruned()\n",
        "\n",
        "    trial.set_user_attr(\"best_reward\", generator.best_reward)\n",
        "    trial.set_user_attr(\"recent_mean_reward\", recent_mean_reward)\n",
        "    trial.set_user_attr(\"mean_reward\", mean_reward)\n",
        "    print(f\"Trial {trial.number}: best_reward={generator.best_reward:.3f}, recent_mean_reward={recent_mean_reward:.3f}, mean_reward={mean_reward:.3f}\")\n",
        "    generator.analyze()\n",
        "    generator.plot(**conf.get(\"plot_args\"))\n",
        "    return (1 - best_reward_rate) * mean_reward + best_reward_rate * generator.best_reward\n",
        "    \n",
        "def print_trial(trial: optuna.Trial):\n",
        "    print(f\"Trial {trial.number} score={trial.value:.3f}, mean_reward={trial.user_attrs['mean_reward']:.3f}, best_reward={trial.user_attrs['best_reward']:.3f}, params={trial.params}\")\n",
        "    \n",
        "def print_best_trials(study: optuna.Study):\n",
        "    print(\"Optuna trials completed.\")\n",
        "    print(\"------ Best trials -----\")\n",
        "    best_trials = sorted([t for t in study.trials if t.state == optuna.trial.TrialState.COMPLETE], key=lambda t: t.value, reverse=True)[:5]\n",
        "    for t in best_trials:\n",
        "        print_trial(t)"
      ]
    },
    {
      "cell_type": "code",
      "execution_count": 3,
      "metadata": {},
      "outputs": [
        {
          "name": "stderr",
          "output_type": "stream",
          "text": [
            "/home/fujii/anaconda3/envs/v3-forge/lib/python3.11/site-packages/optuna/_experimental.py:32: ExperimentalWarning: Argument ``multivariate`` is an experimental feature. The interface can change in the future.\n",
            "  warnings.warn(\n",
            "/home/fujii/anaconda3/envs/v3-forge/lib/python3.11/site-packages/optuna/_experimental.py:32: ExperimentalWarning: Argument ``group`` is an experimental feature. The interface can change in the future.\n",
            "  warnings.warn(\n",
            "[I 2025-06-24 14:54:19,331] A new study created in RDB with name: d_score_200000\n"
          ]
        },
        {
          "name": "stdout",
          "output_type": "stream",
          "text": [
            "Trial 0: best_reward=0.589, recent_mean_reward=0.398, mean_reward=0.395\n"
          ]
        },
        {
          "name": "stderr",
          "output_type": "stream",
          "text": [
            "[I 2025-06-24 16:39:23,790] Trial 0 finished with value: 0.4532229667300164 and parameters: {'1-top_p': 0.005, 'power': 1.0, 'c': 0.2, 'best_rate': 0.5, 'rollout_width': 1, 'n_rollouts': 1, 'n_tries': 1, 'terminal_reward': 'ignore', 'remove_failed_child': False}. Best is trial 0 with value: 0.4532229667300164.\n",
            "[W 2025-06-24 16:39:24,884] Trial 1 failed with parameters: {'1-top_p': 0.005, 'power': 1.0, 'c': 0.2, 'best_rate': 0.5, 'rollout_width': 3, 'n_rollouts': 3, 'n_tries': 1, 'terminal_reward': -1, 'remove_failed_child': True} because of the following error: KeyError(15).\n",
            "Traceback (most recent call last):\n",
            "  File \"/home/fujii/anaconda3/envs/v3-forge/lib/python3.11/site-packages/optuna/study/_optimize.py\", line 201, in _run_trial\n",
            "    value_or_values = func(trial)\n",
            "                      ^^^^^^^^^^^\n",
            "  File \"/tmp/ipykernel_1849575/3182275023.py\", line 76, in objective\n",
            "    generator.generate(max_generations=max_generations / n_steps, time_limit=time_limit / n_steps)\n",
            "  File \"/home/fujii/molgen/sandbox/../generator/base.py\", line 68, in generate\n",
            "    self._generate_impl()\n",
            "  File \"/home/fujii/molgen/sandbox/../generator/mcts.py\", line 109, in _generate_impl\n",
            "    del node.children[child.last_action]\n",
            "        ~~~~~~~~~~~~~^^^^^^^^^^^^^^^^^^^\n",
            "KeyError: 15\n",
            "[W 2025-06-24 16:39:24,885] Trial 1 failed with value None.\n"
          ]
        },
        {
          "ename": "KeyError",
          "evalue": "15",
          "output_type": "error",
          "traceback": [
            "\u001b[31m---------------------------------------------------------------------------\u001b[39m",
            "\u001b[31mKeyError\u001b[39m                                  Traceback (most recent call last)",
            "\u001b[36mCell\u001b[39m\u001b[36m \u001b[39m\u001b[32mIn[3]\u001b[39m\u001b[32m, line 11\u001b[39m\n\u001b[32m      9\u001b[39m study.enqueue_trial({\u001b[33m\"\u001b[39m\u001b[33m1-top_p\u001b[39m\u001b[33m\"\u001b[39m: \u001b[32m0.005\u001b[39m, \u001b[33m\"\u001b[39m\u001b[33mpower\u001b[39m\u001b[33m\"\u001b[39m: \u001b[32m1.0\u001b[39m, \u001b[33m\"\u001b[39m\u001b[33mc\u001b[39m\u001b[33m\"\u001b[39m: \u001b[32m0.2\u001b[39m, \u001b[33m\"\u001b[39m\u001b[33mbest_rate\u001b[39m\u001b[33m\"\u001b[39m: \u001b[32m0.5\u001b[39m, \u001b[33m\"\u001b[39m\u001b[33mrollout_width\u001b[39m\u001b[33m\"\u001b[39m: \u001b[32m3\u001b[39m, \u001b[33m\"\u001b[39m\u001b[33mn_rollouts\u001b[39m\u001b[33m\"\u001b[39m: \u001b[32m3\u001b[39m, \u001b[33m\"\u001b[39m\u001b[33mn_tries\u001b[39m\u001b[33m\"\u001b[39m: \u001b[32m1\u001b[39m, \u001b[33m\"\u001b[39m\u001b[33mterminal_reward\u001b[39m\u001b[33m\"\u001b[39m: -\u001b[32m1\u001b[39m, \u001b[33m\"\u001b[39m\u001b[33mremove_failed_child\u001b[39m\u001b[33m\"\u001b[39m: \u001b[38;5;28;01mTrue\u001b[39;00m})\n\u001b[32m     10\u001b[39m study.enqueue_trial({\u001b[33m\"\u001b[39m\u001b[33m1-top_p\u001b[39m\u001b[33m\"\u001b[39m: \u001b[32m0.005\u001b[39m, \u001b[33m\"\u001b[39m\u001b[33mpower\u001b[39m\u001b[33m\"\u001b[39m: \u001b[32m1.2\u001b[39m, \u001b[33m\"\u001b[39m\u001b[33mc\u001b[39m\u001b[33m\"\u001b[39m: \u001b[32m0.2\u001b[39m, \u001b[33m\"\u001b[39m\u001b[33mbest_rate\u001b[39m\u001b[33m\"\u001b[39m: \u001b[32m0.5\u001b[39m, \u001b[33m\"\u001b[39m\u001b[33mrollout_width\u001b[39m\u001b[33m\"\u001b[39m: \u001b[32m9\u001b[39m, \u001b[33m\"\u001b[39m\u001b[33mn_rollouts\u001b[39m\u001b[33m\"\u001b[39m: \u001b[32m1\u001b[39m, \u001b[33m\"\u001b[39m\u001b[33mn_tries\u001b[39m\u001b[33m\"\u001b[39m: \u001b[32m1\u001b[39m, \u001b[33m\"\u001b[39m\u001b[33mterminal_reward\u001b[39m\u001b[33m\"\u001b[39m: -\u001b[32m1\u001b[39m, \u001b[33m\"\u001b[39m\u001b[33mremove_failed_child\u001b[39m\u001b[33m\"\u001b[39m: \u001b[38;5;28;01mFalse\u001b[39;00m})\n\u001b[32m---> \u001b[39m\u001b[32m11\u001b[39m study.optimize(objective, n_trials=conf.get(\u001b[33m\"\u001b[39m\u001b[33mn_trials\u001b[39m\u001b[33m\"\u001b[39m))\n\u001b[32m     12\u001b[39m print_best_trials(study)\n",
            "\u001b[36mFile \u001b[39m\u001b[32m~/anaconda3/envs/v3-forge/lib/python3.11/site-packages/optuna/study/study.py:489\u001b[39m, in \u001b[36mStudy.optimize\u001b[39m\u001b[34m(self, func, n_trials, timeout, n_jobs, catch, callbacks, gc_after_trial, show_progress_bar)\u001b[39m\n\u001b[32m    387\u001b[39m \u001b[38;5;28;01mdef\u001b[39;00m\u001b[38;5;250m \u001b[39m\u001b[34moptimize\u001b[39m(\n\u001b[32m    388\u001b[39m     \u001b[38;5;28mself\u001b[39m,\n\u001b[32m    389\u001b[39m     func: ObjectiveFuncType,\n\u001b[32m   (...)\u001b[39m\u001b[32m    396\u001b[39m     show_progress_bar: \u001b[38;5;28mbool\u001b[39m = \u001b[38;5;28;01mFalse\u001b[39;00m,\n\u001b[32m    397\u001b[39m ) -> \u001b[38;5;28;01mNone\u001b[39;00m:\n\u001b[32m    398\u001b[39m \u001b[38;5;250m    \u001b[39m\u001b[33;03m\"\"\"Optimize an objective function.\u001b[39;00m\n\u001b[32m    399\u001b[39m \n\u001b[32m    400\u001b[39m \u001b[33;03m    Optimization is done by choosing a suitable set of hyperparameter values from a given\u001b[39;00m\n\u001b[32m   (...)\u001b[39m\u001b[32m    487\u001b[39m \u001b[33;03m            If nested invocation of this method occurs.\u001b[39;00m\n\u001b[32m    488\u001b[39m \u001b[33;03m    \"\"\"\u001b[39;00m\n\u001b[32m--> \u001b[39m\u001b[32m489\u001b[39m     _optimize(\n\u001b[32m    490\u001b[39m         study=\u001b[38;5;28mself\u001b[39m,\n\u001b[32m    491\u001b[39m         func=func,\n\u001b[32m    492\u001b[39m         n_trials=n_trials,\n\u001b[32m    493\u001b[39m         timeout=timeout,\n\u001b[32m    494\u001b[39m         n_jobs=n_jobs,\n\u001b[32m    495\u001b[39m         catch=\u001b[38;5;28mtuple\u001b[39m(catch) \u001b[38;5;28;01mif\u001b[39;00m \u001b[38;5;28misinstance\u001b[39m(catch, Iterable) \u001b[38;5;28;01melse\u001b[39;00m (catch,),\n\u001b[32m    496\u001b[39m         callbacks=callbacks,\n\u001b[32m    497\u001b[39m         gc_after_trial=gc_after_trial,\n\u001b[32m    498\u001b[39m         show_progress_bar=show_progress_bar,\n\u001b[32m    499\u001b[39m     )\n",
            "\u001b[36mFile \u001b[39m\u001b[32m~/anaconda3/envs/v3-forge/lib/python3.11/site-packages/optuna/study/_optimize.py:64\u001b[39m, in \u001b[36m_optimize\u001b[39m\u001b[34m(study, func, n_trials, timeout, n_jobs, catch, callbacks, gc_after_trial, show_progress_bar)\u001b[39m\n\u001b[32m     62\u001b[39m \u001b[38;5;28;01mtry\u001b[39;00m:\n\u001b[32m     63\u001b[39m     \u001b[38;5;28;01mif\u001b[39;00m n_jobs == \u001b[32m1\u001b[39m:\n\u001b[32m---> \u001b[39m\u001b[32m64\u001b[39m         _optimize_sequential(\n\u001b[32m     65\u001b[39m             study,\n\u001b[32m     66\u001b[39m             func,\n\u001b[32m     67\u001b[39m             n_trials,\n\u001b[32m     68\u001b[39m             timeout,\n\u001b[32m     69\u001b[39m             catch,\n\u001b[32m     70\u001b[39m             callbacks,\n\u001b[32m     71\u001b[39m             gc_after_trial,\n\u001b[32m     72\u001b[39m             reseed_sampler_rng=\u001b[38;5;28;01mFalse\u001b[39;00m,\n\u001b[32m     73\u001b[39m             time_start=\u001b[38;5;28;01mNone\u001b[39;00m,\n\u001b[32m     74\u001b[39m             progress_bar=progress_bar,\n\u001b[32m     75\u001b[39m         )\n\u001b[32m     76\u001b[39m     \u001b[38;5;28;01melse\u001b[39;00m:\n\u001b[32m     77\u001b[39m         \u001b[38;5;28;01mif\u001b[39;00m n_jobs == -\u001b[32m1\u001b[39m:\n",
            "\u001b[36mFile \u001b[39m\u001b[32m~/anaconda3/envs/v3-forge/lib/python3.11/site-packages/optuna/study/_optimize.py:161\u001b[39m, in \u001b[36m_optimize_sequential\u001b[39m\u001b[34m(study, func, n_trials, timeout, catch, callbacks, gc_after_trial, reseed_sampler_rng, time_start, progress_bar)\u001b[39m\n\u001b[32m    158\u001b[39m         \u001b[38;5;28;01mbreak\u001b[39;00m\n\u001b[32m    160\u001b[39m \u001b[38;5;28;01mtry\u001b[39;00m:\n\u001b[32m--> \u001b[39m\u001b[32m161\u001b[39m     frozen_trial = _run_trial(study, func, catch)\n\u001b[32m    162\u001b[39m \u001b[38;5;28;01mfinally\u001b[39;00m:\n\u001b[32m    163\u001b[39m     \u001b[38;5;66;03m# The following line mitigates memory problems that can be occurred in some\u001b[39;00m\n\u001b[32m    164\u001b[39m     \u001b[38;5;66;03m# environments (e.g., services that use computing containers such as GitHub Actions).\u001b[39;00m\n\u001b[32m    165\u001b[39m     \u001b[38;5;66;03m# Please refer to the following PR for further details:\u001b[39;00m\n\u001b[32m    166\u001b[39m     \u001b[38;5;66;03m# https://github.com/optuna/optuna/pull/325.\u001b[39;00m\n\u001b[32m    167\u001b[39m     \u001b[38;5;28;01mif\u001b[39;00m gc_after_trial:\n",
            "\u001b[36mFile \u001b[39m\u001b[32m~/anaconda3/envs/v3-forge/lib/python3.11/site-packages/optuna/study/_optimize.py:253\u001b[39m, in \u001b[36m_run_trial\u001b[39m\u001b[34m(study, func, catch)\u001b[39m\n\u001b[32m    246\u001b[39m         \u001b[38;5;28;01massert\u001b[39;00m \u001b[38;5;28;01mFalse\u001b[39;00m, \u001b[33m\"\u001b[39m\u001b[33mShould not reach.\u001b[39m\u001b[33m\"\u001b[39m\n\u001b[32m    248\u001b[39m \u001b[38;5;28;01mif\u001b[39;00m (\n\u001b[32m    249\u001b[39m     frozen_trial.state == TrialState.FAIL\n\u001b[32m    250\u001b[39m     \u001b[38;5;129;01mand\u001b[39;00m func_err \u001b[38;5;129;01mis\u001b[39;00m \u001b[38;5;129;01mnot\u001b[39;00m \u001b[38;5;28;01mNone\u001b[39;00m\n\u001b[32m    251\u001b[39m     \u001b[38;5;129;01mand\u001b[39;00m \u001b[38;5;129;01mnot\u001b[39;00m \u001b[38;5;28misinstance\u001b[39m(func_err, catch)\n\u001b[32m    252\u001b[39m ):\n\u001b[32m--> \u001b[39m\u001b[32m253\u001b[39m     \u001b[38;5;28;01mraise\u001b[39;00m func_err\n\u001b[32m    254\u001b[39m \u001b[38;5;28;01mreturn\u001b[39;00m frozen_trial\n",
            "\u001b[36mFile \u001b[39m\u001b[32m~/anaconda3/envs/v3-forge/lib/python3.11/site-packages/optuna/study/_optimize.py:201\u001b[39m, in \u001b[36m_run_trial\u001b[39m\u001b[34m(study, func, catch)\u001b[39m\n\u001b[32m    199\u001b[39m \u001b[38;5;28;01mwith\u001b[39;00m get_heartbeat_thread(trial._trial_id, study._storage):\n\u001b[32m    200\u001b[39m     \u001b[38;5;28;01mtry\u001b[39;00m:\n\u001b[32m--> \u001b[39m\u001b[32m201\u001b[39m         value_or_values = func(trial)\n\u001b[32m    202\u001b[39m     \u001b[38;5;28;01mexcept\u001b[39;00m exceptions.TrialPruned \u001b[38;5;28;01mas\u001b[39;00m e:\n\u001b[32m    203\u001b[39m         \u001b[38;5;66;03m# TODO(mamu): Handle multi-objective cases.\u001b[39;00m\n\u001b[32m    204\u001b[39m         state = TrialState.PRUNED\n",
            "\u001b[36mCell\u001b[39m\u001b[36m \u001b[39m\u001b[32mIn[2]\u001b[39m\u001b[32m, line 76\u001b[39m, in \u001b[36mobjective\u001b[39m\u001b[34m(trial)\u001b[39m\n\u001b[32m     73\u001b[39m n_steps, best_reward_rate, recent_mean_window = conf.get(\u001b[33m\"\u001b[39m\u001b[33mn_steps\u001b[39m\u001b[33m\"\u001b[39m), conf.get(\u001b[33m\"\u001b[39m\u001b[33mbest_reward_rate\u001b[39m\u001b[33m\"\u001b[39m), conf.get(\u001b[33m\"\u001b[39m\u001b[33mrecent_mean_window\u001b[39m\u001b[33m\"\u001b[39m)\n\u001b[32m     75\u001b[39m \u001b[38;5;28;01mfor\u001b[39;00m i \u001b[38;5;129;01min\u001b[39;00m \u001b[38;5;28mrange\u001b[39m(\u001b[32m0\u001b[39m, n_steps):\n\u001b[32m---> \u001b[39m\u001b[32m76\u001b[39m     generator.generate(max_generations=max_generations / n_steps, time_limit=time_limit / n_steps)\n\u001b[32m     77\u001b[39m     mean_reward = generator.mean_reward()\n\u001b[32m     78\u001b[39m     recent_mean_reward = generator.mean_reward(window=recent_mean_window)\n",
            "\u001b[36mFile \u001b[39m\u001b[32m~/molgen/sandbox/../generator/base.py:68\u001b[39m, in \u001b[36mGenerator.generate\u001b[39m\u001b[34m(self, time_limit, max_generations)\u001b[39m\n\u001b[32m     66\u001b[39m         \u001b[38;5;28;01mif\u001b[39;00m max_generations \u001b[38;5;129;01mis\u001b[39;00m \u001b[38;5;129;01mnot\u001b[39;00m \u001b[38;5;28;01mNone\u001b[39;00m \u001b[38;5;129;01mand\u001b[39;00m \u001b[38;5;28mlen\u001b[39m(\u001b[38;5;28mself\u001b[39m.unique_keys) - initial_count_generations >= max_generations:\n\u001b[32m     67\u001b[39m             \u001b[38;5;28;01mbreak\u001b[39;00m\n\u001b[32m---> \u001b[39m\u001b[32m68\u001b[39m         \u001b[38;5;28mself\u001b[39m._generate_impl()\n\u001b[32m     69\u001b[39m \u001b[38;5;28;01mexcept\u001b[39;00m \u001b[38;5;167;01mKeyboardInterrupt\u001b[39;00m:\n\u001b[32m     70\u001b[39m     \u001b[38;5;28mself\u001b[39m.logger.warning(\u001b[33m\"\u001b[39m\u001b[33mGeneration interrupted by user (KeyboardInterrupt).\u001b[39m\u001b[33m\"\u001b[39m)\n",
            "\u001b[36mFile \u001b[39m\u001b[32m~/molgen/sandbox/../generator/mcts.py:109\u001b[39m, in \u001b[36mMCTS._generate_impl\u001b[39m\u001b[34m(self)\u001b[39m\n\u001b[32m    107\u001b[39m \u001b[38;5;28mself\u001b[39m._backpropagate(child, \u001b[38;5;28mself\u001b[39m.filtered_reward, \u001b[38;5;28;01mFalse\u001b[39;00m)\n\u001b[32m    108\u001b[39m \u001b[38;5;28;01mif\u001b[39;00m \u001b[38;5;28mself\u001b[39m.remove_failed_child:\n\u001b[32m--> \u001b[39m\u001b[32m109\u001b[39m     \u001b[38;5;28;01mdel\u001b[39;00m node.children[child.last_action]\n",
            "\u001b[31mKeyError\u001b[39m: 15"
          ]
        }
      ],
      "source": [
        "# start search\n",
        "name = conf.get(\"study_name\")\n",
        "storage = \"sqlite:///optuna/\" + name + \".db\"\n",
        "sampler = sampler=optuna.samplers.TPESampler(multivariate=True, group=True)\n",
        "# sampler = optuna.samplers.GPSampler(deterministic_objective=False) # better if not using pruner?\n",
        "pruner = optuna.pruners.MedianPruner(n_startup_trials=3, n_warmup_steps=0, interval_steps=1)\n",
        "study = optuna.create_study(direction=\"maximize\", study_name=name, storage=storage, sampler=sampler, pruner=pruner)\n",
        "study.enqueue_trial({\"1-top_p\": 0.005, \"power\": 1.0, \"c\": 0.2, \"best_rate\": 0.5, \"rollout_width\": 1, \"n_rollouts\": 1, \"n_tries\": 1, \"terminal_reward\": \"ignore\", \"remove_failed_child\": False})\n",
        "study.enqueue_trial({\"1-top_p\": 0.005, \"power\": 1.0, \"c\": 0.2, \"best_rate\": 0.5, \"rollout_width\": 3, \"n_rollouts\": 3, \"n_tries\": 1, \"terminal_reward\": -1, \"remove_failed_child\": True})\n",
        "study.enqueue_trial({\"1-top_p\": 0.005, \"power\": 1.2, \"c\": 0.2, \"best_rate\": 0.5, \"rollout_width\": 9, \"n_rollouts\": 1, \"n_tries\": 1, \"terminal_reward\": -1, \"remove_failed_child\": False})\n",
        "study.optimize(objective, n_trials=conf.get(\"n_trials\"))\n",
        "print_best_trials(study)"
      ]
    },
    {
      "cell_type": "code",
      "execution_count": null,
      "metadata": {},
      "outputs": [],
      "source": [
        "# continue search\n",
        "study = optuna.study.load_study(study_name=\"d_score_200000\", storage=\"sqlite:///optuna/d_score_200000.db\")\n",
        "study.optimize(objective, n_trials=300)\n",
        "print_best_trials(study)"
      ]
    },
    {
      "cell_type": "code",
      "execution_count": null,
      "metadata": {},
      "outputs": [],
      "source": [
        "# add parameters\n",
        "study = optuna.study.load_study(study_name=\"d_score_200000\", storage=\"sqlite:///sqlite:///optuna/d_score_200000.db\")\n",
        "\n",
        "name = conf.get(\"study_name\")\n",
        "sampler = sampler=optuna.samplers.TPESampler(multivariate=True, group=True)\n",
        "pruner = optuna.pruners.MedianPruner(n_startup_trials=3, n_warmup_steps=0, interval_steps=1)\n",
        "new_storage=\"sqlite:///optuna/d_score_200000_new.db\"\n",
        "study_with_new_param = optuna.create_study(direction=\"maximize\", study_name=name, storage=new_storage, sampler=sampler, pruner=pruner)\n",
        "\n",
        "for trial in study.trials:\n",
        "    params = trial.params\n",
        "    dists = trial.distributions\n",
        "\n",
        "    params[\"remove_failed_child\"] = False\n",
        "    dists[\"remove_failed_child\"] = optuna.distributions.CategoricalDistribution([True, False])\n",
        "\n",
        "    trial.params = params\n",
        "    trial.distributions = dists\n",
        "\n",
        "    study_with_new_param.add_trial(trial)"
      ]
    }
  ],
  "metadata": {
    "accelerator": "GPU",
    "colab": {
      "gpuType": "T4",
      "provenance": []
    },
    "kernelspec": {
      "display_name": "v3-forge",
      "language": "python",
      "name": "python3"
    },
    "language_info": {
      "codemirror_mode": {
        "name": "ipython",
        "version": 3
      },
      "file_extension": ".py",
      "mimetype": "text/x-python",
      "name": "python",
      "nbconvert_exporter": "python",
      "pygments_lexer": "ipython3",
      "version": "3.11.0"
    }
  },
  "nbformat": 4,
  "nbformat_minor": 0
}
