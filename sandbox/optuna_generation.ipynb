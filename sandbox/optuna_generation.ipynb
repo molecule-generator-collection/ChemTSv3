{
  "cells": [
    {
      "cell_type": "code",
      "execution_count": 2,
      "metadata": {},
      "outputs": [],
      "source": [
        "# add path (for local)\n",
        "import sys\n",
        "repo_root = \"../\"\n",
        "if repo_root not in sys.path:\n",
        "    sys.path.insert(0, repo_root)"
      ]
    },
    {
      "cell_type": "code",
      "execution_count": 3,
      "metadata": {},
      "outputs": [
        {
          "name": "stderr",
          "output_type": "stream",
          "text": [
            "/home/fujii/anaconda3/envs/v3-forge/lib/python3.11/site-packages/tqdm/auto.py:21: TqdmWarning: IProgress not found. Please update jupyter and ipywidgets. See https://ipywidgets.readthedocs.io/en/stable/user_install.html\n",
            "  from .autonotebook import tqdm as notebook_tqdm\n",
            "<frozen importlib._bootstrap>:241: RuntimeWarning: to-Python converter for boost::shared_ptr<RDKit::FilterHierarchyMatcher> already registered; second conversion method ignored.\n"
          ]
        }
      ],
      "source": [
        "import optuna\n",
        "from rdkit import RDLogger\n",
        "from utils import generator_from_conf, conf_from_yaml\n",
        "RDLogger.DisableLog('rdApp.*')\n",
        "\n",
        "yaml_path = \"config/optuna_generation.yaml\"\n",
        "\n",
        "conf = conf_from_yaml(yaml_path, repo_root)\n",
        "name = conf.get(\"study_name\")\n",
        "n_trials = conf.get(\"n_trials\")\n",
        "\n",
        "def objective(trial):\n",
        "    conf = conf_from_yaml(yaml_path, repo_root)\n",
        "    # conf.setdefault(\"transition_args\", {})\n",
        "    # conf[\"transition_args\"][\"model_dir\"] = \"model/smiles/\" + trial.suggest_categorical(\"model\", [\"drugs_zinc_gru\", \"drugs_zinc_lstm\", \"tf25_ported\"])\n",
        "    # conf[\"transition_args\"][\"sharpness\"] = trial.suggest_float(\"sharpness\", 0.7, 1.3)\n",
        "    # conf[\"transition_args\"][\"top_p\"] = trial.suggest_float(\"top_p\", 0.994, 0.998)\n",
        "    \n",
        "    conf[\"policy_class\"] = \"UCTAP\"\n",
        "    conf.setdefault(\"policy_args\", {})\n",
        "    conf[\"policy_args\"][\"c\"] = trial.suggest_float(\"c\", 0.05, 0.4)\n",
        "    conf[\"policy_args\"][\"best_rate\"] = trial.suggest_float(\"best_rate\", 0, 1)\n",
        "    conf[\"policy_args\"][\"c_action\"] = trial.suggest_float(\"c_action\", 0, 0.4)\n",
        "    conf[\"policy_args\"][\"prior_offset\"] = trial.suggest_float(\"prior_offset\", 0, 0.2)\n",
        "\n",
        "    # conf.setdefault(\"generator_args\", {})\n",
        "    # conf[\"generator_args\"][\"eval_width\"] = trial.suggest_int(\"eval_width\", 1, 40)\n",
        "    # # conf[\"generator_args\"][\"allow_rollout_overlaps\"] = trial.suggest_categorical(\"allow_rollout_overlaps\", [True, False])\n",
        "    # conf[\"generator_args\"][\"n_evals\"] = trial.suggest_int(\"n_evals\", 1, 10)\n",
        "    # conf[\"generator_args\"][\"n_tries\"] = trial.suggest_int(\"n_tries\", 1, 3)\n",
        "    # conf[\"generator_args\"][\"filter_reward\"] = trial.suggest_categorical(\"filter_reward\", [\"ignore\", 0])\n",
        "    # conf[\"generator_args\"][\"failed_parent_reward\"] = trial.suggest_categorical(\"failed_parent_reward\", [\"ignore\", -1])\n",
        "    # conf[\"generator_args\"][\"terminal_reward\"] = trial.suggest_categorical(\"terminal_reward\", [\"ignore\", -1])\n",
        "    # conf[\"generator_args\"][\"cut_failed_child\"] = trial.suggest_categorical(\"cut_failed_child\", [True, False])\n",
        "    \n",
        "    generator = generator_from_conf(conf, repo_root)\n",
        "    generator.logger.info(f\"params={trial.params}\")\n",
        "    \n",
        "    max_generations, time_limit = conf.get(\"max_generations\"), conf.get(\"time_limit\")\n",
        "    n_steps, best_reward_rate= conf.get(\"n_steps\"), conf.get(\"best_reward_rate\")\n",
        "    \n",
        "    for i in range(0, n_steps):\n",
        "        generator.generate(max_generations=max_generations / n_steps, time_limit=time_limit / n_steps)\n",
        "        average_reward = generator.average_reward()\n",
        "        intermediate_value = (1 - best_reward_rate) * average_reward + best_reward_rate * generator.best_reward\n",
        "        trial.report(intermediate_value, i)\n",
        "        if trial.should_prune():\n",
        "            print(f\"Trial {trial.number} - Step {i}: average_reward={average_reward:.3f}, best_reward={generator.best_reward:.3f}, params={trial.params}\")\n",
        "            raise optuna.TrialPruned()\n",
        "\n",
        "    trial.set_user_attr(\"average_reward\", average_reward)\n",
        "    trial.set_user_attr(\"best_reward\", generator.best_reward)\n",
        "    print(f\"Trial {trial.number}: average_reward={average_reward:.3f}, best_reward={generator.best_reward:.3f}\")\n",
        "    generator.analyze()\n",
        "    generator.plot(**conf.get(\"plot_args\"))\n",
        "    return (1 - best_reward_rate) * average_reward + best_reward_rate * generator.best_reward\n",
        "    \n",
        "def print_trial(trial: optuna.Trial):\n",
        "    print(f\"Trial {trial.number} score={trial.value:.3f}, attrs={trial.user_attrs}, params={trial.params}\")\n",
        "    \n",
        "def print_best_trials(study: optuna.Study):\n",
        "    print(\"Optuna trials completed.\")\n",
        "    print(\"------ Best trials -----\")\n",
        "    best_trials = sorted([t for t in study.trials if t.state == optuna.trial.TrialState.COMPLETE], key=lambda t: t.value, reverse=True)[:5]\n",
        "    for t in best_trials:\n",
        "        print_trial(t)"
      ]
    },
    {
      "cell_type": "code",
      "execution_count": null,
      "metadata": {},
      "outputs": [
        {
          "name": "stderr",
          "output_type": "stream",
          "text": [
            "/home/fujii/anaconda3/envs/v3-forge/lib/python3.11/site-packages/optuna/_experimental.py:32: ExperimentalWarning: Argument ``multivariate`` is an experimental feature. The interface can change in the future.\n",
            "  warnings.warn(\n",
            "/home/fujii/anaconda3/envs/v3-forge/lib/python3.11/site-packages/optuna/_experimental.py:32: ExperimentalWarning: Argument ``group`` is an experimental feature. The interface can change in the future.\n",
            "  warnings.warn(\n",
            "[I 2025-07-09 14:07:58,417] A new study created in RDB with name: smirks_200000\n"
          ]
        }
      ],
      "source": [
        "# start search\n",
        "storage = \"sqlite:///optuna/\" + name + \".db\"\n",
        "sampler = sampler=optuna.samplers.TPESampler(multivariate=True, group=True)\n",
        "# sampler = optuna.samplers.GPSampler(deterministic_objective=False) # better if not using pruner?\n",
        "pruner = optuna.pruners.MedianPruner(n_startup_trials=3, n_warmup_steps=0, interval_steps=1)\n",
        "study = optuna.create_study(direction=\"maximize\", study_name=name, storage=storage, sampler=sampler, pruner=pruner)\n",
        "# study.enqueue_trial({\"model\": \"drugs_zinc_gru\", \"sharpness\": 1.0, \"top_p\": 0.995, \"c\": 0.2, \"best_rate\": 0.5, \"use_prior\": True, \"prior\": 0.6, \"eval_width\": 1, \"n_evals\": 1, \"n_tries\": 1, \"filter_reward\": 0, \"failed_parent_reward\": \"ignore\", \"terminal_reward\": \"ignore\", \"cut_failed_child\": False})\n",
        "study.optimize(objective, n_trials=n_trials)\n",
        "print_best_trials(study)"
      ]
    },
    {
      "cell_type": "code",
      "execution_count": null,
      "metadata": {},
      "outputs": [],
      "source": [
        "# continue search\n",
        "study = optuna.study.load_study(study_name=\"d_score_200000\", storage=\"sqlite:///optuna/d_score_200000.db\")\n",
        "study.optimize(objective, n_trials=300)\n",
        "print_best_trials(study)"
      ]
    },
    {
      "cell_type": "code",
      "execution_count": null,
      "metadata": {},
      "outputs": [],
      "source": [
        "# add parameters\n",
        "study = optuna.study.load_study(study_name=\"d_score_200000\", storage=\"sqlite:///sqlite:///optuna/d_score_200000.db\")\n",
        "\n",
        "sampler = sampler=optuna.samplers.TPESampler(multivariate=True, group=True)\n",
        "pruner = optuna.pruners.MedianPruner(n_startup_trials=3, n_warmup_steps=0, interval_steps=1)\n",
        "new_storage=\"sqlite:///optuna/d_score_200000_new.db\"\n",
        "study_with_new_param = optuna.create_study(direction=\"maximize\", study_name=name, storage=new_storage, sampler=sampler, pruner=pruner)\n",
        "\n",
        "for trial in study.trials:\n",
        "    params = trial.params\n",
        "    dists = trial.distributions\n",
        "\n",
        "    params[\"cut_failed_child\"] = False\n",
        "    dists[\"cut_failed_child\"] = optuna.distributions.CategoricalDistribution([True, False])\n",
        "\n",
        "    trial.params = params\n",
        "    trial.distributions = dists\n",
        "\n",
        "    study_with_new_param.add_trial(trial)"
      ]
    }
  ],
  "metadata": {
    "accelerator": "GPU",
    "colab": {
      "gpuType": "T4",
      "provenance": []
    },
    "kernelspec": {
      "display_name": "v3-forge",
      "language": "python",
      "name": "python3"
    },
    "language_info": {
      "codemirror_mode": {
        "name": "ipython",
        "version": 3
      },
      "file_extension": ".py",
      "mimetype": "text/x-python",
      "name": "python",
      "nbconvert_exporter": "python",
      "pygments_lexer": "ipython3",
      "version": "3.11.0"
    }
  },
  "nbformat": 4,
  "nbformat_minor": 0
}
