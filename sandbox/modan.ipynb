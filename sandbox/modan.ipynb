{
  "cells": [
    {
      "cell_type": "code",
      "execution_count": 1,
      "metadata": {},
      "outputs": [],
      "source": [
        "import sys\n",
        "repo_root = \"../\"\n",
        "if repo_root not in sys.path:\n",
        "    sys.path.insert(0, repo_root)"
      ]
    },
    {
      "cell_type": "code",
      "execution_count": 2,
      "metadata": {},
      "outputs": [
        {
          "name": "stderr",
          "output_type": "stream",
          "text": [
            "<frozen importlib._bootstrap>:241: RuntimeWarning: to-Python converter for boost::shared_ptr<RDKit::FilterHierarchyMatcher> already registered; second conversion method ignored.\n",
            "/home/fujii/anaconda3/envs/v3-forge/lib/python3.11/site-packages/tqdm/auto.py:21: TqdmWarning: IProgress not found. Please update jupyter and ipywidgets. See https://ipywidgets.readthedocs.io/en/stable/user_install.html\n",
            "  from .autonotebook import tqdm as notebook_tqdm\n"
          ]
        },
        {
          "name": "stdout",
          "output_type": "stream",
          "text": [
            "Loading BioT5 models...\n",
            "Model loading completed.\n"
          ]
        }
      ],
      "source": [
        "%load_ext autoreload\n",
        "%autoreload 2\n",
        "from rdkit import Chem\n",
        "from rdkit.Chem import AllChem\n",
        "from utils import HELMConverter, draw_mol, get_main_mol, remove_isotopes, is_same_mol\n",
        "\n",
        "lib_files = [\n",
        "    \"chembl_35_monomer_library.xml\",\n",
        "    \"modan.json\"\n",
        "]\n",
        "converter = HELMConverter().load(*[repo_root + f\"data/helm/library/{name}\" for name in lib_files])"
      ]
    },
    {
      "cell_type": "code",
      "execution_count": 3,
      "metadata": {},
      "outputs": [],
      "source": [
        "import re\n",
        "\n",
        "def split_modan_pep_seq(seq: str) -> list[str]:\n",
        "    if seq.startswith(\"H-\"):\n",
        "        seq = seq[2:]\n",
        "    pattern = (\n",
        "        r\"(\"\n",
        "        r\"\\-\"\n",
        "        r\"|NH2|X0=|X0|X1|X2|S5|R8\"\n",
        "        r\"|Ac|CH3\\(CH2\\)4CO|CH3\\(CH2\\)10CO|CH3\\(CH2\\)16CO\"\n",
        "        r\"|[A-Z]\"\n",
        "        r\"|[a-z]\"\n",
        "        r\")\"\n",
        "    )\n",
        "    tokens = re.findall(pattern, seq)\n",
        "    #assert seq == \"\".join(tokens)\n",
        "    return tokens\n",
        "\n",
        "def helm_from_modan_pep_seq(seq: str) -> str:\n",
        "    token_dict = {\"g\": \"G\", #G doesn't have D-form\n",
        "        \"B\": \"[Ac5c]\", \"O\": \"[Orn]\", \"U\": \"[Aib]\", \"Z\": \"[Ac6c]\", \n",
        "        \"X0\": \"[OAllylHse]\", \"X0=\": \"[OAllylHse]\", \"J\": \"[Dab]\", \"X1\": \"[Dab]\", \"X2\": \"[Sar]\", \n",
        "        \"S5\": \"[S5]\", \"R8\": \"[R8]\", \n",
        "        \"NH2\": \"[am]\", \"Ac\": \"[ac]\",\n",
        "        \"CH3(CH2)4CO\": \"[Pentanoyl]\", \"CH3(CH2)10CO\": \"[Dodecanoyl]\", \"CH3(CH2)16CO\": \"[Octadecanoyl]\"}\n",
        "    seq_list = split_modan_pep_seq(seq)\n",
        "    bridge_left_idx = bridge_right_idx = -1\n",
        "    monomer_idx = 1\n",
        "    helm = \"PEPTIDE1{\"\n",
        "    for t in seq_list:\n",
        "        if t == \"-\":\n",
        "            continue\n",
        "        elif t == \"S5\" or t == \"R8\" or t == \"X0=\":\n",
        "            if bridge_left_idx == -1:\n",
        "                bridge_left_idx = monomer_idx\n",
        "                helm += token_dict[t] + \".\"\n",
        "            else:\n",
        "                bridge_right_idx = monomer_idx\n",
        "                helm += token_dict[t] + \".\"\n",
        "        else:\n",
        "            if t in token_dict:\n",
        "                helm += token_dict[t] + \".\"\n",
        "            else:\n",
        "                if t.isupper():\n",
        "                    helm += t + \".\"\n",
        "                else:\n",
        "                    helm += \"[d\" + t.upper() + \"].\"\n",
        "        monomer_idx += 1\n",
        "    if bridge_left_idx == -1:\n",
        "        helm = helm[:-1] + \"}$$$$\"\n",
        "    else:\n",
        "        helm = helm[:-1] + \"}$\"\n",
        "        helm += \"PEPTIDE1,PEPTIDE1,\" + str(bridge_left_idx) + \":R3-c-\" + str(bridge_right_idx) + \":R3$$$\"\n",
        "    return helm"
      ]
    },
    {
      "cell_type": "code",
      "execution_count": 4,
      "metadata": {},
      "outputs": [
        {
          "name": "stdout",
          "output_type": "stream",
          "text": [
            "unmatch:  44 H-GIOOFLKSUOOFVOUFO-NH2 PEPTIDE1{G.I.[Orn].[Orn].F.L.K.S.[Aib].[Orn].[Orn].F.V.[Orn].[Aib].F.[Orn].[am]}$$$$ [H]NCC(N[C@]([C@@H](C)CC)([H])C(N[C@@H](CCCN)C(N[C@@H](CCCN)C(N[C@H](C(N[C@@H](CC(C)C)C(N[C@@H](CCCN)C(N[C@@H](CO)C(NC(C(N[C@@H](CCCN)C(N[C@@H](CCCN)C(N[C@H](C(N[C@@H](C(C)C)C(N[C@@H](CCCN)C(NC(C(N[C@H](C(N[C@@H](CCCN)C(N)=O)=O)CC1=CC=CC=C1)=O)(C)C)=O)=O)=O)CC2=CC=CC=C2)=O)=O)=O)(C)C)=O)=O)=O)=O)CC3=CC=CC=C3)=O)=O)=O)=O\n",
            "unmatch:  57 H-GIKWFLKSUWKFVWUFK-NH2 PEPTIDE1{G.I.K.W.F.L.K.S.[Aib].W.K.F.V.W.[Aib].F.K.[am]}$$$$ [H]NCC(N[C@]([C@@H](C)CC)([H])C(N[C@H](C(N[C@H](C(N[C@H](C(N[C@@H](CC(C)C)C(N[C@H](C(N[C@@H](CO)C(NC(C(N[C@H](C(N[C@H](C(N[C@H](C(N[C@@H](C(C)C)C(N[C@H](C(NC(C(N[C@H](C(N[C@H](C(N)=O)C)=O)CC1=CC=CC=C1)=O)(C)C)=O)CC2=CNC3=C2C=CC=C3)=O)=O)CC4=CC=CC=C4)=O)C)=O)CC5=CNC6=C5C=CC=C6)=O)(C)C)=O)=O)C)=O)=O)CC7=CC=CC=C7)=O)CC8=CNC9=C8C=CC=C9)=O)C)=O)=O\n"
          ]
        }
      ],
      "source": [
        "import pandas as pd\n",
        "\n",
        "modan_raw_path = repo_root + \"data/helm/Dataset_MODAN_initial.xlsx\"\n",
        "df = pd.read_excel(modan_raw_path, sheet_name=\"Sheet1\", index_col=0)\n",
        "\n",
        "for idx, r in df.iterrows():\n",
        "    pep = r[\"Peptide sequence\"]\n",
        "    smiles = r[\"SMILES\"]\n",
        "    helm = helm_from_modan_pep_seq(pep)\n",
        "    mol_h = converter.convert(helm)\n",
        "    mol_s = Chem.MolFromSmiles(smiles)\n",
        "    if not is_same_mol(mol_h, mol_s):\n",
        "        print(\"unmatch: \", idx, pep, helm, smiles)"
      ]
    }
  ],
  "metadata": {
    "accelerator": "GPU",
    "colab": {
      "gpuType": "T4",
      "provenance": []
    },
    "kernelspec": {
      "display_name": "v3-forge",
      "language": "python",
      "name": "python3"
    },
    "language_info": {
      "codemirror_mode": {
        "name": "ipython",
        "version": 3
      },
      "file_extension": ".py",
      "mimetype": "text/x-python",
      "name": "python",
      "nbconvert_exporter": "python",
      "pygments_lexer": "ipython3",
      "version": "3.11.0"
    }
  },
  "nbformat": 4,
  "nbformat_minor": 0
}
