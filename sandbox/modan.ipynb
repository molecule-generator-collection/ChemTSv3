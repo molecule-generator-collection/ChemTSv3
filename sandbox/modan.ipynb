{
  "cells": [
    {
      "cell_type": "code",
      "execution_count": 2,
      "metadata": {},
      "outputs": [],
      "source": [
        "import sys\n",
        "molgen_path = \"../\"\n",
        "if molgen_path not in sys.path:\n",
        "    sys.path.insert(0, molgen_path)"
      ]
    },
    {
      "cell_type": "code",
      "execution_count": 23,
      "metadata": {},
      "outputs": [
        {
          "name": "stdout",
          "output_type": "stream",
          "text": [
            "The autoreload extension is already loaded. To reload it, use:\n",
            "  %reload_ext autoreload\n"
          ]
        },
        {
          "name": "stderr",
          "output_type": "stream",
          "text": [
            "[01:19:39] WARNING: not removing hydrogen atom with dummy atom neighbors\n",
            "[01:19:39] WARNING: not removing hydrogen atom with dummy atom neighbors\n",
            "[01:19:39] WARNING: not removing hydrogen atom with dummy atom neighbors\n"
          ]
        }
      ],
      "source": [
        "%load_ext autoreload\n",
        "%autoreload 2\n",
        "from rdkit import Chem\n",
        "from rdkit.Chem import AllChem\n",
        "from utils import MonomersLib, HELMConverter, draw_mol, get_main_mol, remove_isotopes, is_same_mol\n",
        "\n",
        "lib = MonomersLib()\n",
        "monomers_lib_path = molgen_path + \"data/helm/library/chembl_35_monomer_library.xml\"\n",
        "lib.load_xml(monomers_lib_path)\n",
        "monomers_lib_path = molgen_path + \"data/helm/library/modan.json\"\n",
        "lib.load_json(monomers_lib_path)\n",
        "converter = HELMConverter(lib)"
      ]
    },
    {
      "cell_type": "code",
      "execution_count": null,
      "metadata": {},
      "outputs": [
        {
          "data": {
            "image/jpeg": "[encoded data removed]",
            "image/png": "[encoded data removed]",
            "text/plain": [
              "<PIL.PngImagePlugin.PngImageFile image mode=RGB size=300x200>"
            ]
          },
          "metadata": {},
          "output_type": "display_data"
        }
      ],
      "source": [
        "# helm = \"PEPTIDE1{[S5Left]}|PEPTIDE1{[S5Right]}|PEPTIDE1{[R8]}|}$$$$\"\n",
        "# helm = \"PEPTIDE1{[Aib]}|PEPTIDE1{[Dab]}|PEPTIDE1{[Orn]}|}$$$$\"\n",
        "# helm = \"PEPTIDE1{[Ac5c]}|PEPTIDE1{[Ac6c]}}$$$$\"\n",
        "helm = \"PEPTIDE1{[Pentanoyl]}|PEPTIDE1{[Dodecanoyl]}|PEPTIDE1{[Octadecanoyl]}}$$$$\"\n",
        "mol = converter._convert(helm, close=False)\n",
        "draw_mol(mol, 300, 200)"
      ]
    },
    {
      "cell_type": "code",
      "execution_count": 16,
      "metadata": {},
      "outputs": [
        {
          "name": "stdout",
          "output_type": "stream",
          "text": [
            "True\n",
            "CC(C)C[C@H](NC(=O)[C@H](CCCCN)NC(=O)CNC(=O)[C@H](C)NC(=O)[C@H](CCCCN)NC(=O)[C@H](CCCCN)NC(=O)[C@H](CC(C)C)NC(=O)[C@H](CC(C)C)NC(=O)[C@@H](N)CCCCN)C(=O)N[C@@H](CC(C)C)C(=O)N[C@@H](CCCCN)C(=O)N[C@@H](CCCCN)C(=O)N[C@]1(C)CCCCCC/C=C\\CCC[C@@](C)(C(=O)NCC(N)=O)NC(=O)[C@H](CCCCN)NC(=O)[C@H](CCCCN)NC(=O)[C@H](CC(C)C)NC(=O)[C@H](CC(C)C)NC(=O)[C@H](CCCCN)NC(=O)CNC1=O\n",
            "CC(C)C[C@H](NC(=O)[C@H](CCCCN)NC(=O)CNC(=O)[C@H](C)NC(=O)[C@H](CCCCN)NC(=O)[C@H](CCCCN)NC(=O)[C@H](CC(C)C)NC(=O)[C@H](CC(C)C)NC(=O)[C@@H](N)CCCCN)C(=O)N[C@@H](CC(C)C)C(=O)N[C@@H](CCCCN)C(=O)N[C@@H](CCCCN)C(=O)N[C@]1(C)CCCCCC/C=C\\CCC[C@@](C)(C(=O)NCC(N)=O)NC(=O)[C@H](CCCCN)NC(=O)[C@H](CCCCN)NC(=O)[C@H](CC(C)C)NC(=O)[C@H](CC(C)C)NC(=O)[C@H](CCCCN)NC(=O)CNC1=O\n"
          ]
        }
      ],
      "source": [
        "width, height = 600, 300\n",
        "helm, smiles = \"PEPTIDE1{K.L.L.K.K.A.G.K.L.L.K.K.[R8].G.K.L.L.K.K.[S5Right].G.[am]}$PEPTIDE1,PEPTIDE1,13:R3-20:R3$$$\", \"NC(CNC([C@@](CCC/C=C\\CCCCCC1)(C)NC([C@H](CCCCN)NC([C@H](CCCCN)NC([C@H](CC(C)C)NC([C@H](CC(C)C)NC([C@H](CCCCN)NC(CNC([C@]1(C)NC([C@H](CCCCN)NC([C@H](CCCCN)NC([C@H](CC(C)C)NC([C@H](CC(C)C)NC([C@H](CCCCN)NC(CNC([C@H](C)NC([C@H](CCCCN)NC([C@H](CCCCN)NC([C@H](CC(C)C)NC([C@H](CC(C)C)NC([C@H](CCCCN)N)=O)=O)=O)=O)=O)=O)=O)=O)=O)=O)=O)=O)=O)=O)=O)=O)=O)=O)=O)=O)=O\"\n",
        "#H-KLLKKAGKLLKKR8GKLLKKS5G-NH2\n",
        "mol_h = converter.convert(helm)\n",
        "mol_s = Chem.MolFromSmiles(smiles)\n",
        "print(is_same_mol(mol_h, mol_s))\n",
        "#draw_mol(mol_h, width=width, height=height)\n",
        "#draw_mol(mol_s, width=width, height=height)\n",
        "print(Chem.MolToSmiles(mol_h))\n",
        "print(Chem.MolToSmiles(mol_s))"
      ]
    },
    {
      "cell_type": "code",
      "execution_count": null,
      "metadata": {},
      "outputs": [],
      "source": [
        "import re\n",
        "\n",
        "def split_modan_pep_seq(seq: str) -> list[str]:\n",
        "    pattern = (\n",
        "        r\"-\"\n",
        "        r\"\\[[^\\[\\]]*(?:\\[[^\\[\\]]*\\][^\\[\\]]*)*\\]\"\n",
        "        r\"|PEPTIDE\\d+\"\n",
        "        r\"|RNA\\d+\"\n",
        "        r\"|CHEM\\d+\"\n",
        "        r\"|BLOB\\d+\"\n",
        "        r\"|R\\d\"\n",
        "        r\"|pair\"\n",
        "        #r\"|V2.0\"\n",
        "        r\"|[A-Z]\"\n",
        "        r\"|[a-z]\"\n",
        "        r\"|\\||\\(|\\)|\\{|\\}|-|\\$|:|,|\\.\"\n",
        "        r\"|\\d{2}|\\d\"\n",
        "        r\")\"\n",
        "    )\n",
        "    tokens = re.findall(pattern, helm)\n",
        "\n",
        "def helm_from_modan_pep_seq(seq: str) -> str:\n",
        "    pass"
      ]
    },
    {
      "cell_type": "code",
      "execution_count": 16,
      "metadata": {},
      "outputs": [
        {
          "name": "stdout",
          "output_type": "stream",
          "text": [
            "H-KKKKKKKKKGGGLLALLALLA-NH2 [H]N[C@@H](CCCCN)C(N[C@@H](CCCCN)C(N[C@@H](CCCCN)C(N[C@@H](CCCCN)C(N[C@@H](CCCCN)C(N[C@@H](CCCCN)C(N[C@@H](CCCCN)C(N[C@@H](CCCCN)C(N[C@@H](CCCCN)C(NCC(NCC(NCC(N[C@@H](CC(C)C)C(N[C@@H](CC(C)C)C(N[C@H](C(N[C@@H](CC(C)C)C(N[C@@H](CC(C)C)C(N[C@H](C(N[C@@H](CC(C)C)C(N[C@@H](CC(C)C)C(N[C@H](C(N)=O)C)=O)=O)=O)C)=O)=O)=O)C)=O)=O)=O)=O)=O)=O)=O)=O)=O)=O)=O)=O)=O)=O\n",
            "H-GIGKFLHSAKKFGKAFVGEIMNS-NH2 [H]NCC(N[C@]([C@@H](C)CC)([H])C(NCC(N[C@@H](CCCCN)C(N[C@H](C(N[C@@H](CC(C)C)C(N[C@H](C(N[C@@H](CO)C(N[C@H](C(N[C@@H](CCCCN)C(N[C@@H](CCCCN)C(N[C@H](C(NCC(N[C@@H](CCCCN)C(N[C@H](C(N[C@H](C(N[C@@H](C(C)C)C(NCC(N[C@@H](CCC(O)=O)C(N[C@]([C@@H](C)CC)([H])C(N[C@H](C(N[C@@H](CC(N)=O)C(N[C@@H](CO)C(N)=O)=O)=O)CCSC)=O)=O)=O)=O)=O)CC1=CC=CC=C1)=O)C)=O)=O)=O)CC2=CC=CC=C2)=O)=O)=O)C)=O)=O)CC3=CN=CN3)=O)=O)CC4=CC=CC=C4)=O)=O)=O)=O\n",
            "H-gIgKfLhSaKkFgKaFv-NH2 [H]NCC(N[C@]([H])(C(NCC(N[C@H](C(N[C@H](CC1=CC=CC=C1)C(N[C@H](C(N[C@H](CC2=CN=CN2)C(N[C@H](C(N[C@H](C)C(N[C@H](C(N[C@@H](C(N[C@@H](CC3=CC=CC=C3)C(NCC(N[C@H](C(N[C@H](C)C(N[C@@H](CC4=CC=CC=C4)C(N[C@@H](C(N)=O)C(C)C)=O)=O)=O)CCCCN)=O)=O)=O)CCCCN)=O)CCCCN)=O)=O)CO)=O)=O)CC(C)C)=O)=O)CCCCN)=O)=O)[C@H](CC)C)=O\n",
            "H-gigkflhsakkfgkafv-NH2 [H]NCC(N[C@@]([H])(C(NCC(N[C@@H](C(N[C@H](CC1=CC=CC=C1)C(N[C@@H](C(N[C@H](CC2=CN=CN2)C(N[C@@H](C(N[C@H](C)C(N[C@@H](C(N[C@@H](C(N[C@H](CC3=CC=CC=C3)C(NCC(N[C@@H](C(N[C@H](C)C(N[C@H](CC4=CC=CC=C4)C(N[C@@H](C(N)=O)C(C)C)=O)=O)=O)CCCCN)=O)=O)=O)CCCCN)=O)CCCCN)=O)=O)CO)=O)=O)CC(C)C)=O)=O)CCCCN)=O)=O)[C@@H](CC)C)=O\n",
            "H-GIGKFLHSUKKFGKUFV-NH2 [H]NCC(N[C@]([C@@H](C)CC)([H])C(NCC(N[C@@H](CCCCN)C(N[C@H](C(N[C@@H](CC(C)C)C(N[C@H](C(N[C@@H](CO)C(NC(C(N[C@@H](CCCCN)C(N[C@@H](CCCCN)C(N[C@H](C(NCC(N[C@@H](CCCCN)C(NC(C(N[C@H](C(N[C@@H](C(C)C)C(N)=O)=O)CC1=CC=CC=C1)=O)(C)C)=O)=O)=O)CC2=CC=CC=C2)=O)=O)=O)(C)C)=O)=O)CC3=CN=CN3)=O)=O)CC4=CC=CC=C4)=O)=O)=O)=O\n",
            "H-GIGKFLHSZKKFGKZFV-NH2 [H]NCC(N[C@]([C@@H](C)CC)([H])C(NCC(N[C@@H](CCCCN)C(N[C@H](C(N[C@@H](CC(C)C)C(N[C@H](C(N[C@@H](CO)C(NC1(CCCCC1)C(N[C@@H](CCCCN)C(N[C@@H](CCCCN)C(N[C@H](C(NCC(N[C@@H](CCCCN)C(NC2(CCCCC2)C(N[C@H](C(N[C@@H](C(C)C)C(N)=O)=O)CC3=CC=CC=C3)=O)=O)=O)=O)CC4=CC=CC=C4)=O)=O)=O)=O)=O)CC5=CN=CN5)=O)=O)CC6=CC=CC=C6)=O)=O)=O)=O\n",
            "H-GIKKFLHSAKKFGKAFV-NH2 [H]NCC(N[C@]([C@@H](C)CC)([H])C(N[C@@H](CCCCN)C(N[C@@H](CCCCN)C(N[C@H](C(N[C@@H](CC(C)C)C(N[C@H](C(N[C@@H](CO)C(N[C@H](C(N[C@@H](CCCCN)C(N[C@@H](CCCCN)C(N[C@H](C(NCC(N[C@@H](CCCCN)C(N[C@H](C(N[C@H](C(N[C@@H](C(C)C)C(N)=O)=O)CC1=CC=CC=C1)=O)C)=O)=O)=O)CC2=CC=CC=C2)=O)=O)=O)C)=O)=O)CC3=CN=CN3)=O)=O)CC4=CC=CC=C4)=O)=O)=O)=O\n",
            "H-GIKKFLKSAKKFKKAFV-NH2 [H]NCC(N[C@]([C@@H](C)CC)([H])C(N[C@@H](CCCCN)C(N[C@@H](CCCCN)C(N[C@H](C(N[C@@H](CC(C)C)C(N[C@@H](CCCCN)C(N[C@@H](CO)C(N[C@H](C(N[C@@H](CCCCN)C(N[C@@H](CCCCN)C(N[C@H](C(N[C@@H](CCCCN)C(N[C@@H](CCCCN)C(N[C@H](C(N[C@H](C(N[C@@H](C(C)C)C(N)=O)=O)CC1=CC=CC=C1)=O)C)=O)=O)=O)CC2=CC=CC=C2)=O)=O)=O)C)=O)=O)=O)=O)CC3=CC=CC=C3)=O)=O)=O)=O\n",
            "H-GIKKFLKSAKKFVKAFK-NH2 [H]NCC(=O)N[C@@]([H])([C@@H](C)CC)C(=O)N[C@@H](CCCCN)C(=O)N[C@@H](CCCCN)C(=O)N[C@@H](CC1=CC=CC=C1)C(=O)N[C@@H](CC(C)C)C(=O)N[C@@H](CCCCN)C(=O)N[C@@H](CO)C(=O)N[C@@H](C)C(=O)N[C@@H](CCCCN)C(=O)N[C@@H](CCCCN)C(=O)N[C@@H](CC1=CC=CC=C1)C(=O)N[C@@H](C(C)C)C(=O)N[C@@H](CCCCN)C(=O)N[C@@H](C)C(=O)N[C@@H](CC1=CC=CC=C1)C(=O)N[C@@H](CCCCN)C(N)=O\n",
            "H-KKKLAKLKLGAKLKLKGKLGA-NH2 [H]N[C@@H](CCCCN)C(N[C@@H](CCCCN)C(N[C@@H](CCCCN)C(N[C@@H](CC(C)C)C(N[C@H](C(N[C@@H](CCCCN)C(N[C@@H](CC(C)C)C(N[C@@H](CCCCN)C(N[C@@H](CC(C)C)C(NCC(N[C@H](C(N[C@@H](CCCCN)C(N[C@@H](CC(C)C)C(N[C@@H](CCCCN)C(N[C@@H](CC(C)C)C(N[C@@H](CCCCN)C(NCC(N[C@@H](CCCCN)C(N[C@@H](CC(C)C)C(NCC(N[C@H](C(N)=O)C)=O)=O)=O)=O)=O)=O)=O)=O)=O)=O)C)=O)=O)=O)=O)=O)=O)C)=O)=O)=O)=O\n",
            "H-KKX0UKKX0U-NH2 [H]N[C@@H](CCCCN)C(N[C@@H](CCCCN)C(N[C@@H](CCOCC=C)C(NC(C(N[C@@H](CCCCN)C(N[C@@H](CCCCN)C(N[C@@H](CCOCC=C)C(NC(C(N)=O)(C)C)=O)=O)=O)=O)(C)C)=O)=O)=O\n",
            "H-KKX0=UKKX0=U-NH2 [H]N[C@@H](CCCCN)C(N[C@@H](CCCCN)C(N[C@@H](CCOC/C=C\\COCC[C@@H](C(NC(C(N)=O)(C)C)=O)NC([C@H](CCCCN)N1)=O)C(NC(C(N[C@@H](CCCCN)C1=O)=O)(C)C)=O)=O)=O\n",
            "H-KKUUKKU-NH2 [H]N[C@@H](CCCCN)C(N[C@@H](CCCCN)C(NC(C(NC(C(N[C@@H](CCCCN)C(N[C@@H](CCCCN)C(NC(C(N)=O)(C)C)=O)=O)=O)(C)C)=O)(C)C)=O)=O\n",
            "H-KKBBKKB-NH2 [H]N[C@@H](CCCCN)C(N[C@@H](CCCCN)C(NC1(CCCC1)C(NC2(CCCC2)C(N[C@@H](CCCCN)C(N[C@@H](CCCCN)C(NC3(CCCC3)C(N)=O)=O)=O)=O)=O)=O)=O\n",
            "H-KKZZKKZ-NH2 [H]N[C@@H](CCCCN)C(N[C@@H](CCCCN)C(NC1(CCCCC1)C(NC2(CCCCC2)C(N[C@@H](CCCCN)C(N[C@@H](CCCCN)C(NC3(CCCCC3)C(N)=O)=O)=O)=O)=O)=O)=O\n",
            "H-GIGKFLHSAKKFGKAFVGEIDS-NH2 [H]NCC(N[C@]([C@@H](C)CC)([H])C(NCC(N[C@@H](CCCCN)C(N[C@H](C(N[C@@H](CC(C)C)C(N[C@H](C(N[C@@H](CO)C(N[C@H](C(N[C@@H](CCCCN)C(N[C@@H](CCCCN)C(N[C@H](C(NCC(N[C@@H](CCCCN)C(N[C@H](C(N[C@H](C(N[C@@H](C(C)C)C(NCC(N[C@@H](CCC(O)=O)C(N[C@]([C@@H](C)CC)([H])C(N[C@H](C(N[C@@H](CO)C(N)=O)=O)CC(O)=O)=O)=O)=O)=O)=O)CC1=CC=CC=C1)=O)C)=O)=O)=O)CC2=CC=CC=C2)=O)=O)=O)C)=O)=O)CC3=CN=CN3)=O)=O)CC4=CC=CC=C4)=O)=O)=O)=O\n",
            "Ac-KFLHSAKKF-NH2 [H]N(C(C)=O)[C@@H](CCCCN)C(N[C@H](C(N[C@@H](CC(C)C)C(N[C@H](C(N[C@@H](CO)C(N[C@H](C(N[C@@H](CCCCN)C(N[C@@H](CCCCN)C(N[C@H](C(N)=O)CC1=CC=CC=C1)=O)=O)=O)C)=O)=O)CC2=CN=CN2)=O)=O)CC3=CC=CC=C3)=O\n",
            "Ac-AKKFGKAFV-NH2 NC([C@H](C(C)C)NC([C@@H](NC([C@@H](NC([C@H](CCCCN)NC(CNC([C@@H](NC([C@H](CCCCN)NC([C@H](CCCCN)NC([C@@H](NC(C)=O)C)=O)=O)=O)CC1=CC=CC=C1)=O)=O)=O)C)=O)CC2=CC=CC=C2)=O)=O\n",
            "Ac-GIGKFLHSAKKF-NH2 NC([C@@H](NC([C@H](CCCCN)NC([C@H](CCCCN)NC([C@@H](NC([C@H](CO)NC([C@@H](NC([C@H](CC(C)C)NC([C@@H](NC([C@H](CCCCN)NC(CNC([C@@]([C@@H](C)CC)([H])NC(CNC(C)=O)=O)=O)=O)=O)CC1=CC=CC=C1)=O)=O)CC2=CN=CN2)=O)=O)C)=O)=O)=O)CC3=CC=CC=C3)=O\n",
            "Ac-KFLHSAKKFGKAFV-NH2 NC([C@H](C(C)C)NC([C@@H](NC([C@@H](NC([C@H](CCCCN)NC(CNC([C@@H](NC([C@H](CCCCN)NC([C@H](CCCCN)NC([C@@H](NC([C@H](CO)NC([C@@H](NC([C@H](CC(C)C)NC([C@@H](NC([C@H](CCCCN)NC(C)=O)=O)CC1=CC=CC=C1)=O)=O)CC2=CN=CN2)=O)=O)C)=O)=O)=O)CC3=CC=CC=C3)=O)=O)=O)C)=O)CC4=CC=CC=C4)=O)=O\n",
            "Ac-GIGKFLHSAKKFGKAFVGEIMNS-NH2 NC([C@H](CO)NC([C@H](CC(N)=O)NC([C@@H](NC([C@@]([C@@H](C)CC)([H])NC([C@H](CCC(O)=O)NC(CNC([C@H](C(C)C)NC([C@@H](NC([C@@H](NC([C@H](CCCCN)NC(CNC([C@@H](NC([C@H](CCCCN)NC([C@H](CCCCN)NC([C@@H](NC([C@H](CO)NC([C@@H](NC([C@H](CC(C)C)NC([C@@H](NC([C@H](CCCCN)NC(CNC([C@@]([C@@H](C)CC)([H])NC(CNC(C)=O)=O)=O)=O)=O)CC1=CC=CC=C1)=O)=O)CC2=CN=CN2)=O)=O)C)=O)=O)=O)CC3=CC=CC=C3)=O)=O)=O)C)=O)CC4=CC=CC=C4)=O)=O)=O)=O)=O)CCSC)=O)=O)=O\n",
            "Ac-GIGKFLHSAKKFGKAFV-NH2 NC([C@H](C(C)C)NC([C@@H](NC([C@@H](NC([C@H](CCCCN)NC(CNC([C@@H](NC([C@H](CCCCN)NC([C@H](CCCCN)NC([C@@H](NC([C@H](CO)NC([C@@H](NC([C@H](CC(C)C)NC([C@@H](NC([C@H](CCCCN)NC(CNC([C@@]([C@@H](C)CC)([H])NC(CNC(C)=O)=O)=O)=O)=O)CC1=CC=CC=C1)=O)=O)CC2=CN=CN2)=O)=O)C)=O)=O)=O)CC3=CC=CC=C3)=O)=O)=O)C)=O)CC4=CC=CC=C4)=O)=O\n",
            "H-KFLHSAKKFGKAFVGIG-NH2 [H]N[C@@H](CCCCN)C(N[C@H](C(N[C@@H](CC(C)C)C(N[C@H](C(N[C@@H](CO)C(N[C@H](C(N[C@@H](CCCCN)C(N[C@@H](CCCCN)C(N[C@H](C(NCC(N[C@@H](CCCCN)C(N[C@H](C(N[C@H](C(N[C@@H](C(C)C)C(NCC(N[C@]([C@@H](C)CC)([H])C(NCC(N)=O)=O)=O)=O)=O)CC1=CC=CC=C1)=O)C)=O)=O)=O)CC2=CC=CC=C2)=O)=O)=O)C)=O)=O)CC3=CN=CN3)=O)=O)CC4=CC=CC=C4)=O\n",
            "H-GIGKFLHSAKKFGKAFVGIG-NH2 [H]NCC(N[C@]([C@@H](C)CC)([H])C(NCC(N[C@@H](CCCCN)C(N[C@H](C(N[C@@H](CC(C)C)C(N[C@H](C(N[C@@H](CO)C(N[C@H](C(N[C@@H](CCCCN)C(N[C@@H](CCCCN)C(N[C@H](C(NCC(N[C@@H](CCCCN)C(N[C@H](C(N[C@H](C(N[C@@H](C(C)C)C(NCC(N[C@]([C@@H](C)CC)([H])C(NCC(N)=O)=O)=O)=O)=O)CC1=CC=CC=C1)=O)C)=O)=O)=O)CC2=CC=CC=C2)=O)=O)=O)C)=O)=O)CC3=CN=CN3)=O)=O)CC4=CC=CC=C4)=O)=O)=O)=O\n",
            "H-LIKKFLHSAKKFLKAFV-NH2 [H]N[C@@H](CC(C)C)C(N[C@]([C@@H](C)CC)([H])C(N[C@@H](CCCCN)C(N[C@@H](CCCCN)C(N[C@H](C(N[C@@H](CC(C)C)C(N[C@H](C(N[C@@H](CO)C(N[C@H](C(N[C@@H](CCCCN)C(N[C@@H](CCCCN)C(N[C@H](C(N[C@@H](CC(C)C)C(N[C@@H](CCCCN)C(N[C@H](C(N[C@H](C(N[C@@H](C(C)C)C(N)=O)=O)CC1=CC=CC=C1)=O)C)=O)=O)=O)CC2=CC=CC=C2)=O)=O)=O)C)=O)=O)CC3=CN=CN3)=O)=O)CC4=CC=CC=C4)=O)=O)=O)=O\n",
            "H-KKLLKLLKKLLK-NH2 [H]N[C@@H](CCCCN)C(N[C@@H](CCCCN)C(N[C@@H](CC(C)C)C(N[C@@H](CC(C)C)C(N[C@@H](CCCCN)C(N[C@@H](CC(C)C)C(N[C@@H](CC(C)C)C(N[C@@H](CCCCN)C(N[C@@H](CCCCN)C(N[C@@H](CC(C)C)C(N[C@@H](CC(C)C)C(N[C@@H](CCCCN)C(N)=O)=O)=O)=O)=O)=O)=O)=O)=O)=O)=O)=O\n",
            "H-KKLLKLLKKLLKLLKK-NH2 [H]N[C@@H](CCCCN)C(N[C@@H](CCCCN)C(N[C@@H](CC(C)C)C(N[C@@H](CC(C)C)C(N[C@@H](CCCCN)C(N[C@@H](CC(C)C)C(N[C@@H](CC(C)C)C(N[C@@H](CCCCN)C(N[C@@H](CCCCN)C(N[C@@H](CC(C)C)C(N[C@@H](CC(C)C)C(N[C@@H](CCCCN)C(N[C@@H](CC(C)C)C(N[C@@H](CC(C)C)C(N[C@@H](CCCCN)C(N[C@@H](CCCCN)C(N)=O)=O)=O)=O)=O)=O)=O)=O)=O)=O)=O)=O)=O)=O)=O)=O\n",
            "H-GIGKFLSHAKKFGKAFVGEIMNS-NH2 [H]NCC(N[C@]([C@@H](C)CC)([H])C(NCC(N[C@@H](CCCCN)C(N[C@H](C(N[C@@H](CC(C)C)C(N[C@@H](CO)C(N[C@H](C(N[C@H](C(N[C@@H](CCCCN)C(N[C@@H](CCCCN)C(N[C@H](C(NCC(N[C@@H](CCCCN)C(N[C@H](C(N[C@H](C(N[C@@H](C(C)C)C(NCC(N[C@@H](CCC(O)=O)C(N[C@]([C@@H](C)CC)([H])C(N[C@H](C(N[C@@H](CC(N)=O)C(N[C@@H](CO)C(N)=O)=O)=O)CCSC)=O)=O)=O)=O)=O)CC1=CC=CC=C1)=O)C)=O)=O)=O)CC2=CC=CC=C2)=O)=O)=O)C)=O)CC3=CN=CN3)=O)=O)=O)CC4=CC=CC=C4)=O)=O)=O)=O\n",
            "H-GIGKFLSHAKKFGKAFV-NH2 [H]NCC(N[C@]([C@@H](C)CC)([H])C(NCC(N[C@@H](CCCCN)C(N[C@H](C(N[C@@H](CC(C)C)C(N[C@@H](CO)C(N[C@H](C(N[C@H](C(N[C@@H](CCCCN)C(N[C@@H](CCCCN)C(N[C@H](C(NCC(N[C@@H](CCCCN)C(N[C@H](C(N[C@H](C(N[C@@H](C(C)C)C(N)=O)=O)CC1=CC=CC=C1)=O)C)=O)=O)=O)CC2=CC=CC=C2)=O)=O)=O)C)=O)CC3=CN=CN3)=O)=O)=O)CC4=CC=CC=C4)=O)=O)=O)=O\n",
            "H-KFLHSAKKFGKAFV-NH2 [H]N[C@@H](CCCCN)C(N[C@H](C(N[C@@H](CC(C)C)C(N[C@H](C(N[C@@H](CO)C(N[C@H](C(N[C@@H](CCCCN)C(N[C@@H](CCCCN)C(N[C@H](C(NCC(N[C@@H](CCCCN)C(N[C@H](C(N[C@H](C(N[C@@H](C(C)C)C(N)=O)=O)CC1=CC=CC=C1)=O)C)=O)=O)=O)CC2=CC=CC=C2)=O)=O)=O)C)=O)=O)CC3=CN=CN3)=O)=O)CC4=CC=CC=C4)=O\n",
            "H-GGGKFLHSAKKFGKAFV-NH2 [H]NCC(NCC(NCC(N[C@@H](CCCCN)C(N[C@H](C(N[C@@H](CC(C)C)C(N[C@H](C(N[C@@H](CO)C(N[C@H](C(N[C@@H](CCCCN)C(N[C@@H](CCCCN)C(N[C@H](C(NCC(N[C@@H](CCCCN)C(N[C@H](C(N[C@H](C(N[C@@H](C(C)C)C(N)=O)=O)CC1=CC=CC=C1)=O)C)=O)=O)=O)CC2=CC=CC=C2)=O)=O)=O)C)=O)=O)CC3=CN=CN3)=O)=O)CC4=CC=CC=C4)=O)=O)=O)=O\n",
            "H-GIKKFLKSZKKFVKZFK-NH2 [H]NCC(N[C@]([C@@H](C)CC)([H])C(N[C@@H](CCCCN)C(N[C@@H](CCCCN)C(N[C@H](C(N[C@@H](CC(C)C)C(N[C@@H](CCCCN)C(N[C@@H](CO)C(NC1(CCCCC1)C(N[C@@H](CCCCN)C(N[C@@H](CCCCN)C(N[C@H](C(N[C@@H](C(C)C)C(N[C@@H](CCCCN)C(NC2(CCCCC2)C(N[C@H](C(N[C@@H](CCCCN)C(N)=O)=O)CC3=CC=CC=C3)=O)=O)=O)=O)CC4=CC=CC=C4)=O)=O)=O)=O)=O)=O)=O)CC5=CC=CC=C5)=O)=O)=O)=O\n",
            "Ac-KFLHSAKKFGKAFVGEIMNS-NH2 NC([C@H](CO)NC([C@H](CC(N)=O)NC([C@@H](NC([C@@]([C@@H](C)CC)([H])NC([C@H](CCC(O)=O)NC(CNC([C@H](C(C)C)NC([C@@H](NC([C@@H](NC([C@H](CCCCN)NC(CNC([C@@H](NC([C@H](CCCCN)NC([C@H](CCCCN)NC([C@@H](NC([C@H](CO)NC([C@@H](NC([C@H](CC(C)C)NC([C@@H](NC([C@H](CCCCN)NC(C)=O)=O)CC1=CC=CC=C1)=O)=O)CC2=CN=CN2)=O)=O)C)=O)=O)=O)CC3=CC=CC=C3)=O)=O)=O)C)=O)CC4=CC=CC=C4)=O)=O)=O)=O)=O)CCSC)=O)=O)=O\n",
            "H-GIKKFLKSUKKFVKUFK-NH2 [H]NCC(N[C@]([C@@H](C)CC)([H])C(N[C@@H](CCCCN)C(N[C@@H](CCCCN)C(N[C@H](C(N[C@@H](CC(C)C)C(N[C@@H](CCCCN)C(N[C@@H](CO)C(NC(C(N[C@@H](CCCCN)C(N[C@@H](CCCCN)C(N[C@H](C(N[C@@H](C(C)C)C(N[C@@H](CCCCN)C(NC(C(N[C@H](C(N[C@@H](CCCCN)C(N)=O)=O)CC1=CC=CC=C1)=O)(C)C)=O)=O)=O)CC2=CC=CC=C2)=O)=O)=O)(C)C)=O)=O)=O)=O)CC3=CC=CC=C3)=O)=O)=O)=O\n",
            "H-S5IKKS5LKSAKKFVKAFK-NH2 NC([C@H](CCCCN)NC([C@@H](NC([C@@H](NC([C@H](CCCCN)NC([C@H](C(C)C)NC([C@@H](NC([C@H](CCCCN)NC([C@H](CCCCN)NC([C@@H](NC([C@H](CO)NC([C@H](CCCCN)NC([C@H](CC(C)C)NC([C@]1(C)CCC/C=C\\CCC[C@@](N)(C)C(N[C@]([C@@H](C)CC)([H])C(N[C@@H](CCCCN)C(N[C@@H](CCCCN)C(N1)=O)=O)=O)=O)=O)=O)=O)=O)C)=O)=O)=O)CC2=CC=CC=C2)=O)=O)=O)C)=O)CC3=CC=CC=C3)=O)=O\n",
            "H-GIKKS5LKSS5KKFVKAFK-NH2 NC([C@H](CCCCN)NC([C@@H](NC([C@@H](NC([C@H](CCCCN)NC([C@H](C(C)C)NC([C@@H](NC([C@H](CCCCN)NC([C@H](CCCCN)NC([C@]1(C)CCC/C=C\\CCC[C@@](NC([C@H](CCCCN)NC([C@H](CCCCN)NC([C@@]([C@@H](C)CC)([H])NC(CN)=O)=O)=O)=O)(C)C(N[C@@H](CC(C)C)C(N[C@@H](CCCCN)C(N[C@@H](CO)C(N1)=O)=O)=O)=O)=O)=O)=O)CC2=CC=CC=C2)=O)=O)=O)C)=O)CC3=CC=CC=C3)=O)=O\n",
            "H-GIKKFLKS5AKKS5VKAFK-NH2 NCC(N[C@]([C@@H](C)CC)([H])C(N[C@@H](CCCCN)C(N[C@@H](CCCCN)C(N[C@H](C(N[C@@H](CC(C)C)C(N[C@@H](CCCCN)C(N[C@](CCC/C=C\\CCC[C@](C(N[C@@H](C(C)C)C(N[C@@H](CCCCN)C(N[C@@H](C)C(N[C@@H](CC1=CC=CC=C1)C(N[C@@H](CCCCN)C(N)=O)=O)=O)=O)=O)=O)(C)NC2=O)(C)C(N[C@@H](C)C(N[C@@H](CCCCN)C(N[C@H]2CCCCN)=O)=O)=O)=O)=O)=O)CC3=CC=CC=C3)=O)=O)=O)=O\n",
            "H-GIKKFLKSS5KKFS5KAFK-NH2 NCC(N[C@]([C@@H](C)CC)([H])C(N[C@@H](CCCCN)C(N[C@@H](CCCCN)C(N[C@H](C(N[C@@H](CC(C)C)C(N[C@@H](CCCCN)C(N[C@@H](CO)C(N[C@](CCC/C=C\\CCC[C@](C(N[C@@H](CCCCN)C(N[C@H](C(N[C@H](C(N[C@@H](CCCCN)C(N)=O)=O)CC1=CC=CC=C1)=O)C)=O)=O)(C)NC2=O)(C)C(N[C@@H](CCCCN)C(N[C@@H](CCCCN)C(N[C@H]2CC3=CC=CC=C3)=O)=O)=O)=O)=O)=O)=O)CC4=CC=CC=C4)=O)=O)=O)=O\n",
            "H-GIKKFLKSAKKS5VKAS5K-NH2 NCC(N[C@]([C@@H](C)CC)([H])C(N[C@@H](CCCCN)C(N[C@@H](CCCCN)C(N[C@H](C(N[C@@H](CC(C)C)C(N[C@@H](CCCCN)C(N[C@@H](CO)C(N[C@H](C(N[C@@H](CCCCN)C(N[C@@H](CCCCN)C(N[C@](CCC/C=C\\CCC[C@](C(N[C@H](C(N)=O)CCCCN)=O)(C)NC([C@@H]1C)=O)(C)C(N[C@@H](C(C)C)C(N[C@@H](CCCCN)C(N1)=O)=O)=O)=O)=O)=O)C)=O)=O)=O)=O)CC2=CC=CC=C2)=O)=O)=O)=O\n",
            "H-GIKKR8LKSAKKS5VKAFK-NH2 NCC(N[C@]([C@@H](C)CC)([H])C(N[C@@H](CCCCN)C(N[C@@H](CCCCN)C(N[C@](C)(CCCCCC/C=C\\CCC[C@](C(N[C@@H](C(C)C)C(N[C@@H](CCCCN)C(N[C@H](C(N[C@H](C(N[C@@H](CCCCN)C(N)=O)=O)CC1=CC=CC=C1)=O)C)=O)=O)=O)(C)NC([C@H](CCCCN)N2)=O)C(N[C@@H](CC(C)C)C(N[C@@H](CCCCN)C(N[C@@H](CO)C(N[C@H](C(N[C@@H](CCCCN)C2=O)=O)C)=O)=O)=O)=O)=O)=O)=O)=O\n",
            "H-GIKKFLKR8AKKFVKS5FK-NH2 NCC(N[C@]([C@@H](C)CC)([H])C(N[C@@H](CCCCN)C(N[C@@H](CCCCN)C(N[C@H](C(N[C@@H](CC(C)C)C(N[C@@H](CCCCN)C(N[C@](C)(CCCCCC/C=C\\CCC[C@](C(N[C@H](C(N[C@@H](CCCCN)C(N)=O)=O)CC1=CC=CC=C1)=O)(C)NC([C@H](CCCCN)N2)=O)C(N[C@H](C(N[C@@H](CCCCN)C(N[C@@H](CCCCN)C(N[C@H](C(N[C@@H](C(C)C)C2=O)=O)CC3=CC=CC=C3)=O)=O)=O)C)=O)=O)=O)=O)CC4=CC=CC=C4)=O)=O)=O)=O\n",
            "H-GIKKFLKSR8KKFVKAS5K-NH2 NCC(N[C@]([C@H](CC)C)([H])C(N[C@@H](CCCCN)C(N[C@@H](CCCCN)C(N[C@H](C(N[C@@H](CC(C)C)C(N[C@@H](CCCCN)C(N[C@@H](CO)C(N[C@](C)(CCCCCC/C=C\\CCC[C@](C(N[C@@H](CCCCN)C(N)=O)=O)(C)NC([C@@H]1C)=O)C(N[C@@H](CCCCN)C(N[C@@H](CCCCN)C(N[C@H](C(N[C@@H](C(C)C)C(N[C@@H](CCCCN)C(N1)=O)=O)=O)CC2=CC=CC=C2)=O)=O)=O)=O)=O)=O)=O)CC3=CC=CC=C3)=O)=O)=O)=O\n",
            "H-IWLTALKFLGKHAAKHLAKQQLSKL-NH2 [H]N[C@]([C@H](CC)C)([H])C(N[C@H](C(N[C@@H](CC(C)C)C(N[C@]([C@H](O)C)([H])C(N[C@H](C(N[C@@H](CC(C)C)C(N[C@@H](CCCCN)C(N[C@H](C(N[C@@H](CC(C)C)C(NCC(N[C@@H](CCCCN)C(N[C@H](C(N[C@H](C(N[C@H](C(N[C@@H](CCCCN)C(N[C@H](C(N[C@@H](CC(C)C)C(N[C@H](C(N[C@@H](CCCCN)C(N[C@@H](CCC(N)=O)C(N[C@@H](CCC(N)=O)C(N[C@@H](CC(C)C)C(N[C@@H](CO)C(N[C@@H](CCCCN)C(N[C@@H](CC(C)C)C(N)=O)=O)=O)=O)=O)=O)=O)=O)C)=O)=O)CC1=CN=CN1)=O)=O)C)=O)C)=O)CC2=CN=CN2)=O)=O)=O)=O)CC3=CC=CC=C3)=O)=O)=O)C)=O)=O)=O)CC4=CNC5=C4C=CC=C5)=O\n",
            "H-GIOOFLKSUOOFVOUFO-NH2 [H]NCC(N[C@]([C@@H](C)CC)([H])C(N[C@@H](CCCN)C(N[C@@H](CCCN)C(N[C@H](C(N[C@@H](CC(C)C)C(N[C@@H](CCCN)C(N[C@@H](CO)C(NC(C(N[C@@H](CCCN)C(N[C@@H](CCCN)C(N[C@H](C(N[C@@H](C(C)C)C(N[C@@H](CCCN)C(NC(C(N[C@H](C(N[C@@H](CCCN)C(N)=O)=O)CC1=CC=CC=C1)=O)(C)C)=O)=O)=O)CC2=CC=CC=C2)=O)=O)=O)(C)C)=O)=O)=O)=O)CC3=CC=CC=C3)=O)=O)=O)=O\n",
            "H-GIJJFLJSUJJFVJUFJ-NH2 [H]NCC(N[C@]([C@@H](C)CC)([H])C(N[C@@H](CCN)C(N[C@@H](CCN)C(N[C@H](C(N[C@@H](CC(C)C)C(N[C@@H](CCN)C(N[C@@H](CO)C(NC(C(N[C@@H](CCN)C(N[C@@H](CCN)C(N[C@H](C(N[C@@H](C(C)C)C(N[C@@H](CCN)C(NC(C(N[C@H](C(N[C@@H](CCN)C(N)=O)=O)CC1=CC=CC=C1)=O)(C)C)=O)=O)=O)CC2=CC=CC=C2)=O)=O)=O)(C)C)=O)=O)=O)=O)CC3=CC=CC=C3)=O)=O)=O)=O\n",
            "H-GIRRFLRSURRFVRUFR-NH2 [H]NCC(N[C@]([C@@H](C)CC)([H])C(N[C@@H](CCCNC(N)=N)C(N[C@@H](CCCNC(N)=N)C(N[C@H](C(N[C@@H](CC(C)C)C(N[C@@H](CCCNC(N)=N)C(N[C@@H](CO)C(NC(C(N[C@@H](CCCNC(N)=N)C(N[C@@H](CCCNC(N)=N)C(N[C@H](C(N[C@@H](C(C)C)C(N[C@@H](CCCNC(N)=N)C(NC(C(N[C@H](C(N[C@@H](CCCNC(N)=N)C(N)=O)=O)CC1=CC=CC=C1)=O)(C)C)=O)=O)=O)CC2=CC=CC=C2)=O)=O)=O)(C)C)=O)=O)=O)=O)CC3=CC=CC=C3)=O)=O)=O)=O\n",
            "H-GIHHFLHSUHHFVHUFH-NH2 [H]NCC(N[C@]([C@@H](C)CC)([H])C(N[C@H](C(N[C@H](C(N[C@H](C(N[C@@H](CC(C)C)C(N[C@H](C(N[C@@H](CO)C(NC(C(N[C@H](C(N[C@H](C(N[C@H](C(N[C@@H](C(C)C)C(N[C@H](C(NC(C(N[C@H](C(N[C@H](C(N)=O)CC1=CN=CN1)=O)CC2=CC=CC=C2)=O)(C)C)=O)CC3=CN=CN3)=O)=O)CC4=CC=CC=C4)=O)CC5=CN=CN5)=O)CC6=CN=CN6)=O)(C)C)=O)=O)CC7=CN=CN7)=O)=O)CC8=CC=CC=C8)=O)CC9=CN=CN9)=O)CC%10=CN=CN%10)=O)=O\n",
            "H-GIWWFLWSUWWFVWUFW-NH2 [H]NCC(N[C@]([C@@H](C)CC)([H])C(N[C@H](C(N[C@H](C(N[C@H](C(N[C@@H](CC(C)C)C(N[C@H](C(N[C@@H](CO)C(NC(C(N[C@H](C(N[C@H](C(N[C@H](C(N[C@@H](C(C)C)C(N[C@H](C(NC(C(N[C@H](C(N[C@H](C(N)=O)CC1=CNC2=C1C=CC=C2)=O)CC3=CC=CC=C3)=O)(C)C)=O)CC4=CNC5=C4C=CC=C5)=O)=O)CC6=CC=CC=C6)=O)CC7=CNC8=C7C=CC=C8)=O)CC9=CNC%10=C9C=CC=C%10)=O)(C)C)=O)=O)CC%11=CNC%12=C%11C=CC=C%12)=O)=O)CC%13=CC=CC=C%13)=O)CC%14=CNC%15=C%14C=CC=C%15)=O)CC%16=CNC%17=C%16C=CC=C%17)=O)=O\n",
            "H-GIKOFLKSUOKFVOUFK-NH2 [H]NCC(N[C@]([C@@H](C)CC)([H])C(N[C@@H](CCCCN)C(N[C@@H](CCCN)C(N[C@H](C(N[C@@H](CC(C)C)C(N[C@@H](CCCCN)C(N[C@@H](CO)C(NC(C(N[C@@H](CCCN)C(N[C@@H](CCCCN)C(N[C@H](C(N[C@@H](C(C)C)C(N[C@@H](CCCN)C(NC(C(N[C@H](C(N[C@@H](CCCCN)C(N)=O)=O)CC1=CC=CC=C1)=O)(C)C)=O)=O)=O)CC2=CC=CC=C2)=O)=O)=O)(C)C)=O)=O)=O)=O)CC3=CC=CC=C3)=O)=O)=O)=O\n",
            "H-GIOKFLOSUKOFVKUFO-NH2 [H]NCC(N[C@]([C@@H](C)CC)([H])C(N[C@@H](CCCN)C(N[C@@H](CCCCN)C(N[C@H](C(N[C@@H](CC(C)C)C(N[C@@H](CCCN)C(N[C@@H](CO)C(NC(C(N[C@@H](CCCCN)C(N[C@@H](CCCN)C(N[C@H](C(N[C@@H](C(C)C)C(N[C@@H](CCCCN)C(NC(C(N[C@H](C(N[C@@H](CCCN)C(N)=O)=O)CC1=CC=CC=C1)=O)(C)C)=O)=O)=O)CC2=CC=CC=C2)=O)=O)=O)(C)C)=O)=O)=O)=O)CC3=CC=CC=C3)=O)=O)=O)=O\n",
            "H-GIKJFLKSUJKFVJUFK-NH2 [H]NCC(N[C@]([C@@H](C)CC)([H])C(N[C@@H](CCCCN)C(N[C@@H](CCN)C(N[C@H](C(N[C@@H](CC(C)C)C(N[C@@H](CCCCN)C(N[C@@H](CO)C(NC(C(N[C@@H](CCN)C(N[C@@H](CCCCN)C(N[C@H](C(N[C@@H](C(C)C)C(N[C@@H](CCN)C(NC(C(N[C@H](C(N[C@@H](CCCCN)C(N)=O)=O)CC1=CC=CC=C1)=O)(C)C)=O)=O)=O)CC2=CC=CC=C2)=O)=O)=O)(C)C)=O)=O)=O)=O)CC3=CC=CC=C3)=O)=O)=O)=O\n",
            "H-GIJKFLJSUKJFVKUFJ-NH2 [H]NCC(N[C@]([C@@H](C)CC)([H])C(N[C@@H](CCN)C(N[C@@H](CCCCN)C(N[C@H](C(N[C@@H](CC(C)C)C(N[C@@H](CCN)C(N[C@@H](CO)C(NC(C(N[C@@H](CCCCN)C(N[C@@H](CCN)C(N[C@H](C(N[C@@H](C(C)C)C(N[C@@H](CCCCN)C(NC(C(N[C@H](C(N[C@@H](CCN)C(N)=O)=O)CC1=CC=CC=C1)=O)(C)C)=O)=O)=O)CC2=CC=CC=C2)=O)=O)=O)(C)C)=O)=O)=O)=O)CC3=CC=CC=C3)=O)=O)=O)=O\n",
            "H-GIKRFLKSURKFVRUFK-NH2 [H]NCC(N[C@]([C@@H](C)CC)([H])C(N[C@@H](CCCCN)C(N[C@@H](CCCNC(N)=N)C(N[C@H](C(N[C@@H](CC(C)C)C(N[C@@H](CCCCN)C(N[C@@H](CO)C(NC(C(N[C@@H](CCCNC(N)=N)C(N[C@@H](CCCCN)C(N[C@H](C(N[C@@H](C(C)C)C(N[C@@H](CCCNC(N)=N)C(NC(C(N[C@H](C(N[C@@H](CCCCN)C(N)=O)=O)CC1=CC=CC=C1)=O)(C)C)=O)=O)=O)CC2=CC=CC=C2)=O)=O)=O)(C)C)=O)=O)=O)=O)CC3=CC=CC=C3)=O)=O)=O)=O\n",
            "H-GIRKFLRSUKRFVKUFR-NH2 [H]NCC(N[C@]([C@@H](C)CC)([H])C(N[C@@H](CCCNC(N)=N)C(N[C@@H](CCCCN)C(N[C@H](C(N[C@@H](CC(C)C)C(N[C@@H](CCCNC(N)=N)C(N[C@@H](CO)C(NC(C(N[C@@H](CCCCN)C(N[C@@H](CCCNC(N)=N)C(N[C@H](C(N[C@@H](C(C)C)C(N[C@@H](CCCCN)C(NC(C(N[C@H](C(N[C@@H](CCCNC(N)=N)C(N)=O)=O)CC1=CC=CC=C1)=O)(C)C)=O)=O)=O)CC2=CC=CC=C2)=O)=O)=O)(C)C)=O)=O)=O)=O)CC3=CC=CC=C3)=O)=O)=O)=O\n",
            "H-GIKHFLKSUHKFVHUFK-NH2 [H]NCC(N[C@]([C@@H](C)CC)([H])C(N[C@@H](CCCCN)C(N[C@H](C(N[C@H](C(N[C@@H](CC(C)C)C(N[C@@H](CCCCN)C(N[C@@H](CO)C(NC(C(N[C@H](C(N[C@@H](CCCCN)C(N[C@H](C(N[C@@H](C(C)C)C(N[C@H](C(NC(C(N[C@H](C(N[C@@H](CCCCN)C(N)=O)=O)CC1=CC=CC=C1)=O)(C)C)=O)CC2=CN=CN2)=O)=O)CC3=CC=CC=C3)=O)=O)CC4=CN=CN4)=O)(C)C)=O)=O)=O)=O)CC5=CC=CC=C5)=O)CC6=CN=CN6)=O)=O)=O\n",
            "H-GIHKFLHSUKHFVKUFH-NH2 [H]NCC(N[C@]([C@@H](C)CC)([H])C(N[C@H](C(N[C@@H](CCCCN)C(N[C@H](C(N[C@@H](CC(C)C)C(N[C@H](C(N[C@@H](CO)C(NC(C(N[C@@H](CCCCN)C(N[C@H](C(N[C@H](C(N[C@@H](C(C)C)C(N[C@@H](CCCCN)C(NC(C(N[C@H](C(N[C@H](C(N)=O)CC1=CN=CN1)=O)CC2=CC=CC=C2)=O)(C)C)=O)=O)=O)CC3=CC=CC=C3)=O)CC4=CN=CN4)=O)=O)(C)C)=O)=O)CC5=CN=CN5)=O)=O)CC6=CC=CC=C6)=O)=O)CC7=CN=CN7)=O)=O\n",
            "H-GIKWFLKSUWKFVWUFK-NH2 [H]NCC(N[C@]([C@@H](C)CC)([H])C(N[C@H](C(N[C@H](C(N[C@H](C(N[C@@H](CC(C)C)C(N[C@H](C(N[C@@H](CO)C(NC(C(N[C@H](C(N[C@H](C(N[C@H](C(N[C@@H](C(C)C)C(N[C@H](C(NC(C(N[C@H](C(N[C@H](C(N)=O)C)=O)CC1=CC=CC=C1)=O)(C)C)=O)CC2=CNC3=C2C=CC=C3)=O)=O)CC4=CC=CC=C4)=O)C)=O)CC5=CNC6=C5C=CC=C6)=O)(C)C)=O)=O)C)=O)=O)CC7=CC=CC=C7)=O)CC8=CNC9=C8C=CC=C9)=O)C)=O)=O\n",
            "H-GIWKFLWSUKWFVKUFW-NH2 [H]NCC(N[C@]([C@@H](C)CC)([H])C(N[C@H](C(N[C@@H](CCCCN)C(N[C@H](C(N[C@@H](CC(C)C)C(N[C@H](C(N[C@@H](CO)C(NC(C(N[C@@H](CCCCN)C(N[C@H](C(N[C@H](C(N[C@@H](C(C)C)C(N[C@@H](CCCCN)C(NC(C(N[C@H](C(N[C@H](C(N)=O)CC1=CNC2=C1C=CC=C2)=O)CC3=CC=CC=C3)=O)(C)C)=O)=O)=O)CC4=CC=CC=C4)=O)CC5=CNC6=C5C=CC=C6)=O)=O)(C)C)=O)=O)CC7=CNC8=C7C=CC=C8)=O)=O)CC9=CC=CC=C9)=O)=O)CC%10=CNC%11=C%10C=CC=C%11)=O)=O\n",
            "H-GIKKFLKSUOOFVOUFO-NH2 [H]NCC(N[C@]([C@@H](C)CC)([H])C(N[C@@H](CCCCN)C(N[C@@H](CCCCN)C(N[C@H](C(N[C@@H](CC(C)C)C(N[C@@H](CCCCN)C(N[C@@H](CO)C(NC(C(N[C@@H](CCCN)C(N[C@@H](CCCN)C(N[C@H](C(N[C@@H](C(C)C)C(N[C@@H](CCCN)C(NC(C(N[C@H](C(N[C@@H](CCCN)C(N)=O)=O)CC1=CC=CC=C1)=O)(C)C)=O)=O)=O)CC2=CC=CC=C2)=O)=O)=O)(C)C)=O)=O)=O)=O)CC3=CC=CC=C3)=O)=O)=O)=O\n",
            "H-GIOOFLOSUKKFVKUFK-NH2 [H]NCC(N[C@]([C@@H](C)CC)([H])C(N[C@@H](CCCN)C(N[C@@H](CCCN)C(N[C@H](C(N[C@@H](CC(C)C)C(N[C@@H](CCCN)C(N[C@@H](CO)C(NC(C(N[C@@H](CCCCN)C(N[C@@H](CCCCN)C(N[C@H](C(N[C@@H](C(C)C)C(N[C@@H](CCCCN)C(NC(C(N[C@H](C(N[C@@H](CCCCN)C(N)=O)=O)CC1=CC=CC=C1)=O)(C)C)=O)=O)=O)CC2=CC=CC=C2)=O)=O)=O)(C)C)=O)=O)=O)=O)CC3=CC=CC=C3)=O)=O)=O)=O\n",
            "H-GIKKFLKSUJJFVJUFJ-NH2 [H]NCC(N[C@]([C@@H](C)CC)([H])C(N[C@@H](CCCCN)C(N[C@@H](CCCCN)C(N[C@H](C(N[C@@H](CC(C)C)C(N[C@@H](CCCCN)C(N[C@@H](CO)C(NC(C(N[C@@H](CCN)C(N[C@@H](CCN)C(N[C@H](C(N[C@@H](C(C)C)C(N[C@@H](CCN)C(NC(C(N[C@H](C(N[C@@H](CCN)C(N)=O)=O)CC1=CC=CC=C1)=O)(C)C)=O)=O)=O)CC2=CC=CC=C2)=O)=O)=O)(C)C)=O)=O)=O)=O)CC3=CC=CC=C3)=O)=O)=O)=O\n",
            "H-GIJJFLJSUKKFVKUFK-NH2 [H]NCC(N[C@]([C@@H](C)CC)([H])C(N[C@@H](CCN)C(N[C@@H](CCN)C(N[C@H](C(N[C@@H](CC(C)C)C(N[C@@H](CCN)C(N[C@@H](CO)C(NC(C(N[C@@H](CCCCN)C(N[C@@H](CCCCN)C(N[C@H](C(N[C@@H](C(C)C)C(N[C@@H](CCCCN)C(NC(C(N[C@H](C(N[C@@H](CCCCN)C(N)=O)=O)CC1=CC=CC=C1)=O)(C)C)=O)=O)=O)CC2=CC=CC=C2)=O)=O)=O)(C)C)=O)=O)=O)=O)CC3=CC=CC=C3)=O)=O)=O)=O\n",
            "H-GIKKFLKSURRFVRUFR-NH2 [H]NCC(N[C@]([C@@H](C)CC)([H])C(N[C@@H](CCCCN)C(N[C@@H](CCCCN)C(N[C@H](C(N[C@@H](CC(C)C)C(N[C@@H](CCCCN)C(N[C@@H](CO)C(NC(C(N[C@@H](CCCNC(N)=N)C(N[C@@H](CCCNC(N)=N)C(N[C@H](C(N[C@@H](C(C)C)C(N[C@@H](CCCNC(N)=N)C(NC(C(N[C@H](C(N[C@@H](CCCNC(N)=N)C(N)=O)=O)CC1=CC=CC=C1)=O)(C)C)=O)=O)=O)CC2=CC=CC=C2)=O)=O)=O)(C)C)=O)=O)=O)=O)CC3=CC=CC=C3)=O)=O)=O)=O\n",
            "H-GIRRFLRSUKKFVKUFK-NH2 [H]NCC(N[C@]([C@@H](C)CC)([H])C(N[C@@H](CCCNC(N)=N)C(N[C@@H](CCCNC(N)=N)C(N[C@H](C(N[C@@H](CC(C)C)C(N[C@@H](CCCNC(N)=N)C(N[C@@H](CO)C(NC(C(N[C@@H](CCCCN)C(N[C@@H](CCCCN)C(N[C@H](C(N[C@@H](C(C)C)C(N[C@@H](CCCCN)C(NC(C(N[C@H](C(N[C@@H](CCCCN)C(N)=O)=O)CC1=CC=CC=C1)=O)(C)C)=O)=O)=O)CC2=CC=CC=C2)=O)=O)=O)(C)C)=O)=O)=O)=O)CC3=CC=CC=C3)=O)=O)=O)=O\n",
            "H-GIKKFLKSUHHFVHUFH-NH2 [H]NCC(N[C@]([C@@H](C)CC)([H])C(N[C@@H](CCCCN)C(N[C@@H](CCCCN)C(N[C@H](C(N[C@@H](CC(C)C)C(N[C@@H](CCCCN)C(N[C@@H](CO)C(NC(C(N[C@H](C(N[C@H](C(N[C@H](C(N[C@@H](C(C)C)C(N[C@H](C(NC(C(N[C@H](C(N[C@H](C(N)=O)CC1=CN=CN1)=O)CC2=CC=CC=C2)=O)(C)C)=O)CC3=CN=CN3)=O)=O)CC4=CC=CC=C4)=O)CC5=CN=CN5)=O)CC6=CN=CN6)=O)(C)C)=O)=O)=O)=O)CC7=CC=CC=C7)=O)=O)=O)=O\n",
            "H-GIHHFLHSUKKFVKUFK-NH2 [H]NCC(N[C@]([C@@H](C)CC)([H])C(N[C@H](C(N[C@H](C(N[C@H](C(N[C@@H](CC(C)C)C(N[C@H](C(N[C@@H](CO)C(NC(C(N[C@@H](CCCCN)C(N[C@@H](CCCCN)C(N[C@H](C(N[C@@H](C(C)C)C(N[C@@H](CCCCN)C(NC(C(N[C@H](C(N[C@@H](CCCCN)C(N)=O)=O)CC1=CC=CC=C1)=O)(C)C)=O)=O)=O)CC2=CC=CC=C2)=O)=O)=O)(C)C)=O)=O)CC3=CN=CN3)=O)=O)CC4=CC=CC=C4)=O)CC5=CN=CN5)=O)CC6=CN=CN6)=O)=O\n",
            "H-GIKKFLKSUWWFVWUFW-NH2 [H]NCC(N[C@]([C@@H](C)CC)([H])C(N[C@@H](CCCCN)C(N[C@@H](CCCCN)C(N[C@H](C(N[C@@H](CC(C)C)C(N[C@@H](CCCCN)C(N[C@@H](CO)C(NC(C(N[C@H](C(N[C@H](C(N[C@H](C(N[C@@H](C(C)C)C(N[C@H](C(NC(C(N[C@H](C(N[C@H](C(N)=O)CC1=CNC2=C1C=CC=C2)=O)CC3=CC=CC=C3)=O)(C)C)=O)CC4=CNC5=C4C=CC=C5)=O)=O)CC6=CC=CC=C6)=O)CC7=CNC8=C7C=CC=C8)=O)CC9=CNC%10=C9C=CC=C%10)=O)(C)C)=O)=O)=O)=O)CC%11=CC=CC=C%11)=O)=O)=O)=O\n",
            "H-GIWWFLWSUKKFVKUFK-NH2 [H]NCC(N[C@]([C@@H](C)CC)([H])C(N[C@H](C(N[C@H](C(N[C@H](C(N[C@@H](CC(C)C)C(N[C@H](C(N[C@@H](CO)C(NC(C(N[C@@H](CCCCN)C(N[C@@H](CCCCN)C(N[C@H](C(N[C@@H](C(C)C)C(N[C@@H](CCCCN)C(NC(C(N[C@H](C(N[C@@H](CCCCN)C(N)=O)=O)CC1=CC=CC=C1)=O)(C)C)=O)=O)=O)CC2=CC=CC=C2)=O)=O)=O)(C)C)=O)=O)CC3=CNC4=C3C=CC=C4)=O)=O)CC5=CC=CC=C5)=O)CC6=CNC7=C6C=CC=C7)=O)CC8=CNC9=C8C=CC=C9)=O)=O\n",
            "H-KLLKKAGKLLKKAGKLLKKAG-NH2  NC(CNC([C@@H](NC([C@H](CCCCN)NC([C@H](CCCCN)NC([C@H](CC(C)C)NC([C@H](CC(C)C)NC([C@H](CCCCN)NC(CNC([C@@H](NC([C@H](CCCCN)NC([C@H](CCCCN)NC([C@H](CC(C)C)NC([C@H](CC(C)C)NC([C@H](CCCCN)NC(CNC([C@@H](NC([C@H](CCCCN)NC([C@H](CCCCN)NC([C@H](CC(C)C)NC([C@H](CC(C)C)NC([C@H](CCCCN)N)=O)=O)=O)=O)=O)C)=O)=O)=O)=O)=O)=O)=O)C)=O)=O)=O)=O)=O)=O)=O)C)=O)=O\n",
            "H-KLLKKGGKLLKKGGKLLKKGG-NH2 NC(CNC(CNC([C@H](CCCCN)NC([C@H](CCCCN)NC([C@H](CC(C)C)NC([C@H](CC(C)C)NC([C@H](CCCCN)NC(CNC(CNC([C@H](CCCCN)NC([C@H](CCCCN)NC([C@H](CC(C)C)NC([C@H](CC(C)C)NC([C@H](CCCCN)NC(CNC(CNC([C@H](CCCCN)NC([C@H](CCCCN)NC([C@H](CC(C)C)NC([C@H](CC(C)C)NC([C@H](CCCCN)N)=O)=O)=O)=O)=O)=O)=O)=O)=O)=O)=O)=O)=O)=O)=O)=O)=O)=O)=O)=O)=O\n",
            "H-KLLKKUGKLLKKUGKLLKKUG-NH2  NC(CNC(C(C)(C)NC([C@H](CCCCN)NC([C@H](CCCCN)NC([C@H](CC(C)C)NC([C@H](CC(C)C)NC([C@H](CCCCN)NC(CNC(C(C)(C)NC([C@H](CCCCN)NC([C@H](CCCCN)NC([C@H](CC(C)C)NC([C@H](CC(C)C)NC([C@H](CCCCN)NC(CNC(C(C)(C)NC([C@H](CCCCN)NC([C@H](CCCCN)NC([C@H](CC(C)C)NC([C@H](CC(C)C)NC([C@H](CCCCN)N)=O)=O)=O)=O)=O)=O)=O)=O)=O)=O)=O)=O)=O)=O)=O)=O)=O)=O)=O)=O)=O\n",
            "H-KLLKKZGKLLKKZGKLLKKZG-NH2  NC(CNC(C1(CCCCC1)NC([C@H](CCCCN)NC([C@H](CCCCN)NC([C@H](CC(C)C)NC([C@H](CC(C)C)NC([C@H](CCCCN)NC(CNC(C2(CCCCC2)NC([C@H](CCCCN)NC([C@H](CCCCN)NC([C@H](CC(C)C)NC([C@H](CC(C)C)NC([C@H](CCCCN)NC(CNC(C3(CCCCC3)NC([C@H](CCCCN)NC([C@H](CCCCN)NC([C@H](CC(C)C)NC([C@H](CC(C)C)NC([C@H](CCCCN)N)=O)=O)=O)=O)=O)=O)=O)=O)=O)=O)=O)=O)=O)=O)=O)=O)=O)=O)=O)=O)=O\n",
            "H-KLLKKAGKLLKKR8GKLLKKS5G-NH2  NC(CNC([C@@](CCC/C=C\\CCCCCC1)(C)NC([C@H](CCCCN)NC([C@H](CCCCN)NC([C@H](CC(C)C)NC([C@H](CC(C)C)NC([C@H](CCCCN)NC(CNC([C@]1(C)NC([C@H](CCCCN)NC([C@H](CCCCN)NC([C@H](CC(C)C)NC([C@H](CC(C)C)NC([C@H](CCCCN)NC(CNC([C@H](C)NC([C@H](CCCCN)NC([C@H](CCCCN)NC([C@H](CC(C)C)NC([C@H](CC(C)C)NC([C@H](CCCCN)N)=O)=O)=O)=O)=O)=O)=O)=O)=O)=O)=O)=O)=O)=O)=O)=O)=O)=O)=O)=O)=O\n",
            "H-KLLKKR8GKLLKKS5GKLLKKAG-NH2 NC(CNC([C@@H](NC([C@H](CCCCN)NC([C@H](CCCCN)NC([C@H](CC(C)C)NC([C@H](CC(C)C)NC([C@H](CCCCN)NC(CNC([C@]1(C)CCC/C=C\\CCCCCC[C@](C(NCC(N[C@@H](CCCCN)C(N[C@@H](CC(C)C)C(N[C@@H](CC(C)C)C(N[C@@H](CCCCN)C(N[C@@H](CCCCN)C(N1)=O)=O)=O)=O)=O)=O)=O)(NC([C@H](CCCCN)NC([C@H](CCCCN)NC([C@H](CC(C)C)NC([C@H](CC(C)C)NC([C@H](CCCCN)N)=O)=O)=O)=O)=O)C)=O)=O)=O)=O)=O)=O)=O)C)=O)=O\n",
            "CH3(CH2)4CO-S5IKKS5LKSAKKFVKAFK-NH2 NC([C@H](CCCCN)NC([C@@H](NC([C@@H](NC([C@H](CCCCN)NC([C@H](C(C)C)NC([C@@H](NC([C@H](CCCCN)NC([C@H](CCCCN)NC([C@@H](NC([C@H](CO)NC([C@H](CCCCN)NC([C@H](CC(C)C)NC([C@]1(C)CCC/C=C\\CCC[C@@](NC(CCCCC)=O)(C)C(N[C@]([C@@H](C)CC)([H])C(N[C@@H](CCCCN)C(N[C@@H](CCCCN)C(N1)=O)=O)=O)=O)=O)=O)=O)=O)C)=O)=O)=O)CC2=CC=CC=C2)=O)=O)=O)C)=O)CC3=CC=CC=C3)=O)=O\n",
            "CH3(CH2)10CO-S5IKKS5LKSAKKFVKAFK-NH2 NC([C@H](CCCCN)NC([C@@H](NC([C@@H](NC([C@H](CCCCN)NC([C@H](C(C)C)NC([C@@H](NC([C@H](CCCCN)NC([C@H](CCCCN)NC([C@@H](NC([C@H](CO)NC([C@H](CCCCN)NC([C@H](CC(C)C)NC([C@]1(C)CCC/C=C\\CCC[C@@](NC(CCCCCCCCCCC)=O)(C)C(N[C@]([C@@H](C)CC)([H])C(N[C@@H](CCCCN)C(N[C@@H](CCCCN)C(N1)=O)=O)=O)=O)=O)=O)=O)=O)C)=O)=O)=O)CC2=CC=CC=C2)=O)=O)=O)C)=O)CC3=CC=CC=C3)=O)=O\n",
            "CH3(CH2)16CO-S5IKKS5LKSAKKFVKAFK-NH2 NC([C@H](CCCCN)NC([C@@H](NC([C@@H](NC([C@H](CCCCN)NC([C@H](C(C)C)NC([C@@H](NC([C@H](CCCCN)NC([C@H](CCCCN)NC([C@@H](NC([C@H](CO)NC([C@H](CCCCN)NC([C@H](CC(C)C)NC([C@]1(C)CCC/C=C\\CCC[C@@](NC(CCCCCCCCCCCCCCCCC)=O)(C)C(N[C@]([C@@H](C)CC)([H])C(N[C@@H](CCCCN)C(N[C@@H](CCCCN)C(N1)=O)=O)=O)=O)=O)=O)=O)=O)C)=O)=O)=O)CC2=CC=CC=C2)=O)=O)=O)C)=O)CC3=CC=CC=C3)=O)=O\n",
            "H-KLLKKAX2KLLKKAX2KLLKKAX2-NH2 NC(CN(C)C([C@@H](NC([C@H](CCCCN)NC([C@H](CCCCN)NC([C@H](CC(C)C)NC([C@H](CC(C)C)NC([C@H](CCCCN)NC(CN(C)C([C@@H](NC([C@H](CCCCN)NC([C@H](CCCCN)NC([C@H](CC(C)C)NC([C@H](CC(C)C)NC([C@H](CCCCN)NC(CN(C)C([C@@H](NC([C@H](CCCCN)NC([C@H](CCCCN)NC([C@H](CC(C)C)NC([C@H](CC(C)C)NC([C@H](CCCCN)N)=O)=O)=O)=O)=O)C)=O)=O)=O)=O)=O)=O)=O)C)=O)=O)=O)=O)=O)=O)=O)C)=O)=O\n",
            "H-KLLKKX2GKLLKKX2GKLLKKX2G-NH2 NC(CNC(CN(C)C([C@H](CCCCN)NC([C@H](CCCCN)NC([C@H](CC(C)C)NC([C@H](CC(C)C)NC([C@H](CCCCN)NC(CNC(CN(C)C([C@H](CCCCN)NC([C@H](CCCCN)NC([C@H](CC(C)C)NC([C@H](CC(C)C)NC([C@H](CCCCN)NC(CNC(CN(C)C([C@H](CCCCN)NC([C@H](CCCCN)NC([C@H](CC(C)C)NC([C@H](CC(C)C)NC([C@H](CCCCN)N)=O)=O)=O)=O)=O)=O)=O)=O)=O)=O)=O)=O)=O)=O)=O)=O)=O)=O)=O)=O)=O\n",
            "H-KLLKKX2X2KLLKKX2X2KLLKKX2X2-NH2 NC(CN(C)C(CN(C)C([C@H](CCCCN)NC([C@H](CCCCN)NC([C@H](CC(C)C)NC([C@H](CC(C)C)NC([C@H](CCCCN)NC(CN(C)C(CN(C)C([C@H](CCCCN)NC([C@H](CCCCN)NC([C@H](CC(C)C)NC([C@H](CC(C)C)NC([C@H](CCCCN)NC(CN(C)C(CN(C)C([C@H](CCCCN)NC([C@H](CCCCN)NC([C@H](CC(C)C)NC([C@H](CC(C)C)NC([C@H](CCCCN)N)=O)=O)=O)=O)=O)=O)=O)=O)=O)=O)=O)=O)=O)=O)=O)=O)=O)=O)=O)=O)=O\n",
            "H-KLX2KKX2X2KLX2KKX2X2KLX2KKX2X2-NH2 NC(CN(C)C(CN(C)C([C@H](CCCCN)NC([C@H](CCCCN)NC(CN(C)C([C@H](CC(C)C)NC([C@H](CCCCN)NC(CN(C)C(CN(C)C([C@H](CCCCN)NC([C@H](CCCCN)NC(CN(C)C([C@H](CC(C)C)NC([C@H](CCCCN)NC(CN(C)C(CN(C)C([C@H](CCCCN)NC([C@H](CCCCN)NC(CN(C)C([C@H](CC(C)C)NC([C@H](CCCCN)N)=O)=O)=O)=O)=O)=O)=O)=O)=O)=O)=O)=O)=O)=O)=O)=O)=O)=O)=O)=O)=O\n",
            "H-KX2X2KKX2X2KX2X2KKX2X2KX2X2KKX2X2-NH2 NC(CN(C)C(CN(C)C([C@H](CCCCN)NC([C@H](CCCCN)NC(CN(C)C(CN(C)C([C@H](CCCCN)NC(CN(C)C(CN(C)C([C@H](CCCCN)NC([C@H](CCCCN)NC(CN(C)C(CN(C)C([C@H](CCCCN)NC(CN(C)C(CN(C)C([C@H](CCCCN)NC([C@H](CCCCN)NC(CN(C)C(CN(C)C([C@H](CCCCN)N)=O)=O)=O)=O)=O)=O)=O)=O)=O)=O)=O)=O)=O)=O)=O)=O)=O)=O)=O)=O)=O\n"
          ]
        }
      ],
      "source": [
        "import pandas as pd\n",
        "\n",
        "modan_raw_path = molgen_path + \"data/misc/Dataset_MODAN_initial.xlsx\"\n",
        "df = pd.read_excel(modan_raw_path, sheet_name=\"Sheet1\", index_col=0)\n",
        "\n",
        "for idx, r in df.iterrows():\n",
        "    pep = r[\"Peptide sequence\"]\n",
        "    smiles = r[\"SMILES\"]\n",
        "    print(pep, smiles)"
      ]
    }
  ],
  "metadata": {
    "accelerator": "GPU",
    "colab": {
      "gpuType": "T4",
      "provenance": []
    },
    "kernelspec": {
      "display_name": "molgen-env",
      "language": "python",
      "name": "python3"
    },
    "language_info": {
      "codemirror_mode": {
        "name": "ipython",
        "version": 3
      },
      "file_extension": ".py",
      "mimetype": "text/x-python",
      "name": "python",
      "nbconvert_exporter": "python",
      "pygments_lexer": "ipython3",
      "version": "3.11.11"
    }
  },
  "nbformat": 4,
  "nbformat_minor": 0
}
