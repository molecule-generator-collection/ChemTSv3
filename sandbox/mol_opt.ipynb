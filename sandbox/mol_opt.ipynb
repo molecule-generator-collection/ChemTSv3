{
  "cells": [
    {
      "cell_type": "code",
      "execution_count": 1,
      "metadata": {},
      "outputs": [],
      "source": [
        "# add path (for local)\n",
        "import sys\n",
        "repo_root = \"../\"\n",
        "if repo_root not in sys.path:\n",
        "    sys.path.insert(0, repo_root)"
      ]
    },
    {
      "cell_type": "code",
      "execution_count": null,
      "metadata": {},
      "outputs": [],
      "source": [
        "from guacamol.goal_directed_generator import GoalDirectedGenerator\n",
        "from guacamol.scoring_function import ScoringFunction\n",
        "from guacamol.assess_goal_directed_generation import assess_goal_directed_generation\n",
        "from rdkit import Chem\n",
        "from reward import GuacaMolReward"
      ]
    },
    {
      "cell_type": "code",
      "execution_count": null,
      "metadata": {},
      "outputs": [],
      "source": [
        "from guacamol.assess_goal_directed_generation import _evaluate_goal_directed_benchmarks\n",
        "from guacamol.benchmark_suites import goal_directed_benchmark_suite\n",
        "from guacamol.goal_directed_benchmark import GoalDirectedBenchmarkResult\n",
        "\n",
        "def assess(goal_directed_molecule_generator: GoalDirectedGenerator, benchmark_version='v1') -> list[GoalDirectedBenchmarkResult]:\n",
        "\n",
        "    benchmarks = goal_directed_benchmark_suite(version_name=benchmark_version)\n",
        "\n",
        "    results = _evaluate_goal_directed_benchmarks(\n",
        "        goal_directed_molecule_generator=goal_directed_molecule_generator,\n",
        "        benchmarks=benchmarks)\n",
        "    \n",
        "    return results"
      ]
    },
    {
      "cell_type": "code",
      "execution_count": 5,
      "metadata": {},
      "outputs": [],
      "source": [
        "from guacamol.assess_goal_directed_generation import _evaluate_goal_directed_benchmarks\n",
        "from guacamol.benchmark_suites import goal_directed_benchmark_suite\n",
        "from guacamol.goal_directed_benchmark import GoalDirectedBenchmarkResult\n",
        "benchmarks = goal_directed_benchmark_suite(version_name=\"v1\")"
      ]
    }
  ],
  "metadata": {
    "accelerator": "GPU",
    "colab": {
      "gpuType": "T4",
      "provenance": []
    },
    "kernelspec": {
      "display_name": "v3-forge",
      "language": "python",
      "name": "python3"
    },
    "language_info": {
      "codemirror_mode": {
        "name": "ipython",
        "version": 3
      },
      "file_extension": ".py",
      "mimetype": "text/x-python",
      "name": "python",
      "nbconvert_exporter": "python",
      "pygments_lexer": "ipython3",
      "version": "3.11.0"
    }
  },
  "nbformat": 4,
  "nbformat_minor": 0
}
