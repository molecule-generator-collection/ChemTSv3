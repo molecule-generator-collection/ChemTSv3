{
  "cells": [
    {
      "cell_type": "code",
      "execution_count": 17,
      "metadata": {},
      "outputs": [],
      "source": [
        "# add path (for local)\n",
        "import sys\n",
        "repo_root = \"../\"\n",
        "if repo_root not in sys.path:\n",
        "    sys.path.insert(0, repo_root)"
      ]
    },
    {
      "cell_type": "code",
      "execution_count": 18,
      "metadata": {},
      "outputs": [],
      "source": [
        "from typing import Optional\n",
        "from guacamol.goal_directed_generator import GoalDirectedGenerator\n",
        "from guacamol.scoring_function import ScoringFunction\n",
        "from guacamol.assess_goal_directed_generation import assess_goal_directed_generation\n",
        "from rdkit import Chem\n",
        "\n",
        "from reward import MolReward\n",
        "from utils import conf_from_yaml, generator_from_conf\n",
        "\n",
        "class GuacaMolReward(MolReward):\n",
        "    def __init__(self, scoring_function: ScoringFunction):    \n",
        "        self.scoring_function = scoring_function\n",
        "        \n",
        "    # implement\n",
        "    def mol_objective_functions(self):\n",
        "        def raw_score(mol):\n",
        "            smiles = Chem.MolToSmiles(mol)\n",
        "            return self.scoring_function.score(smiles)\n",
        "\n",
        "        return [raw_score]\n",
        "\n",
        "    # implement\n",
        "    def reward_from_objective_values(self, objective_values):\n",
        "        score = objective_values[0]\n",
        "        return score\n",
        "\n",
        "class V3DeNovoGenerator(GoalDirectedGenerator):\n",
        "    # implement\n",
        "    def generate_optimized_molecules(self, scoring_function: ScoringFunction, number_molecules: int, starting_population: Optional[list[str]] = None) -> list[str]:       \n",
        "        yaml_path = \"config/mcts_guacamol_de_novo.yaml\"\n",
        "        conf = conf_from_yaml(yaml_path, repo_root)\n",
        "        generator = generator_from_conf(conf)\n",
        "        generator.reward = GuacaMolReward(scoring_function=scoring_function)\n",
        "        generator.generate(max_generations=conf.get(\"max_generations\"), time_limit=conf.get(\"time_limit\"))\n",
        "        \n",
        "        return generator.generated_keys()\n",
        "\n",
        "class V3LeadGenerator(GoalDirectedGenerator):\n",
        "    # implement\n",
        "    def generate_optimized_molecules(self, scoring_function: ScoringFunction, number_molecules: int, starting_population: Optional[list[str]] = None) -> list[str]:       \n",
        "        yaml_path = \"config/mcts_guacamol_lead.yaml\"\n",
        "        conf = conf_from_yaml(yaml_path, repo_root)\n",
        "        conf[\"root\"] = starting_population or \"c1ccccc1\"\n",
        "        generator = generator_from_conf(conf)\n",
        "        generator.reward = GuacaMolReward(scoring_function=scoring_function)\n",
        "        generator.generate(max_generations=conf.get(\"max_generations\"), time_limit=conf.get(\"time_limit\"))\n",
        "        \n",
        "        return generator.generated_keys(last=number_molecules)"
      ]
    },
    {
      "cell_type": "code",
      "execution_count": null,
      "metadata": {},
      "outputs": [],
      "source": [
        "from guacamol.assess_goal_directed_generation import _evaluate_goal_directed_benchmarks\n",
        "from guacamol.benchmark_suites import goal_directed_benchmark_suite\n",
        "from guacamol.goal_directed_benchmark import GoalDirectedBenchmarkResult\n",
        "\n",
        "def assess(goal_directed_molecule_generator: GoalDirectedGenerator, benchmark_version='v1') -> list[GoalDirectedBenchmarkResult]:\n",
        "\n",
        "    benchmarks = goal_directed_benchmark_suite(version_name=benchmark_version)\n",
        "\n",
        "    results = _evaluate_goal_directed_benchmarks(\n",
        "        goal_directed_molecule_generator=goal_directed_molecule_generator,\n",
        "        benchmarks=benchmarks)\n",
        "    \n",
        "    return results\n",
        "\n",
        "results = assess(V3DeNovoGenerator())\n",
        "\n",
        "scores = []\n",
        "for result in results:\n",
        "    scores.append(result.score)\n",
        "    print(result.benchmark_name, result.score)\n",
        "print(sum(scores))"
      ]
    }
  ],
  "metadata": {
    "accelerator": "GPU",
    "colab": {
      "gpuType": "T4",
      "provenance": []
    },
    "kernelspec": {
      "display_name": "v3-forge",
      "language": "python",
      "name": "python3"
    },
    "language_info": {
      "codemirror_mode": {
        "name": "ipython",
        "version": 3
      },
      "file_extension": ".py",
      "mimetype": "text/x-python",
      "name": "python",
      "nbconvert_exporter": "python",
      "pygments_lexer": "ipython3",
      "version": "3.11.0"
    }
  },
  "nbformat": 4,
  "nbformat_minor": 0
}
