{
  "cells": [
    {
      "cell_type": "code",
      "execution_count": null,
      "metadata": {},
      "outputs": [],
      "source": [
        "# Path setup / Imports\n",
        "import sys\n",
        "repo_root = \"../\"\n",
        "if repo_root not in sys.path:\n",
        "    sys.path.insert(0, repo_root)\n",
        "\n",
        "from rdkit import RDLogger\n",
        "from utils import conf_from_yaml, generator_from_conf\n",
        "RDLogger.DisableLog('rdApp.*')"
      ]
    },
    {
      "cell_type": "code",
      "execution_count": null,
      "metadata": {
        "colab": {
          "base_uri": "https://localhost:8080/",
          "height": 1000
        },
        "id": "KsQZ5Dx_zWtD",
        "outputId": "ad4867f1-023b-4634-ae52-fa0f64488692"
      },
      "outputs": [],
      "source": [
        "# Start generation chain\n",
        "yaml_path_1 = \"config/chain/de_novo_rnn.yaml\"\n",
        "yaml_path_2 = \"config/chain/lead_jensen.yaml\"\n",
        "\n",
        "conf_1 = conf_from_yaml(yaml_path_1, repo_root)\n",
        "generator_1 = generator_from_conf(conf_1, repo_root)\n",
        "generator_1.generate(max_generations=conf_1.get(\"max_generations\"), time_limit=conf_1.get(\"time_limit\"))\n",
        "\n",
        "conf_2 = conf_from_yaml(yaml_path_2, repo_root)\n",
        "generator_2 = generator_from_conf(conf_2, predecessor=generator_1, n_top_keys_to_pass=conf_1.get(\"n_keys_to_pass\", 3))\n",
        "generator_2.generate(max_generations=conf_2.get(\"max_generations\"), time_limit=conf_2.get(\"time_limit\"))\n",
        "\n",
        "generator_2.plot(**conf_2.get(\"plot_args\", {}))\n",
        "generator_2.analyze()"
      ]
    }
  ],
  "metadata": {
    "accelerator": "GPU",
    "colab": {
      "gpuType": "T4",
      "provenance": []
    },
    "kernelspec": {
      "display_name": "v3env",
      "language": "python",
      "name": "python3"
    },
    "language_info": {
      "codemirror_mode": {
        "name": "ipython",
        "version": 3
      },
      "file_extension": ".py",
      "mimetype": "text/x-python",
      "name": "python",
      "nbconvert_exporter": "python",
      "pygments_lexer": "ipython3",
      "version": "3.11.11"
    }
  },
  "nbformat": 4,
  "nbformat_minor": 0
}
