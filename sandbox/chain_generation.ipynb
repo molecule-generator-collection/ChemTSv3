{
  "cells": [
    {
      "cell_type": "code",
      "execution_count": null,
      "metadata": {},
      "outputs": [],
      "source": [
        "# add path (for local)\n",
        "import sys\n",
        "repo_root = \"../\"\n",
        "if repo_root not in sys.path:\n",
        "    sys.path.insert(0, repo_root)"
      ]
    },
    {
      "cell_type": "code",
      "execution_count": null,
      "metadata": {},
      "outputs": [],
      "source": [
        "%load_ext autoreload\n",
        "%autoreload 2\n",
        "\n",
        "from rdkit import RDLogger\n",
        "from utils import conf_from_yaml, generator_from_conf\n",
        "RDLogger.DisableLog('rdApp.*') # use debug: true to log invalid mols\n",
        "\n",
        "def generate_and_analyze(generator, conf):\n",
        "    generator.generate(time_limit=conf.get(\"time_limit\"), max_generations=conf.get(\"max_generations\"))\n",
        "    generator.plot(**conf.get(\"plot_args\", {}))\n",
        "    generator.analyze()"
      ]
    },
    {
      "cell_type": "code",
      "execution_count": null,
      "metadata": {
        "colab": {
          "base_uri": "https://localhost:8080/",
          "height": 1000
        },
        "id": "KsQZ5Dx_zWtD",
        "outputId": "ad4867f1-023b-4634-ae52-fa0f64488692"
      },
      "outputs": [],
      "source": [
        "# start generation\n",
        "\n",
        "yaml_path_1 = \"config/chain/de_novo_rnn.yaml\"\n",
        "yaml_path_2 = \"config/chain/lead_jensen.yaml\"\n",
        "\n",
        "conf_1 = conf_from_yaml(yaml_path_1, repo_root)\n",
        "generator_1 = generator_from_conf(conf_1, repo_root)\n",
        "generator_1.generate(max_generations=conf_1.get(\"max_generations\"), time_limit=conf_1.get(\"time_limit\"))\n",
        "\n",
        "conf_2 = conf_from_yaml(yaml_path_2, repo_root)\n",
        "generator_2 = generator_from_conf(conf_2, predecessor=generator_1, n_top_keys_to_pass=conf_1.get(\"n_keys_to_pass\", 3))\n",
        "generator_2.generate(max_generations=conf_2.get(\"max_generations\"), time_limit=conf_2.get(\"time_limit\"))\n",
        "\n",
        "generator_2.plot(**conf_2.get(\"plot_args\", {}))\n",
        "generator_2.analyze()\n",
        "\n",
        "# queue_generations(c1, c2)"
      ]
    },
    {
      "cell_type": "code",
      "execution_count": null,
      "metadata": {},
      "outputs": [],
      "source": [
        "# continue generation\n",
        "generator_2.generate(time_limit=100, max_generations=100)\n",
        "generator_2.plot(**conf_2.get(\"plot_args\", {}))\n",
        "generator_2.analyze()"
      ]
    },
    {
      "cell_type": "code",
      "execution_count": null,
      "metadata": {
        "id": "EC6dDxCrF1dA"
      },
      "outputs": [],
      "source": [
        "#save mcts\n",
        "save_path = generator_2.output_dir() + \"save.mcts\"\n",
        "generator_2.save(save_path)"
      ]
    },
    {
      "cell_type": "code",
      "execution_count": null,
      "metadata": {},
      "outputs": [],
      "source": [
        "#load generator and yaml\n",
        "from generator import Generator\n",
        "load_dir = \"generation_result/06-26_08-51/\"\n",
        "conf_3 = conf_from_yaml(\"sandbox/\" + load_dir + \"setting.yaml\", repo_root)\n",
        "generator_3 = generator_from_conf(conf_3, repo_root)\n",
        "generator_3 = Generator.load(load_dir + \"save.mcts\", generator_3.transition)"
      ]
    }
  ],
  "metadata": {
    "accelerator": "GPU",
    "colab": {
      "gpuType": "T4",
      "provenance": []
    },
    "kernelspec": {
      "display_name": "v3-forge",
      "language": "python",
      "name": "python3"
    },
    "language_info": {
      "codemirror_mode": {
        "name": "ipython",
        "version": 3
      },
      "file_extension": ".py",
      "mimetype": "text/x-python",
      "name": "python",
      "nbconvert_exporter": "python",
      "pygments_lexer": "ipython3",
      "version": "3.11.0"
    }
  },
  "nbformat": 4,
  "nbformat_minor": 0
}
