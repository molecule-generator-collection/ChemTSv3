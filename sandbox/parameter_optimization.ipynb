{
  "cells": [
    {
      "cell_type": "code",
      "execution_count": null,
      "metadata": {},
      "outputs": [],
      "source": [
        "# Path setup\n",
        "import sys\n",
        "repo_root = \"../../\"\n",
        "if repo_root not in sys.path:\n",
        "    sys.path.insert(0, repo_root)"
      ]
    },
    {
      "cell_type": "code",
      "execution_count": null,
      "metadata": {},
      "outputs": [],
      "source": [
        "import gc\n",
        "import optuna\n",
        "from utils import generator_from_conf, conf_from_yaml\n",
        "\n",
        "yaml_path = \"config/optuna/d_score.yaml\"\n",
        "\n",
        "conf = conf_from_yaml(yaml_path)\n",
        "name = conf.get(\"study_name\")\n",
        "n_trials = conf.get(\"n_trials\")\n",
        "\n",
        "def objective(trial):\n",
        "    conf = conf_from_yaml(yaml_path)\n",
        "    conf.setdefault(\"transition_args\", {})\n",
        "    # conf[\"transition_args\"][\"model_dir\"] = \"model/smiles/\" + trial.suggest_categorical(\"model\", [\"drugs_zinc_gru\", \"drugs_zinc_lstm\", \"tf25_ported\"])\n",
        "    conf[\"transition_args\"][\"sharpness\"] = trial.suggest_float(\"sharpness\", 0.8, 1.1)\n",
        "    conf[\"transition_args\"][\"top_p\"] = trial.suggest_float(\"top_p\", 0.994, 0.999)\n",
        "    \n",
        "    conf.setdefault(\"policy_args\", {})\n",
        "    conf[\"policy_args\"][\"c\"] = trial.suggest_float(\"c\", 0.05, 0.4)\n",
        "    conf[\"policy_args\"][\"best_rate\"] = trial.suggest_float(\"best_rate\", 0, 1)\n",
        "    conf[\"policy_args\"][\"max_prior\"] = trial.suggest_float(\"max_prior\", 0, 0.6)\n",
        "\n",
        "    conf.setdefault(\"generator_args\", {})\n",
        "    conf[\"generator_args\"][\"eval_width\"] = trial.suggest_int(\"eval_width\", 1, 40)\n",
        "    conf[\"generator_args\"][\"n_evals\"] = trial.suggest_int(\"n_evals\", 1, 10)\n",
        "    conf[\"generator_args\"][\"n_tries\"] = trial.suggest_int(\"n_tries\", 1, 3)\n",
        "    # conf[\"generator_args\"][\"filter_reward\"] = trial.suggest_categorical(\"filter_reward\", [\"ignore\", 0])\n",
        "    # conf[\"generator_args\"][\"terminal_reward\"] = trial.suggest_categorical(\"terminal_reward\", [\"ignore\", -1])\n",
        "    \n",
        "    generator = generator_from_conf(conf)\n",
        "    generator.logger.info(f\"params={trial.params}\")\n",
        "    \n",
        "    max_generations, time_limit = conf.get(\"max_generations\"), conf.get(\"time_limit\")\n",
        "    n_steps, best_reward_rate= conf.get(\"n_steps\"), conf.get(\"best_reward_rate\")\n",
        "    \n",
        "    for i in range(0, n_steps):\n",
        "        generator.generate(max_generations=max_generations / n_steps, time_limit=time_limit / n_steps)\n",
        "        average_reward = generator.average_reward()\n",
        "        top_p_average_reward = generator.average_reward(top_p=conf.get(\"average_top_p\", 0.1))\n",
        "        intermediate_value = (1 - best_reward_rate) * top_p_average_reward + best_reward_rate * generator.best_reward\n",
        "        trial.report(intermediate_value, i)\n",
        "        if trial.should_prune():\n",
        "            print(f\"Trial {trial.number} - Step {i}: average_reward={average_reward:.3f}, top_p_average_reward={top_p_average_reward:.3f}, best_reward={generator.best_reward:.3f}, params={trial.params}\")\n",
        "            del generator; gc.collect()\n",
        "            raise optuna.TrialPruned()\n",
        "\n",
        "    trial.set_user_attr(\"average_reward\", average_reward)\n",
        "    trial.set_user_attr(\"top_p_average_reward\", top_p_average_reward)\n",
        "    trial.set_user_attr(\"best_reward\", generator.best_reward)\n",
        "    print(f\"Trial {trial.number}: average_reward={average_reward:.3f}, top_p_average_reward={top_p_average_reward:.3f}, best_reward={generator.best_reward:.3f}\")\n",
        "    generator.analyze()\n",
        "    # generator.plot(**conf.get(\"plot_args\"))\n",
        "    del generator; gc.collect()\n",
        "    return (1 - best_reward_rate) * top_p_average_reward + best_reward_rate * generator.best_reward\n",
        "    \n",
        "def print_trial(trial: optuna.Trial):\n",
        "    print(f\"Trial {trial.number} score={trial.value:.3f}, attrs={trial.user_attrs}, params={trial.params}\")\n",
        "    \n",
        "def print_best_trials(study: optuna.Study):\n",
        "    print(\"Optuna trials completed.\")\n",
        "    print(\"------ Best trials -----\")\n",
        "    best_trials = sorted([t for t in study.trials if t.state == optuna.trial.TrialState.COMPLETE], key=lambda t: t.value, reverse=True)[:5]\n",
        "    for t in best_trials:\n",
        "        print_trial(t)"
      ]
    },
    {
      "cell_type": "code",
      "execution_count": null,
      "metadata": {},
      "outputs": [],
      "source": [
        "# Start search\n",
        "storage = \"sqlite:///optuna/\" + name + \".db\"\n",
        "sampler = sampler=optuna.samplers.TPESampler(multivariate=True, group=True)\n",
        "pruner = optuna.pruners.MedianPruner(n_startup_trials=10, n_warmup_steps=0, interval_steps=1)\n",
        "study = optuna.create_study(direction=\"maximize\", study_name=name, storage=storage, sampler=sampler, pruner=pruner)\n",
        "# study.enqueue_trial({\"sharpness\": 1.0, \"top_p\": 0.995, \"c\": 0.25, \"best_rate\": 0.5, \"max_prior\": 0.4, \"eval_width\": 1, \"n_evals\": 1, \"n_tries\": 2})\n",
        "study.optimize(objective, n_trials=n_trials)\n",
        "print_best_trials(study)"
      ]
    },
    {
      "cell_type": "code",
      "execution_count": null,
      "metadata": {},
      "outputs": [],
      "source": [
        "# Continue search\n",
        "study = optuna.study.load_study(study_name=\"d_score_200000\", storage=\"sqlite:///optuna/d_score_200000.db\")\n",
        "study.optimize(objective, n_trials=300)\n",
        "print_best_trials(study)"
      ]
    },
    {
      "cell_type": "code",
      "execution_count": null,
      "metadata": {},
      "outputs": [],
      "source": [
        "# Add parameters\n",
        "study = optuna.study.load_study(study_name=\"d_score_200000\", storage=\"sqlite:///sqlite:///optuna/d_score_200000.db\")\n",
        "\n",
        "sampler = sampler=optuna.samplers.TPESampler(multivariate=True, group=True)\n",
        "pruner = optuna.pruners.MedianPruner(n_startup_trials=3, n_warmup_steps=0, interval_steps=1)\n",
        "new_storage=\"sqlite:///optuna/d_score_200000_new.db\"\n",
        "study_with_new_param = optuna.create_study(direction=\"maximize\", study_name=name, storage=new_storage, sampler=sampler, pruner=pruner)\n",
        "\n",
        "for trial in study.trials:\n",
        "    params = trial.params\n",
        "    dists = trial.distributions\n",
        "\n",
        "    params[\"filter_reward\"] = \"ignore\"\n",
        "    dists[\"filter_reward\"] = optuna.distributions.CategoricalDistribution([\"ignore\", 0])\n",
        "\n",
        "    trial.params = params\n",
        "    trial.distributions = dists\n",
        "\n",
        "    study_with_new_param.add_trial(trial)"
      ]
    }
  ],
  "metadata": {
    "accelerator": "GPU",
    "colab": {
      "gpuType": "T4",
      "provenance": []
    },
    "kernelspec": {
      "display_name": "v3-forge",
      "language": "python",
      "name": "python3"
    },
    "language_info": {
      "codemirror_mode": {
        "name": "ipython",
        "version": 3
      },
      "file_extension": ".py",
      "mimetype": "text/x-python",
      "name": "python",
      "nbconvert_exporter": "python",
      "pygments_lexer": "ipython3",
      "version": "3.11.0"
    }
  },
  "nbformat": 4,
  "nbformat_minor": 0
}
