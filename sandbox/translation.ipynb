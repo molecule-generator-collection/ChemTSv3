{
  "cells": [
    {
      "cell_type": "code",
      "execution_count": 1,
      "metadata": {},
      "outputs": [],
      "source": [
        "import sys\n",
        "molgen_path = \"../\"\n",
        "if molgen_path not in sys.path:\n",
        "    sys.path.insert(0, molgen_path)"
      ]
    },
    {
      "cell_type": "code",
      "execution_count": 2,
      "metadata": {},
      "outputs": [
        {
          "name": "stdout",
          "output_type": "stream",
          "text": [
            "True\n"
          ]
        }
      ],
      "source": [
        "from rdkit import Chem\n",
        "from rdkit.Chem import Mol\n",
        "from rdkit.Chem import inchi\n",
        "\n",
        "def is_same_molecule(mol1: Mol, mol2: Mol):\n",
        "    inchi1 = inchi.MolToInchiKey(mol1)\n",
        "    inchi2 = inchi.MolToInchiKey(mol2)\n",
        "    return inchi1 == inchi2\n",
        "\n",
        "mol1 = Chem.MolFromHELM(\"PEPTIDE1{A.L.Y.A.S.K.L.S.[am]}$$$$\")\n",
        "mol2 = Chem.MolFromSmiles(\"CC(C)C[C@H](NC(=O)[C@H](C)N)C(=O)N[C@@H](Cc1ccc(O)cc1)C(=O)N[C@@H](C)C(=O)N[C@@H](CO)C(=O)N[C@@H](CCCCN)C(=O)N[C@@H](CC(C)C)C(=O)N[C@@H](CO)C(N)=O\")\n",
        "\n",
        "print(is_same_molecule(mol1, mol2))"
      ]
    },
    {
      "cell_type": "code",
      "execution_count": 3,
      "metadata": {},
      "outputs": [],
      "source": [
        "#build test data\n",
        "import csv\n",
        "\n",
        "test_data: list[tuple] = []\n",
        "file_path = molgen_path + \"data/helm/chembl34_protein_helm.csv\"\n",
        "\n",
        "with open(file_path, newline='', encoding=\"utf-8\") as f:\n",
        "    reader = csv.reader(f, delimiter=',')\n",
        "    next(reader)    # skip header\n",
        "    for row in reader:\n",
        "        test_data.append(tuple(row))"
      ]
    },
    {
      "cell_type": "code",
      "execution_count": null,
      "metadata": {},
      "outputs": [
        {
          "name": "stdout",
          "output_type": "stream",
          "text": [
            "success_count: 10682, none_count: 11240unmatch_count: 120\n"
          ]
        }
      ],
      "source": [
        "#test rdkit converter\n",
        "\n",
        "success_count = 0\n",
        "unmatch_count = 0\n",
        "none_count = 0\n",
        "\n",
        "for helm, id, smiles in test_data:\n",
        "    mol1 = Chem.MolFromHELM(helm)\n",
        "    mol2 = Chem.MolFromSmiles(smiles)\n",
        "    if mol1 is None:\n",
        "        none_count += 1\n",
        "    elif is_same_molecule(mol1, mol2):\n",
        "        success_count += 1\n",
        "    else:\n",
        "        unmatch_count += 1\n",
        "print(\"success_count: \" + str(success_count) + \", none_count: \" + str(none_count) + \" unmatch_count: \" + str(unmatch_count))"
      ]
    },
    {
      "cell_type": "code",
      "execution_count": 12,
      "metadata": {},
      "outputs": [
        {
          "data": {
            "text/plain": [
              "<indigo.indigo.indigo_object.IndigoObject at 0x10dc8d650>"
            ]
          },
          "execution_count": 12,
          "metadata": {},
          "output_type": "execute_result"
        }
      ],
      "source": [
        "from indigo import *\n",
        "im1 = Indigo()\n",
        "im1.loadMolecule(\"ONc1cccc1\")"
      ]
    },
    {
      "cell_type": "code",
      "execution_count": null,
      "metadata": {},
      "outputs": [],
      "source": []
    }
  ],
  "metadata": {
    "accelerator": "GPU",
    "colab": {
      "gpuType": "T4",
      "provenance": []
    },
    "kernelspec": {
      "display_name": "molgen",
      "language": "python",
      "name": "python3"
    },
    "language_info": {
      "codemirror_mode": {
        "name": "ipython",
        "version": 3
      },
      "file_extension": ".py",
      "mimetype": "text/x-python",
      "name": "python",
      "nbconvert_exporter": "python",
      "pygments_lexer": "ipython3",
      "version": "3.11.11"
    }
  },
  "nbformat": 4,
  "nbformat_minor": 0
}
