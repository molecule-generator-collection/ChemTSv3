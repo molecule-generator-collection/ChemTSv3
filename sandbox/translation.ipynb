{
  "cells": [
    {
      "cell_type": "code",
      "execution_count": 2,
      "metadata": {},
      "outputs": [],
      "source": [
        "import sys\n",
        "molgen_path = \"../\"\n",
        "if molgen_path not in sys.path:\n",
        "    sys.path.insert(0, molgen_path)"
      ]
    },
    {
      "cell_type": "code",
      "execution_count": 12,
      "metadata": {},
      "outputs": [
        {
          "name": "stdout",
          "output_type": "stream",
          "text": [
            "True\n"
          ]
        }
      ],
      "source": [
        "from rdkit import Chem\n",
        "from rdkit.Chem import Mol\n",
        "from rdkit.Chem import inchi\n",
        "\n",
        "def is_same_molecule(mol1: Mol, mol2: Mol):\n",
        "    inchi1 = inchi.MolToInchiKey(mol1)\n",
        "    inchi2 = inchi.MolToInchiKey(mol2)\n",
        "    return inchi1 == inchi2\n",
        "\n",
        "mol1 = Chem.MolFromHELM(\"PEPTIDE1{A.L.Y.A.S.K.L.S.[am]}$$$$\")\n",
        "mol2 = Chem.MolFromSmiles(\"CC(C)C[C@H](NC(=O)[C@H](C)N)C(=O)N[C@@H](Cc1ccc(O)cc1)C(=O)N[C@@H](C)C(=O)N[C@@H](CO)C(=O)N[C@@H](CCCCN)C(=O)N[C@@H](CC(C)C)C(=O)N[C@@H](CO)C(N)=O\")\n",
        "\n",
        "print(is_same_molecule(mol1, mol2))"
      ]
    },
    {
      "cell_type": "code",
      "execution_count": 40,
      "metadata": {},
      "outputs": [],
      "source": [
        "#build test data\n",
        "import csv\n",
        "\n",
        "test_data: list[tuple] = []\n",
        "file_path = molgen_path + \"data/helm/chembl34_protein_helm.csv\"\n",
        "\n",
        "with open(file_path, newline='', encoding=\"utf-8\") as f:\n",
        "    reader = csv.reader(f, delimiter=',')\n",
        "    next(reader)    # skip header\n",
        "    for row in reader:\n",
        "        test_data.append(tuple(row))"
      ]
    },
    {
      "cell_type": "code",
      "execution_count": null,
      "metadata": {},
      "outputs": [
        {
          "name": "stdout",
          "output_type": "stream",
          "text": [
            "a\n"
          ]
        },
        {
          "ename": "ArgumentError",
          "evalue": "Python argument types in\n    rdkit.Chem.rdinchi.MolToInchiKey(NoneType, str)\ndid not match C++ signature:\n    MolToInchiKey(class RDKit::ROMol mol, char const * __ptr64 options='')",
          "output_type": "error",
          "traceback": [
            "\u001b[31m---------------------------------------------------------------------------\u001b[39m",
            "\u001b[31mArgumentError\u001b[39m                             Traceback (most recent call last)",
            "\u001b[36mCell\u001b[39m\u001b[36m \u001b[39m\u001b[32mIn[42]\u001b[39m\u001b[32m, line 7\u001b[39m\n\u001b[32m      5\u001b[39m mol1 = Chem.MolFromHELM(helm)\n\u001b[32m      6\u001b[39m mol2 = Chem.MolFromSmiles(smiles)\n\u001b[32m----> \u001b[39m\u001b[32m7\u001b[39m \u001b[38;5;28;01mif\u001b[39;00m \u001b[43mis_same_molecule\u001b[49m\u001b[43m(\u001b[49m\u001b[43mmol1\u001b[49m\u001b[43m,\u001b[49m\u001b[43m \u001b[49m\u001b[43mmol2\u001b[49m\u001b[43m)\u001b[49m:\n\u001b[32m      8\u001b[39m     success_count += \u001b[32m1\u001b[39m\n\u001b[32m      9\u001b[39m     \u001b[38;5;28mprint\u001b[39m(\u001b[33m\"\u001b[39m\u001b[33ma\u001b[39m\u001b[33m\"\u001b[39m)\n",
            "\u001b[36mCell\u001b[39m\u001b[36m \u001b[39m\u001b[32mIn[12]\u001b[39m\u001b[32m, line 6\u001b[39m, in \u001b[36mis_same_molecule\u001b[39m\u001b[34m(mol1, mol2)\u001b[39m\n\u001b[32m      5\u001b[39m \u001b[38;5;28;01mdef\u001b[39;00m\u001b[38;5;250m \u001b[39m\u001b[34mis_same_molecule\u001b[39m(mol1: Mol, mol2: Mol):\n\u001b[32m----> \u001b[39m\u001b[32m6\u001b[39m     inchi1 = \u001b[43minchi\u001b[49m\u001b[43m.\u001b[49m\u001b[43mMolToInchiKey\u001b[49m\u001b[43m(\u001b[49m\u001b[43mmol1\u001b[49m\u001b[43m)\u001b[49m\n\u001b[32m      7\u001b[39m     inchi2 = inchi.MolToInchiKey(mol2)\n\u001b[32m      8\u001b[39m     \u001b[38;5;28;01mreturn\u001b[39;00m inchi1 == inchi2\n",
            "\u001b[36mFile \u001b[39m\u001b[32mc:\\Users\\fsfsf\\anaconda3\\envs\\molgen-env\\Lib\\site-packages\\rdkit\\Chem\\inchi.py:233\u001b[39m, in \u001b[36mMolToInchiKey\u001b[39m\u001b[34m(mol, options)\u001b[39m\n\u001b[32m    227\u001b[39m \u001b[38;5;28;01mdef\u001b[39;00m\u001b[38;5;250m \u001b[39m\u001b[34mMolToInchiKey\u001b[39m(mol, options=\u001b[33m\"\u001b[39m\u001b[33m\"\u001b[39m):\n\u001b[32m    228\u001b[39m \u001b[38;5;250m  \u001b[39m\u001b[33;03m\"\"\"Returns the standard InChI key for a molecule\u001b[39;00m\n\u001b[32m    229\u001b[39m \n\u001b[32m    230\u001b[39m \u001b[33;03m    Returns:\u001b[39;00m\n\u001b[32m    231\u001b[39m \u001b[33;03m    the standard InChI key returned by InChI API for the input molecule\u001b[39;00m\n\u001b[32m    232\u001b[39m \u001b[33;03m    \"\"\"\u001b[39;00m\n\u001b[32m--> \u001b[39m\u001b[32m233\u001b[39m   \u001b[38;5;28;01mreturn\u001b[39;00m \u001b[43mrdinchi\u001b[49m\u001b[43m.\u001b[49m\u001b[43mMolToInchiKey\u001b[49m\u001b[43m(\u001b[49m\u001b[43mmol\u001b[49m\u001b[43m,\u001b[49m\u001b[43m \u001b[49m\u001b[43moptions\u001b[49m\u001b[43m)\u001b[49m\n",
            "\u001b[31mArgumentError\u001b[39m: Python argument types in\n    rdkit.Chem.rdinchi.MolToInchiKey(NoneType, str)\ndid not match C++ signature:\n    MolToInchiKey(class RDKit::ROMol mol, char const * __ptr64 options='')"
          ]
        }
      ],
      "source": [
        "#test converter\n",
        "\n",
        "success_count = 0\n",
        "for helm, id, smiles in test_data:\n",
        "    mol1 = Chem.MolFromHELM(helm)\n",
        "    mol2 = Chem.MolFromSmiles(smiles)\n",
        "    if is_same_molecule(mol1, mol2):\n",
        "        success_count += 1\n",
        "print(\"success_count: \" + str(success_count) + \", success ratio: \" + str(success_count / len(test_data)))"
      ]
    },
    {
      "cell_type": "code",
      "execution_count": null,
      "metadata": {},
      "outputs": [],
      "source": []
    }
  ],
  "metadata": {
    "accelerator": "GPU",
    "colab": {
      "gpuType": "T4",
      "provenance": []
    },
    "kernelspec": {
      "display_name": "molgen-env",
      "language": "python",
      "name": "python3"
    },
    "language_info": {
      "codemirror_mode": {
        "name": "ipython",
        "version": 3
      },
      "file_extension": ".py",
      "mimetype": "text/x-python",
      "name": "python",
      "nbconvert_exporter": "python",
      "pygments_lexer": "ipython3",
      "version": "3.11.11"
    }
  },
  "nbformat": 4,
  "nbformat_minor": 0
}
