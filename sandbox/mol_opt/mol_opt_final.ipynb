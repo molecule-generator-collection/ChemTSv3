{
  "cells": [
    {
      "cell_type": "code",
      "execution_count": null,
      "metadata": {},
      "outputs": [],
      "source": [
        "# add path (for local)\n",
        "import sys\n",
        "repo_root = \"../../\"\n",
        "if repo_root not in sys.path:\n",
        "    sys.path.insert(0, repo_root)\n",
        "    \n",
        "# imports\n",
        "import os\n",
        "from statistics import mean\n",
        "from rdkit import RDLogger\n",
        "from utils import conf_from_yaml, generator_from_conf\n",
        "RDLogger.DisableLog('rdApp.*') # use debug: true to log invalid mols"
      ]
    },
    {
      "cell_type": "code",
      "execution_count": null,
      "metadata": {},
      "outputs": [],
      "source": [
        "guacamol_oracle_names = [\"zaleplon_mpo\", \"isomers_c7h8n2o2\", \"isomers_c9h10n2o2pf2cl\", \"troglitazone_rediscovery\", \"median1\", \"sitagliptin_mpo\", \"thiothixene_rediscovery\", \"deco_hop\", \"albuterol_similarity\", \"scaffold_hop\", \"amlodipine_mpo\", \"celecoxib_rediscovery\", \"fexofenadine_mpo\", \"median2\", \"mestranol_similarity\", \"perindopril_mpo\", \"osimertinib_mpo\", \"ranolazine_mpo\", \"valsartan_smarts\"]\n",
        "tdc_oracle_names = [\"drd2\", \"gsk3b\", \"jnk3\", \"qed\"]\n",
        "oracle_names = guacamol_oracle_names + tdc_oracle_names\n",
        "    \n",
        "def reward_class_name_from_oracle_name(oracle_name: str) -> str:\n",
        "    if oracle_name in tdc_oracle_names:\n",
        "        return \"TDCReward\"\n",
        "    else:\n",
        "        return \"GuacaMolReward\""
      ]
    },
    {
      "cell_type": "code",
      "execution_count": null,
      "metadata": {},
      "outputs": [],
      "source": [
        "def test_chain(oracle_name: str, seed: int) -> float:\n",
        "    yaml_path_1 = \"config/mol_opt/de_novo_rnn.yaml\"\n",
        "    yaml_path_2 = \"config/mol_opt/lead_jensen.yaml\"\n",
        "\n",
        "    conf_1 = conf_from_yaml(yaml_path_1, repo_root)\n",
        "    conf_1[\"seed\"] = seed\n",
        "    conf_1[\"reward_class\"] = reward_class_name_from_oracle_name(oracle_name)\n",
        "    conf_1[\"reward_args\"] = {}\n",
        "    conf_1[\"reward_args\"][\"objective\"] = oracle_name\n",
        "    conf_1[\"output_dir\"] = \"generation_result\" + os.sep + \"seed_\" + str(seed) + os.sep + oracle_name\n",
        "    generator_1 = generator_from_conf(conf_1, repo_root)\n",
        "    generator_1.generate(max_generations=conf_1.get(\"max_generations\"), time_limit=conf_1.get(\"time_limit\"))\n",
        "\n",
        "    conf_2 = conf_from_yaml(yaml_path_2, repo_root)\n",
        "    conf_2[\"seed\"] = seed\n",
        "    generator_2 = generator_from_conf(conf_2, predecessor=generator_1, n_top_keys_to_pass=conf_1.get(\"n_keys_to_pass\", 3))\n",
        "    generator_2.generate(max_generations=conf_2.get(\"max_generations\"), time_limit=conf_2.get(\"time_limit\"))\n",
        "\n",
        "    generator_2.plot(**conf_2.get(\"plot_args\", {}))\n",
        "    generator_2.analyze()\n",
        "    \n",
        "    return generator_2.top_k_auc(top_k=10, max_oracle_calls=10000, finish=True)\n",
        "\n",
        "def test_single(oracle_name: str, seed: int) -> float:\n",
        "    yaml_path = \"config/mol_opt/rnn_only.yaml\"\n",
        "\n",
        "    conf = conf_from_yaml(yaml_path, repo_root)\n",
        "    conf[\"seed\"] = seed\n",
        "    conf[\"reward_class\"] = reward_class_name_from_oracle_name(oracle_name)\n",
        "    conf[\"reward_args\"] = {}\n",
        "    conf[\"reward_args\"][\"objective\"] = oracle_name\n",
        "    conf[\"output_dir\"] = \"generation_result\" + os.sep + \"seed_\" + str(seed) + os.sep + oracle_name\n",
        "    generator = generator_from_conf(conf, repo_root)\n",
        "    generator.generate(max_generations=conf.get(\"max_generations\"), time_limit=conf.get(\"time_limit\"))\n",
        "    \n",
        "    generator.plot(**conf.get(\"plot_args\", {}))\n",
        "    generator.analyze()\n",
        "    \n",
        "    return generator.top_k_auc(top_k=10, max_oracle_calls=10000, finish=True)\n",
        "\n",
        "def test_objective(oracle_name: str, seed: int) -> float:\n",
        "    return test_single(oracle_name, seed)"
      ]
    },
    {
      "cell_type": "code",
      "execution_count": null,
      "metadata": {},
      "outputs": [],
      "source": [
        "results = {}\n",
        "for oracle_name in oracle_names:\n",
        "    results[oracle_name] = []\n",
        "results[\"sum\"] = []    \n",
        "\n",
        "# test\n",
        "for i in range(5):\n",
        "    print(f\"----------- seed: {i} -----------\")\n",
        "    sum = 0\n",
        "    for oracle_name in oracle_names:\n",
        "        score = test_objective(oracle_name, seed=i)\n",
        "        print(oracle_name, score)\n",
        "        results[oracle_name].append(score)\n",
        "        sum += score\n",
        "    results[\"sum\"].append(sum)"
      ]
    },
    {
      "cell_type": "code",
      "execution_count": null,
      "metadata": {},
      "outputs": [],
      "source": [
        "# show results\n",
        "print(\"sum\", mean(results[\"sum\"]), results[\"sum\"])\n",
        "for oracle_name in oracle_names:\n",
        "    print(oracle_name, mean(results[oracle_name]), results[oracle_name])"
      ]
    }
  ],
  "metadata": {
    "accelerator": "GPU",
    "colab": {
      "gpuType": "T4",
      "provenance": []
    },
    "kernelspec": {
      "display_name": "v3-forge",
      "language": "python",
      "name": "python3"
    },
    "language_info": {
      "codemirror_mode": {
        "name": "ipython",
        "version": 3
      },
      "file_extension": ".py",
      "mimetype": "text/x-python",
      "name": "python",
      "nbconvert_exporter": "python",
      "pygments_lexer": "ipython3",
      "version": "3.11.0"
    }
  },
  "nbformat": 4,
  "nbformat_minor": 0
}
