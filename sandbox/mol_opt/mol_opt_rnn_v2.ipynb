{
  "cells": [
    {
      "cell_type": "code",
      "execution_count": null,
      "metadata": {},
      "outputs": [],
      "source": [
        "# add path (for local)\n",
        "import sys\n",
        "repo_root = \"../../\"\n",
        "if repo_root not in sys.path:\n",
        "    sys.path.insert(0, repo_root)"
      ]
    },
    {
      "cell_type": "code",
      "execution_count": null,
      "metadata": {},
      "outputs": [],
      "source": [
        "guacamol_oracle_names = [\"zaleplon_mpo\", \"isomers_c7h8n2o2\", \"isomers_c9h10n2o2pf2cl\", \"troglitazone_rediscovery\", \"median1\", \"sitagliptin_mpo\", \"thiothixene_rediscovery\", \"deco_hop\", \"albuterol_similarity\", \"scaffold_hop\", \"amlodipine_mpo\", \"celecoxib_rediscovery\", \"fexofenadine_mpo\", \"median2\", \"mestranol_similarity\", \"perindopril_mpo\", \"osimertinib_mpo\", \"ranolazine_mpo\", \"valsartan_smarts\"]\n",
        "tdc_oracle_names = [\"drd2\", \"gsk3b\", \"jnk3\", \"qed\"]\n",
        "oracle_names = guacamol_oracle_names + tdc_oracle_names\n",
        "    \n",
        "def reward_class_name_from_oracle_name(oracle_name: str) -> str:\n",
        "    if oracle_name in tdc_oracle_names:\n",
        "        return \"TDCReward\"\n",
        "    else:\n",
        "        return \"GuacaMolReward\""
      ]
    },
    {
      "cell_type": "code",
      "execution_count": null,
      "metadata": {},
      "outputs": [],
      "source": [
        "import os\n",
        "import optuna\n",
        "from rdkit import RDLogger\n",
        "from node import SMILESStringNode\n",
        "from utils import generator_from_conf, conf_from_yaml\n",
        "RDLogger.DisableLog('rdApp.*')\n",
        "\n",
        "yaml_path = \"config/optuna/mol_opt_v2_repli.yaml\"\n",
        "\n",
        "def objective(trial):\n",
        "    try:\n",
        "        conf = conf_from_yaml(yaml_path, repo_root)\n",
        "        conf.setdefault(\"transition_args\", {})\n",
        "        # conf[\"transition_args\"][\"sharpness\"] = trial.suggest_float(\"sharpness\", 0.9, 1.1)\n",
        "        conf[\"transition_args\"][\"top_p\"] = trial.suggest_float(\"top_p\", 0.993, 0.997)\n",
        "\n",
        "        conf.setdefault(\"policy_args\", {})\n",
        "        conf[\"policy_args\"][\"c\"] = trial.suggest_float(\"c\", 0.01, 0.4)\n",
        "        # conf[\"policy_args\"][\"best_rate\"] = trial.suggest_float(\"best_rate\", 0, 1)\n",
        "        # conf[\"policy_args\"][\"prior\"] = trial.suggest_float(\"prior\", 0.3, 1.2)\n",
        "        # conf[\"policy_args\"][\"prior_weight\"] = trial.suggest_int(\"prior_weight\", 0, 2)\n",
        "        # conf[\"policy_args\"][\"max_prior\"] = trial.suggest_float(\"max_prior\", 0, 0.8)\n",
        "\n",
        "        conf.setdefault(\"generator_args\", {})\n",
        "        # conf[\"generator_args\"][\"eval_width\"] = trial.suggest_categorical(\"eval_width\", [1, 100])\n",
        "        # conf[\"generator_args\"][\"eval_width\"] = trial.suggest_int(\"eval_width\", 1, 40)\n",
        "        conf[\"generator_args\"][\"n_evals\"] = trial.suggest_int(\"n_evals\", 1, 10)\n",
        "        # conf[\"generator_args\"][\"n_tries\"] = trial.suggest_int(\"n_tries\", 1, 3)\n",
        "        # conf[\"generator_args\"][\"terminal_reward\"] = trial.suggest_categorical(\"terminal_reward\", [\"ignore\", -1])\n",
        "\n",
        "        sum_auc = 0\n",
        "        for i, oracle_name in enumerate(oracle_names):\n",
        "            conf[\"reward_class\"] = reward_class_name_from_oracle_name(oracle_name)\n",
        "            conf[\"reward_args\"] = {}\n",
        "            conf[\"reward_args\"][\"objective\"] = oracle_name\n",
        "            conf[\"output_dir\"] = \"generation_result\" + os.sep + \"trial_\" + str(trial.number) + os.sep + oracle_name\n",
        "            \n",
        "            generator = generator_from_conf(conf, repo_root)\n",
        "            generator.logger.info(\"reward=\"+oracle_name)\n",
        "            generator.logger.info(f\"params={trial.params}\")\n",
        "            generator.generate(max_generations=10000, time_limit=conf.get(\"time_limit\", 1000))\n",
        "\n",
        "            if len(generator.unique_keys) < 10000:\n",
        "                raise optuna.exceptions.TrialPruned()\n",
        "\n",
        "            auc = generator.top_k_auc(top_k=10, max_oracle_calls=10000, finish=True)\n",
        "            trial.set_user_attr(oracle_name, auc)\n",
        "            generator.logger.info(\"top_10_auc: \" + str(auc))\n",
        "            \n",
        "            sum_auc += auc\n",
        "            intermediate_value = sum_auc\n",
        "            trial.report(intermediate_value, i)\n",
        "            if trial.should_prune():\n",
        "                print(f\"{oracle_name} Trial {trial.number} - Step {0}: intermediate_score={intermediate_value:.3f}, params={trial.params}\")\n",
        "                raise optuna.TrialPruned()\n",
        "\n",
        "        trial.set_user_attr(\"sum_top_10_auc\", sum_auc)\n",
        "        print(f\"{oracle_name} Trial {trial.number}: sum_top_10_auc={sum_auc:.3f}, aucs={trial.user_attrs}\")\n",
        "        return sum_auc\n",
        "    except Exception:\n",
        "        import traceback\n",
        "        traceback.print_exc()\n",
        "        raise optuna.exceptions.TrialPruned()"
      ]
    },
    {
      "cell_type": "code",
      "execution_count": null,
      "metadata": {},
      "outputs": [],
      "source": [
        "name = \"mol_opt_rnn_only\"\n",
        "storage = \"sqlite:///optuna/\" + name + \".db\"\n",
        "sampler = sampler=optuna.samplers.TPESampler(multivariate=True, group=True)\n",
        "pruner = optuna.pruners.MedianPruner(n_startup_trials=3, n_warmup_steps=2, interval_steps=1)\n",
        "study = optuna.create_study(direction=\"maximize\", study_name=name, storage=storage, sampler=sampler, pruner=pruner, load_if_exists=True)\n",
        "study.enqueue_trial({\"top_p\": 0.995, \"c_1\": 0.1, \"n_evals\": 3})\n",
        "study.enqueue_trial({\"top_p\": 0.995, \"c_1\": 0.282842712475, \"n_evals\": 3})\n",
        "study.enqueue_trial({\"top_p\": 0.995, \"c_1\": 0.01, \"n_evals\": 3})\n",
        "study.optimize(objective, n_trials=100000)"
      ]
    },
    {
      "cell_type": "code",
      "execution_count": null,
      "metadata": {},
      "outputs": [],
      "source": [
        "# continue search\n",
        "name = \"mol_opt_rnn_only\"\n",
        "storage = \"sqlite:///optuna/\" + name + \".db\"\n",
        "study = optuna.study.load_study(study_name=name, storage=storage)\n",
        "study.optimize(objective, n_trials=30000)"
      ]
    }
  ],
  "metadata": {
    "accelerator": "GPU",
    "colab": {
      "gpuType": "T4",
      "provenance": []
    },
    "kernelspec": {
      "display_name": "v3-forge",
      "language": "python",
      "name": "python3"
    },
    "language_info": {
      "codemirror_mode": {
        "name": "ipython",
        "version": 3
      },
      "file_extension": ".py",
      "mimetype": "text/x-python",
      "name": "python",
      "nbconvert_exporter": "python",
      "pygments_lexer": "ipython3",
      "version": "3.11.0"
    }
  },
  "nbformat": 4,
  "nbformat_minor": 0
}
