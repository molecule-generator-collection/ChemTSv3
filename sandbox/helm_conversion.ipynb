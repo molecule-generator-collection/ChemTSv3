{
  "cells": [
    {
      "cell_type": "code",
      "execution_count": 29,
      "metadata": {},
      "outputs": [],
      "source": [
        "import sys\n",
        "molgen_path = \"../\"\n",
        "if molgen_path not in sys.path:\n",
        "    sys.path.insert(0, molgen_path)"
      ]
    },
    {
      "cell_type": "code",
      "execution_count": 30,
      "metadata": {},
      "outputs": [],
      "source": [
        "from rdkit import Chem\n",
        "from rdkit.Chem import Mol\n",
        "from rdkit.Chem import inchi\n",
        "from rdkit.Chem import Draw, rdDepictor\n",
        "from IPython.display import display\n",
        "\n",
        "def is_same_mol(mol1: Mol, mol2: Mol, options=None):\n",
        "    inchi1 = inchi.MolToInchiKey(mol1, options)\n",
        "    inchi2 = inchi.MolToInchiKey(mol2, options)\n",
        "    return inchi1 == inchi2\n",
        "\n",
        "def print_atoms_and_labels(mol: Mol):\n",
        "    for a in mol.GetAtoms():\n",
        "        text = a.GetSymbol() + \", MapNum: \" + str(a.GetAtomMapNum())\n",
        "        if a.HasProp('atomLabel'):\n",
        "            text += \", label: \" + a.GetProp(\"atomLabel\")\n",
        "        print(text)\n",
        "\n",
        "def draw_mol(mol: Mol, width, height):\n",
        "    rdDepictor.SetPreferCoordGen(True)\n",
        "    rdDepictor.Compute2DCoords(mol, clearConfs=True)\n",
        "    display(Draw.MolToImage(mol, size = (width, height)))"
      ]
    },
    {
      "cell_type": "code",
      "execution_count": 31,
      "metadata": {},
      "outputs": [
        {
          "name": "stdout",
          "output_type": "stream",
          "text": [
            "The autoreload extension is already loaded. To reload it, use:\n",
            "  %reload_ext autoreload\n"
          ]
        },
        {
          "name": "stderr",
          "output_type": "stream",
          "text": [
            "[01:32:58] WARNING: not removing hydrogen atom with dummy atom neighbors\n",
            "[01:32:58] WARNING: not removing hydrogen atom with dummy atom neighbors\n"
          ]
        }
      ],
      "source": [
        "%load_ext autoreload\n",
        "%autoreload 2\n",
        "from utils import MonomersLib, HELMConverter\n",
        "\n",
        "monomers_lib_path = molgen_path + \"data/helm/library/chembl_35_monomer_library.xml\"\n",
        "lib = MonomersLib.load(monomers_lib_path)\n",
        "converter = HELMConverter(lib)"
      ]
    },
    {
      "cell_type": "code",
      "execution_count": null,
      "metadata": {},
      "outputs": [],
      "source": [
        "# helm = \"PEPTIDE1{K.F.Y.C.N.G.K.R.V.C.V.C.R.[am]}$$$$\"\n",
        "# helm = \"PEPTIDE1{[ac].Y.[dC].[dD].[dP].[dC]}$PEPTIDE1,PEPTIDE1,6:R3-3:R3$$$\"\n",
        "# helm = \"PEPTIDE1{[dC].[dS].N.[dL].S.[dalloT].[dC].V.L.S.A.Y.W.R.N.L.N.N.F.H.R.F.S.G.M.G.F.G.[dP].Q.T.P}$PEPTIDE1,PEPTIDE1,7:R3-1:R3$$$\"\n",
        "# helm = \"PEPTIDE1{[dP].G}|PEPTIDE2{Y.[dOrn].[1-Nal]}$PEPTIDE2,PEPTIDE1,3:R2-1:R1|PEPTIDE2,PEPTIDE1,2:R3-2:R2$$$\"\n",
        "# helm = \"PEPTIDE1{S.C.R.L.Y.E.L.L.H.G.A.G.N.H.A.A.G.I.L.T.L}|PEPTIDE2{S.C.R.L.Y.E.L.L.H.G.A.G.N.H.A.A.G.I.L.T.L}$PEPTIDE2,PEPTIDE1,2:R3-2:R3$$$\"\n",
        "helm = \"PEPTIDE1{Y.G.G.F.[dD]}|PEPTIDE2{[dR].R}|PEPTIDE3{[dDab].R.P.K.L.K}$PEPTIDE3,PEPTIDE2,1:R3-2:R2|PEPTIDE1,PEPTIDE2,5:R2-1:R1|PEPTIDE1,PEPTIDE3,5:R3-1:R1$$$\"\n",
        "\n"
      ]
    },
    {
      "cell_type": "code",
      "execution_count": null,
      "metadata": {},
      "outputs": [
        {
          "name": "stderr",
          "output_type": "stream",
          "text": [
            "[01:32:58] \n",
            "\n",
            "****\n",
            "Invariant Violation\n",
            "molzip: bond info already exists for end atom with label:1\n",
            "Violation occurred on line 1100 in file C:\\rdkit\\build\\temp.win-amd64-cpython-311\\Release\\rdkit\\Code\\GraphMol\\ChemTransforms\\MolFragmenter.cpp\n",
            "Failed Expression: !bond.b\n",
            "****\n",
            "\n"
          ]
        },
        {
          "ename": "ArgumentError",
          "evalue": "Python argument types in\n    rdkit.Chem.rdinchi.MolToInchiKey(NoneType, NoneType)\ndid not match C++ signature:\n    MolToInchiKey(class RDKit::ROMol mol, char const * __ptr64 options='')",
          "output_type": "error",
          "traceback": [
            "\u001b[31m---------------------------------------------------------------------------\u001b[39m",
            "\u001b[31mArgumentError\u001b[39m                             Traceback (most recent call last)",
            "\u001b[36mCell\u001b[39m\u001b[36m \u001b[39m\u001b[32mIn[32]\u001b[39m\u001b[32m, line 15\u001b[39m\n\u001b[32m     12\u001b[39m width = \u001b[32m600\u001b[39m\n\u001b[32m     13\u001b[39m height = \u001b[32m600\u001b[39m\n\u001b[32m---> \u001b[39m\u001b[32m15\u001b[39m \u001b[38;5;28mprint\u001b[39m(\u001b[43mis_same_mol\u001b[49m\u001b[43m(\u001b[49m\u001b[43mmol_helm\u001b[49m\u001b[43m,\u001b[49m\u001b[43m \u001b[49m\u001b[43mmol_smiles\u001b[49m\u001b[43m)\u001b[49m)\n\u001b[32m     16\u001b[39m draw_mol(mol_helm, width, height)\n\u001b[32m     17\u001b[39m draw_mol(mol_smiles, width, height)\n",
            "\u001b[36mCell\u001b[39m\u001b[36m \u001b[39m\u001b[32mIn[30]\u001b[39m\u001b[32m, line 8\u001b[39m, in \u001b[36mis_same_mol\u001b[39m\u001b[34m(mol1, mol2, options)\u001b[39m\n\u001b[32m      7\u001b[39m \u001b[38;5;28;01mdef\u001b[39;00m\u001b[38;5;250m \u001b[39m\u001b[34mis_same_mol\u001b[39m(mol1: Mol, mol2: Mol, options=\u001b[38;5;28;01mNone\u001b[39;00m):\n\u001b[32m----> \u001b[39m\u001b[32m8\u001b[39m     inchi1 = \u001b[43minchi\u001b[49m\u001b[43m.\u001b[49m\u001b[43mMolToInchiKey\u001b[49m\u001b[43m(\u001b[49m\u001b[43mmol1\u001b[49m\u001b[43m,\u001b[49m\u001b[43m \u001b[49m\u001b[43moptions\u001b[49m\u001b[43m)\u001b[49m\n\u001b[32m      9\u001b[39m     inchi2 = inchi.MolToInchiKey(mol2, options)\n\u001b[32m     10\u001b[39m     \u001b[38;5;28;01mreturn\u001b[39;00m inchi1 == inchi2\n",
            "\u001b[36mFile \u001b[39m\u001b[32mc:\\Users\\fsfsf\\anaconda3\\envs\\molgen-env\\Lib\\site-packages\\rdkit\\Chem\\inchi.py:233\u001b[39m, in \u001b[36mMolToInchiKey\u001b[39m\u001b[34m(mol, options)\u001b[39m\n\u001b[32m    227\u001b[39m \u001b[38;5;28;01mdef\u001b[39;00m\u001b[38;5;250m \u001b[39m\u001b[34mMolToInchiKey\u001b[39m(mol, options=\u001b[33m\"\u001b[39m\u001b[33m\"\u001b[39m):\n\u001b[32m    228\u001b[39m \u001b[38;5;250m  \u001b[39m\u001b[33;03m\"\"\"Returns the standard InChI key for a molecule\u001b[39;00m\n\u001b[32m    229\u001b[39m \n\u001b[32m    230\u001b[39m \u001b[33;03m    Returns:\u001b[39;00m\n\u001b[32m    231\u001b[39m \u001b[33;03m    the standard InChI key returned by InChI API for the input molecule\u001b[39;00m\n\u001b[32m    232\u001b[39m \u001b[33;03m    \"\"\"\u001b[39;00m\n\u001b[32m--> \u001b[39m\u001b[32m233\u001b[39m   \u001b[38;5;28;01mreturn\u001b[39;00m \u001b[43mrdinchi\u001b[49m\u001b[43m.\u001b[49m\u001b[43mMolToInchiKey\u001b[49m\u001b[43m(\u001b[49m\u001b[43mmol\u001b[49m\u001b[43m,\u001b[49m\u001b[43m \u001b[49m\u001b[43moptions\u001b[49m\u001b[43m)\u001b[49m\n",
            "\u001b[31mArgumentError\u001b[39m: Python argument types in\n    rdkit.Chem.rdinchi.MolToInchiKey(NoneType, NoneType)\ndid not match C++ signature:\n    MolToInchiKey(class RDKit::ROMol mol, char const * __ptr64 options='')"
          ]
        }
      ],
      "source": [
        "helm = \"PEPTIDE1{[X1590].L.F}$$$$\", smiles = \"C=C(C)NC(=O)N[C@@H](CCSC)C(=O)N[C@@H](CC(C)C)C(=O)N[C@@H](Cc1ccccc1)C(=O)O\"\n",
        "\n",
        "mol_helm = converter.convert(helm)\n",
        "mol_smiles = Chem.MolFromSmiles(smiles)\n",
        "\n",
        "width = 600\n",
        "height = 600\n",
        "\n",
        "print(is_same_mol(mol_helm, mol_smiles))\n",
        "draw_mol(mol_helm, width, height)\n",
        "draw_mol(mol_smiles, width, height)"
      ]
    }
  ],
  "metadata": {
    "accelerator": "GPU",
    "colab": {
      "gpuType": "T4",
      "provenance": []
    },
    "kernelspec": {
      "display_name": "molgen-env",
      "language": "python",
      "name": "python3"
    },
    "language_info": {
      "codemirror_mode": {
        "name": "ipython",
        "version": 3
      },
      "file_extension": ".py",
      "mimetype": "text/x-python",
      "name": "python",
      "nbconvert_exporter": "python",
      "pygments_lexer": "ipython3",
      "version": "3.11.11"
    }
  },
  "nbformat": 4,
  "nbformat_minor": 0
}
