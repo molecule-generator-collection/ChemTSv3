{
  "cells": [
    {
      "cell_type": "code",
      "execution_count": null,
      "metadata": {},
      "outputs": [],
      "source": [
        "# add path (for local)\n",
        "import sys\n",
        "repo_root = \"../\"\n",
        "if repo_root not in sys.path:\n",
        "    sys.path.insert(0, repo_root)"
      ]
    },
    {
      "cell_type": "code",
      "execution_count": null,
      "metadata": {},
      "outputs": [],
      "source": [
        "%load_ext autoreload\n",
        "%autoreload 2\n",
        "from rdkit import Chem\n",
        "from utils import HELMConverter, draw_mol, get_main_mol, remove_isotopes, is_same_mol\n",
        "\n",
        "lib_files = [\n",
        "    \"chembl_35_monomer_library.xml\",\n",
        "    \"chembl_35_monomer_library_diff.xml\",\n",
        "    \"HELMCoreLibrary.json\",\n",
        "    \"monomerLib2.0.json\"\n",
        "]\n",
        "converter = HELMConverter().load(*[repo_root + f\"data/helm/library/{name}\" for name in lib_files])"
      ]
    },
    {
      "cell_type": "code",
      "execution_count": null,
      "metadata": {},
      "outputs": [],
      "source": [
        "helm = \"RNA1{R(C)P.R(T)P.R(C)P.R(C)P.R(A)P.R(A)P.R(C)P.R(A)P.R(T)P.R(C)P.R(A)P.R(A)P.R(G)P.R(G)P}$$$$\"\n",
        "\n",
        "mol = converter._convert(helm, verbose=True)\n",
        "draw_mol(mol, 200, 300)"
      ]
    },
    {
      "cell_type": "code",
      "execution_count": null,
      "metadata": {},
      "outputs": [],
      "source": [
        "helm, smiles = \"CHEM1{[SMCC]}|PEPTIDE1{L.M}|RNA1{R(C)P.R(A)P}$RNA1,PEPTIDE1,6:R2-1:R1|PEPTIDE1,CHEM1,2:R2-1:R1$$$\", \"CC(C)C[C@@H](C(=O)N[C@@H](CCSC)C(=O)C(=O)C1CCC(CC1)CN2C(=O)CC([H])C2=O)NP(=O)(O)O[C@@H]3[C@@H](COP(=O)(O)O[C@@H]4[C@@H](CO[H])O[C@H]([C@@H]4O)N5C=CC(=NC5=O)N)O[C@H]([C@@H]3O)N6C=NC7=C6N=CN=C7N\"\n",
        "\n",
        "mol_helm = converter.convert(helm)\n",
        "mol_helm = Chem.RemoveHs(mol_helm)\n",
        "# mol_smiles = standardize_mol(Chem.MolFromSmiles(smiles))\n",
        "mol_smiles = Chem.MolFromSmiles(smiles)\n",
        "\n",
        "width = 500\n",
        "height = 500\n",
        "\n",
        "print(is_same_mol(mol_helm, mol_smiles))\n",
        "print(Chem.MolToSmiles(mol_helm) + \" ...helm -> smiles\")\n",
        "print(Chem.MolToSmiles(mol_smiles) + \" ...smiles -> smiles\")\n",
        "print(smiles + \" ...raw\")\n",
        "\n",
        "draw_mol(mol_helm, width, height)\n",
        "draw_mol(mol_smiles, width, height)"
      ]
    },
    {
      "cell_type": "code",
      "execution_count": null,
      "metadata": {},
      "outputs": [],
      "source": [
        "mol = converter.check_monomer(\"C\", \"PEPTIDE\")\n",
        "print(Chem.MolToSmiles(mol))\n",
        "mol"
      ]
    },
    {
      "cell_type": "code",
      "execution_count": null,
      "metadata": {},
      "outputs": [],
      "source": [
        "#test converter\n",
        "\n",
        "import cProfile\n",
        "import csv\n",
        "\n",
        "test_data: list[tuple] = []\n",
        "file_path = repo_root + \"data/helm/chembl34_protein_helm.csv\"\n",
        "#file_path = molgen_path + \"data/helm/pa_test.csv\"\n",
        "\n",
        "with open(file_path, newline='', encoding=\"utf-8\") as f:\n",
        "    reader = csv.reader(f, delimiter=',')\n",
        "    next(reader)    # skip header\n",
        "    for row in reader:\n",
        "        test_data.append(tuple(row))\n",
        "\n",
        "def test():\n",
        "    success_count = 0\n",
        "    unmatch_count = 0\n",
        "    none_count = 0\n",
        "    for helm, id, smiles in test_data:\n",
        "        mol1 = converter.convert(helm)\n",
        "        mol2 = Chem.MolFromSmiles(smiles)\n",
        "        mol2 = remove_isotopes(mol2)\n",
        "        mol2 = get_main_mol(mol2)\n",
        "\n",
        "        if mol1 is None:\n",
        "            none_count += 1\n",
        "            print(\"None - helm: \" + helm + \", smiles: \" + smiles)\n",
        "        elif is_same_mol(mol1, mol2):\n",
        "            success_count += 1\n",
        "        else:\n",
        "            unmatch_count += 1\n",
        "            print(\"Unmatch - helm: \" + helm + \", smiles: \" + smiles)\n",
        "    print(\"success_count: \" + str(success_count) + \", none_count: \" + str(none_count) + \" unmatch_count: \" + str(unmatch_count))\n",
        "\n",
        "#cProfile.run(\"test()\")\n",
        "test()"
      ]
    }
  ],
  "metadata": {
    "accelerator": "GPU",
    "colab": {
      "gpuType": "T4",
      "provenance": []
    },
    "kernelspec": {
      "display_name": "molgen-env",
      "language": "python",
      "name": "python3"
    },
    "language_info": {
      "codemirror_mode": {
        "name": "ipython",
        "version": 3
      },
      "file_extension": ".py",
      "mimetype": "text/x-python",
      "name": "python",
      "nbconvert_exporter": "python",
      "pygments_lexer": "ipython3",
      "version": "3.11.11"
    }
  },
  "nbformat": 4,
  "nbformat_minor": 0
}
