{
  "cells": [
    {
      "cell_type": "code",
      "execution_count": 1,
      "metadata": {},
      "outputs": [],
      "source": [
        "import sys\n",
        "repo_root = \"../\"\n",
        "if repo_root not in sys.path:\n",
        "    sys.path.insert(0, repo_root)"
      ]
    },
    {
      "cell_type": "code",
      "execution_count": 13,
      "metadata": {},
      "outputs": [
        {
          "name": "stdout",
          "output_type": "stream",
          "text": [
            "PEPTIDE1{A.L.Y.A.S.K.L.S.[am]}$$$$\n"
          ]
        }
      ],
      "source": [
        "from chembl_webresource_client.new_client import new_client\n",
        "\n",
        "molecule = new_client.molecule\n",
        "m1 = molecule.filter(chembl_id=\"CHEMBL448105\")[0] #.only([\"pref_name\", \"molecule_structures\"])\n",
        "print(m1[\"helm_notation\"])"
      ]
    },
    {
      "cell_type": "code",
      "execution_count": 15,
      "metadata": {},
      "outputs": [
        {
          "name": "stdout",
          "output_type": "stream",
          "text": [
            "PEPTIDE1{A.L.Y.A.S.K.L.S.[am]}$$$$\n"
          ]
        },
        {
          "data": {
            "text/plain": [
              "{'atc_classifications': [],\n",
              " 'availability_type': -1,\n",
              " 'biotherapeutic': {'biocomponents': [],\n",
              "  'description': None,\n",
              "  'helm_notation': 'PEPTIDE1{A.L.Y.A.S.K.L.S.[am]}$$$$',\n",
              "  'molecule_chembl_id': 'CHEMBL448105'},\n",
              " 'black_box_warning': 0,\n",
              " 'chebi_par_id': None,\n",
              " 'chemical_probe': 0,\n",
              " 'chirality': -1,\n",
              " 'cross_references': [],\n",
              " 'dosed_ingredient': False,\n",
              " 'first_approval': None,\n",
              " 'first_in_class': -1,\n",
              " 'helm_notation': 'PEPTIDE1{A.L.Y.A.S.K.L.S.[am]}$$$$',\n",
              " 'indication_class': None,\n",
              " 'inorganic_flag': -1,\n",
              " 'max_phase': None,\n",
              " 'molecule_chembl_id': 'CHEMBL448105',\n",
              " 'molecule_hierarchy': {'active_chembl_id': 'CHEMBL448105',\n",
              "  'molecule_chembl_id': 'CHEMBL448105',\n",
              "  'parent_chembl_id': 'CHEMBL448105'},\n",
              " 'molecule_properties': {'alogp': '-3.61',\n",
              "  'aromatic_rings': 1,\n",
              "  'cx_logd': '-6.75',\n",
              "  'cx_logp': '-4.36',\n",
              "  'cx_most_apka': '8.08',\n",
              "  'cx_most_bpka': '22.56',\n",
              "  'full_molformula': 'C39H66N10O11',\n",
              "  'full_mwt': '851.02',\n",
              "  'hba': 13,\n",
              "  'hba_lipinski': 21,\n",
              "  'hbd': 13,\n",
              "  'hbd_lipinski': 16,\n",
              "  'heavy_atoms': 60,\n",
              "  'molecular_species': 'BASE',\n",
              "  'mw_freebase': '851.02',\n",
              "  'mw_monoisotopic': '850.4913',\n",
              "  'np_likeness_score': '0.18',\n",
              "  'num_lipinski_ro5_violations': 3,\n",
              "  'num_ro5_violations': 3,\n",
              "  'psa': '359.52',\n",
              "  'qed_weighted': '0.04',\n",
              "  'ro3_pass': 'N',\n",
              "  'rtb': 27},\n",
              " 'molecule_structures': {'canonical_smiles': 'CC(C)C[C@H](NC(=O)[C@H](C)N)C(=O)N[C@@H](Cc1ccc(O)cc1)C(=O)N[C@@H](C)C(=O)N[C@@H](CO)C(=O)N[C@@H](CCCCN)C(=O)N[C@@H](CC(C)C)C(=O)N[C@@H](CO)C(N)=O',\n",
              "  'molfile': '\\n     RDKit          2D\\n\\n 60 60  0  0  1  0  0  0  0  0999 V2000\\n    7.7792  -10.5167    0.0000 C   0  0  0  0  0  0  0  0  0  0  0  0\\n   11.6667  -17.2792    0.0000 C   0  0  0  0  0  0  0  0  0  0  0  0\\n    1.2833   -5.2500    0.0000 C   0  0  0  0  0  0  0  0  0  0  0  0\\n    3.8917   -3.7542    0.0000 C   0  0  0  0  0  0  0  0  0  0  0  0\\n    5.1833   -7.5083    0.0000 C   0  0  0  0  0  0  0  0  0  0  0  0\\n    9.0750  -14.2708    0.0000 C   0  0  0  0  0  0  0  0  0  0  0  0\\n    6.4833   -8.2625    0.0000 N   0  0  0  0  0  0  0  0  0  0  0  0\\n   11.6667  -18.7792    0.0000 N   0  0  0  0  0  0  0  0  0  0  0  0\\n    6.4792   -9.7625    0.0000 C   0  0  0  0  0  0  0  0  0  0  0  0\\n   -1.3292   -8.2417    0.0000 C   0  0  0  0  0  0  0  0  0  0  0  0\\n    1.2917   -3.7458    0.0000 N   0  0  0  0  0  0  0  0  0  0  0  0\\n   10.3708  -15.0250    0.0000 N   0  0  0  0  0  0  0  0  0  0  0  0\\n   12.9625  -19.5333    0.0000 C   0  0  0  0  0  0  0  0  0  0  0  0\\n   -0.0250   -7.4958    0.0000 N   0  0  0  0  0  0  0  0  0  0  0  0\\n    7.7792  -12.0167    0.0000 N   0  0  0  0  0  0  0  0  0  0  0  0\\n    3.8875   -5.2542    0.0000 N   0  0  0  0  0  0  0  0  0  0  0  0\\n    2.5917   -3.0000    0.0000 C   0  0  0  0  0  0  0  0  0  0  0  0\\n   10.3708  -16.5250    0.0000 C   0  0  0  0  0  0  0  0  0  0  0  0\\n   -0.0208   -5.9917    0.0000 C   0  0  0  0  0  0  0  0  0  0  0  0\\n   12.9625  -21.0333    0.0000 C   0  0  0  0  0  0  0  0  0  0  0  0\\n    5.1875   -6.0083    0.0000 C   0  0  0  0  0  0  0  0  0  0  0  0\\n    9.0750  -12.7708    0.0000 C   0  0  0  0  0  0  0  0  0  0  0  0\\n    8.8208   -9.9167    0.0000 O   0  0  0  0  0  0  0  0  0  0  0  0\\n    4.9333   -3.1583    0.0000 O   0  0  0  0  0  0  0  0  0  0  0  0\\n    2.3208   -5.8542    0.0000 O   0  0  0  0  0  0  0  0  0  0  0  0\\n   12.7083  -16.6792    0.0000 O   0  0  0  0  0  0  0  0  0  0  0  0\\n    8.0333  -14.8708    0.0000 O   0  0  0  0  0  0  0  0  0  0  0  0\\n    4.1458   -8.1083    0.0000 O   0  0  0  0  0  0  0  0  0  0  0  0\\n   -2.3667   -7.6375    0.0000 O   0  0  0  0  0  0  0  0  0  0  0  0\\n    2.5958   -1.5000    0.0000 C   0  0  0  0  0  0  0  0  0  0  0  0\\n   14.0000  -21.6333    0.0000 O   0  0  0  0  0  0  0  0  0  0  0  0\\n   -1.3167   -5.2417    0.0000 C   0  0  0  0  0  0  0  0  0  0  0  0\\n    9.0667  -17.2708    0.0000 C   0  0  0  0  0  0  0  0  0  0  0  0\\n   -1.3333   -9.7417    0.0000 C   0  0  0  0  0  0  0  0  0  0  0  0\\n   11.9208  -21.6333    0.0000 N   0  0  0  0  0  0  0  0  0  0  0  0\\n    1.2958   -0.7500    0.0000 C   0  0  0  0  0  0  0  0  0  0  0  0\\n   -1.3000    0.7500    0.0000 C   0  0  0  0  0  0  0  0  0  0  0  0\\n   -2.3750  -10.3375    0.0000 N   0  0  0  0  0  0  0  0  0  0  0  0\\n    5.1792  -10.5083    0.0000 C   0  0  0  0  0  0  0  0  0  0  0  0\\n   14.2625  -18.7833    0.0000 C   0  0  0  0  0  0  0  0  0  0  0  0\\n    1.2958    0.7500    0.0000 C   0  0  0  0  0  0  0  0  0  0  0  0\\n    0.0000   -1.5000    0.0000 C   0  0  0  0  0  0  0  0  0  0  0  0\\n   12.7125   -7.6667    0.0000 N   0  0  0  0  0  0  0  0  0  0  0  0\\n    0.0000    1.5000    0.0000 C   0  0  0  0  0  0  0  0  0  0  0  0\\n   -1.3000   -0.7500    0.0000 C   0  0  0  0  0  0  0  0  0  0  0  0\\n   -2.3417    1.3500    0.0000 O   0  0  0  0  0  0  0  0  0  0  0  0\\n   14.2625  -17.5833    0.0000 O   0  0  0  0  0  0  0  0  0  0  0  0\\n    4.1417   -9.9042    0.0000 O   0  0  0  0  0  0  0  0  0  0  0  0\\n    7.7708  -16.5167    0.0000 C   0  0  0  0  0  0  0  0  0  0  0  0\\n   -2.6208   -5.9875    0.0000 C   0  0  0  0  0  0  0  0  0  0  0  0\\n   10.3750  -12.0208    0.0000 C   0  0  0  0  0  0  0  0  0  0  0  0\\n    6.2292   -5.4125    0.0000 C   0  0  0  0  0  0  0  0  0  0  0  0\\n   11.6750   -8.2667    0.0000 C   0  0  0  0  0  0  0  0  0  0  0  0\\n   -0.2958  -10.3458    0.0000 C   0  0  0  0  0  0  0  0  0  0  0  0\\n   10.3750  -10.5208    0.0000 C   0  0  0  0  0  0  0  0  0  0  0  0\\n   11.6750   -9.7667    0.0000 C   0  0  0  0  0  0  0  0  0  0  0  0\\n   -2.6208   -7.1875    0.0000 C   0  0  0  0  0  0  0  0  0  0  0  0\\n    6.7292  -17.1125    0.0000 C   0  0  0  0  0  0  0  0  0  0  0  0\\n    7.7750  -15.3167    0.0000 C   0  0  0  0  0  0  0  0  0  0  0  0\\n   -3.6583   -5.3833    0.0000 C   0  0  0  0  0  0  0  0  0  0  0  0\\n  2 18  1  0\\n  3 11  1  0\\n  4 16  1  0\\n  5  7  1  0\\n  6 22  1  0\\n  9  7  1  6\\n  8  2  1  0\\n  9  1  1  0\\n 10 14  1  0\\n 17 11  1  1\\n 12  6  1  0\\n 13  8  1  1\\n 14 19  1  0\\n 15  1  1  0\\n 16 21  1  0\\n 17  4  1  0\\n 18 12  1  6\\n 19  3  1  0\\n 20 13  1  0\\n 21  5  1  0\\n 22 15  1  1\\n 23  1  2  0\\n 24  4  2  0\\n 25  3  2  0\\n 26  2  2  0\\n 27  6  2  0\\n 28  5  2  0\\n 29 10  2  0\\n 30 17  1  0\\n 31 20  2  0\\n 19 32  1  1\\n 33 18  1  0\\n 34 10  1  0\\n 35 20  1  0\\n 36 30  1  0\\n 37 45  1  0\\n 38 34  1  0\\n 39  9  1  0\\n 40 13  1  0\\n 41 36  2  0\\n 42 36  1  0\\n 43 53  1  0\\n 44 41  1  0\\n 45 42  2  0\\n 46 37  1  0\\n 47 40  1  0\\n 48 39  1  0\\n 49 33  1  0\\n 50 32  1  0\\n 51 22  1  0\\n 21 52  1  1\\n 53 56  1  0\\n 34 54  1  6\\n 55 51  1  0\\n 56 55  1  0\\n 57 50  1  0\\n 58 49  1  0\\n 59 49  1  0\\n 60 50  1  0\\n 37 44  2  0\\nM  END\\n> <chembl_id>\\nCHEMBL448105\\n\\n> <chembl_pref_name>\\nNone',\n",
              "  'standard_inchi': 'InChI=1S/C39H66N10O11/c1-20(2)15-27(45-33(54)22(5)41)37(58)47-29(17-24-10-12-25(52)13-11-24)36(57)43-23(6)34(55)49-31(19-51)39(60)44-26(9-7-8-14-40)35(56)46-28(16-21(3)4)38(59)48-30(18-50)32(42)53/h10-13,20-23,26-31,50-52H,7-9,14-19,40-41H2,1-6H3,(H2,42,53)(H,43,57)(H,44,60)(H,45,54)(H,46,56)(H,47,58)(H,48,59)(H,49,55)/t22-,23-,26-,27-,28-,29-,30-,31-/m0/s1',\n",
              "  'standard_inchi_key': 'VWRQXSZGVCPPJA-LXPLJTSZSA-N'},\n",
              " 'molecule_synonyms': [],\n",
              " 'molecule_type': 'Protein',\n",
              " 'natural_product': 0,\n",
              " 'oral': False,\n",
              " 'orphan': -1,\n",
              " 'parenteral': False,\n",
              " 'polymer_flag': 0,\n",
              " 'pref_name': None,\n",
              " 'prodrug': -1,\n",
              " 'structure_type': 'BOTH',\n",
              " 'therapeutic_flag': False,\n",
              " 'topical': False,\n",
              " 'usan_stem': None,\n",
              " 'usan_stem_definition': None,\n",
              " 'usan_substem': None,\n",
              " 'usan_year': None,\n",
              " 'withdrawn_flag': False}"
            ]
          },
          "execution_count": 15,
          "metadata": {},
          "output_type": "execute_result"
        }
      ],
      "source": [
        "print(m1[\"helm_notation\"])\n",
        "m1"
      ]
    }
  ],
  "metadata": {
    "accelerator": "GPU",
    "colab": {
      "gpuType": "T4",
      "provenance": []
    },
    "kernelspec": {
      "display_name": "v3-forge",
      "language": "python",
      "name": "python3"
    },
    "language_info": {
      "codemirror_mode": {
        "name": "ipython",
        "version": 3
      },
      "file_extension": ".py",
      "mimetype": "text/x-python",
      "name": "python",
      "nbconvert_exporter": "python",
      "pygments_lexer": "ipython3",
      "version": "3.11.0"
    }
  },
  "nbformat": 4,
  "nbformat_minor": 0
}
