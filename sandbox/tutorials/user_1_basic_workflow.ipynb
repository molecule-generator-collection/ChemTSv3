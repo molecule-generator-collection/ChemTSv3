{
  "cells": [
    {
      "cell_type": "markdown",
      "metadata": {},
      "source": [
        "## Tutorial (user): Basic workflow\n",
        "- Generate molecules with YAML\n",
        "- Analyze the result"
      ]
    },
    {
      "cell_type": "code",
      "execution_count": null,
      "metadata": {},
      "outputs": [],
      "source": [
        "# Imports (may take some time on the first run)\n",
        "\n",
        "import sys\n",
        "repo_root = \"../../\"\n",
        "if repo_root not in sys.path:\n",
        "    sys.path.insert(0, repo_root)\n",
        "\n",
        "from utils import conf_from_yaml, generator_from_conf"
      ]
    },
    {
      "cell_type": "markdown",
      "metadata": {},
      "source": [
        "# Generate molecules with YAML"
      ]
    },
    {
      "cell_type": "code",
      "execution_count": null,
      "metadata": {},
      "outputs": [],
      "source": [
        "# Generate molecules\n",
        "\n",
        "yaml_path = \"config/mcts/example.yaml\" # Specify the yaml path. Open the file to see setting options.\n",
        "\n",
        "conf = conf_from_yaml(yaml_path)\n",
        "generator = generator_from_conf(conf)\n",
        "generator.generate(time_limit=conf.get(\"time_limit\"), max_generations=conf.get(\"max_generations\"))"
      ]
    },
    {
      "cell_type": "markdown",
      "metadata": {},
      "source": [
        "# Analyze the result"
      ]
    },
    {
      "cell_type": "code",
      "execution_count": null,
      "metadata": {},
      "outputs": [],
      "source": [
        "# Plot results\n",
        "\n",
        "# Plots will also be saved to the output folder.\n",
        "generator.plot(moving_average_window=0.05, reward_top_ps=[0.2, 0.5])\n",
        "# generator.plot(**conf.get(\"plot_args\", {})) # Use plot_args specified in yaml"
      ]
    },
    {
      "cell_type": "code",
      "execution_count": null,
      "metadata": {},
      "outputs": [],
      "source": [
        "# Statistics.\n",
        "\n",
        "generator.analyze()"
      ]
    },
    {
      "cell_type": "code",
      "execution_count": null,
      "metadata": {},
      "outputs": [],
      "source": [
        "# Return the generation results as a pandas.DataFrame\n",
        "\n",
        "df = generator.df()\n",
        "df"
      ]
    },
    {
      "cell_type": "code",
      "execution_count": null,
      "metadata": {},
      "outputs": [],
      "source": [
        "# Display generated molecules\n",
        "\n",
        "generator.display_top_k_molecules(k=15, target=\"reward\", legends=[\"order\", \"log_p\", \"reward\"], mols_per_row=5, size=(200,200))"
      ]
    }
  ],
  "metadata": {
    "accelerator": "GPU",
    "colab": {
      "gpuType": "T4",
      "provenance": []
    },
    "kernelspec": {
      "display_name": "v3env-m",
      "language": "python",
      "name": "python3"
    },
    "language_info": {
      "codemirror_mode": {
        "name": "ipython",
        "version": 3
      },
      "file_extension": ".py",
      "mimetype": "text/x-python",
      "name": "python",
      "nbconvert_exporter": "python",
      "pygments_lexer": "ipython3",
      "version": "3.11.11"
    }
  },
  "nbformat": 4,
  "nbformat_minor": 0
}
