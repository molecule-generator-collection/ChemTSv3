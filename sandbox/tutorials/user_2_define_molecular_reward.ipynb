{
  "cells": [
    {
      "cell_type": "markdown",
      "metadata": {},
      "source": [
        "## Tutorial (user): Define molecular reward\n",
        "- Define a reward for molecular generation\n",
        "- Generation with custom reward"
      ]
    },
    {
      "cell_type": "code",
      "execution_count": null,
      "metadata": {},
      "outputs": [],
      "source": [
        "# Imports\n",
        "\n",
        "import sys\n",
        "repo_root = \"../../\" # Change this if running the notebook from a different directory\n",
        "if repo_root not in sys.path:\n",
        "    sys.path.insert(0, repo_root)\n",
        "    \n",
        "import os\n",
        "from filter import ValidityFilter\n",
        "from generator import MCTS\n",
        "from language import Language\n",
        "from node import MolSentenceNode\n",
        "from policy import UCT\n",
        "from transition import RNNTransition"
      ]
    },
    {
      "cell_type": "markdown",
      "metadata": {},
      "source": [
        "# Define a reward for molecular generation\n",
        "A reward class maps nodes to real values, representing the objective to be optimized. We also support multi-objective settings: although the objectives must ultimately be folded into a single scalar value for optimization, our method allows tracking of individual objective values throughout the process.\n",
        "\n",
        "For molecular generation, we recommend implementing a reward by inheriting from `MolReward`. For non-molecular nodes, see `dev_1_make_components.ipynb`."
      ]
    },
    {
      "cell_type": "code",
      "execution_count": null,
      "metadata": {},
      "outputs": [],
      "source": [
        "# Define a molecular reward\n",
        "\n",
        "import numpy as np\n",
        "from rdkit.Chem import Descriptors\n",
        "from reward import MolReward\n",
        "\n",
        "def sigmoid(x, a):\n",
        "    return 1 / (1 + np.exp(-a * x))\n",
        "\n",
        "class CustomReward(MolReward):\n",
        "    \"\"\"Reward based on (LogP value - max ring size).\"\"\"\n",
        "    def __init__(self, a):\n",
        "        self.a = a\n",
        "        \n",
        "    def mol_objective_functions(self):\n",
        "        \"\"\"Return objective functions of the node; each function returns an objective value.\"\"\"\n",
        "        \n",
        "        def log_p(mol):\n",
        "            return Descriptors.MolLogP(mol)\n",
        "        \n",
        "        def max_ring_size(mol):\n",
        "            ri = mol.GetRingInfo()\n",
        "            max_ring_size = max((len(r) for r in ri.AtomRings()), default=0)\n",
        "            return max_ring_size\n",
        "\n",
        "        return [log_p, max_ring_size]\n",
        "    \n",
        "\n",
        "    def reward_from_objective_values(self, objective_values):\n",
        "        \"\"\"Compute the final reward based on the objective values calculated by objective_functions().\"\"\"\n",
        "        log_p, max_ring_size = objective_values[0], objective_values[1]\n",
        "        return sigmoid(x=log_p - max_ring_size, a=self.a) # It is recommended to scale the reward to the range [0, 1]."
      ]
    },
    {
      "cell_type": "markdown",
      "metadata": {},
      "source": [
        "# Generation with custom reward\n",
        "Note: For YAML workflow, define the reward in a `***.py` file and place it in the `reward` directory. For details of the codes below, refer to `dev_3_rnn_and_chain.ipynb`."
      ]
    },
    {
      "cell_type": "code",
      "execution_count": null,
      "metadata": {},
      "outputs": [],
      "source": [
        "# Generate molecules with CustomReward\n",
        "\n",
        "model_dir = os.path.join(repo_root, \"model/smiles/drugs_zinc/gru\")\n",
        "device = \"cpu\"\n",
        "smiles_lang = Language.load(os.path.join(model_dir, \"smiles_zinc.lang\"))\n",
        "rnn_transition = RNNTransition(lang=smiles_lang, model_dir=model_dir, device=device,\n",
        "                               top_p=0.995) \n",
        "\n",
        "MolSentenceNode.lang = smiles_lang\n",
        "MolSentenceNode.device = device\n",
        "root = MolSentenceNode.node_from_key(key=\"\")\n",
        "reward = CustomReward(a=0.5)\n",
        "filters = [ValidityFilter()] # Apply ValidityFilter first (unless molecular validity is already guaranteed), since other MolFilter and MolReward do not check validity by default.\n",
        "policy = UCT(c=0.1, best_rate=0.5)\n",
        "\n",
        "generator = MCTS(root=root, transition=rnn_transition, reward=reward, filters=filters, filter_reward=0, policy=policy,\n",
        "                         avoid_duplicates=False, cut_failed_child=False)\n",
        "\n",
        "generator.generate(max_generations=1000, time_limit=100)\n",
        "generator.plot()"
      ]
    }
  ],
  "metadata": {
    "accelerator": "GPU",
    "colab": {
      "gpuType": "T4",
      "provenance": []
    },
    "kernelspec": {
      "display_name": "v3env-m",
      "language": "python",
      "name": "python3"
    },
    "language_info": {
      "codemirror_mode": {
        "name": "ipython",
        "version": 3
      },
      "file_extension": ".py",
      "mimetype": "text/x-python",
      "name": "python",
      "nbconvert_exporter": "python",
      "pygments_lexer": "ipython3",
      "version": "3.11.11"
    }
  },
  "nbformat": 4,
  "nbformat_minor": 0
}
