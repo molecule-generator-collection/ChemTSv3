{
  "cells": [
    {
      "cell_type": "markdown",
      "metadata": {},
      "source": [
        "## Tutorial (Dev) #1\n",
        "- Basic workflow (without YAML)\n",
        "- Save and load\n",
        "- Check transition\n",
        "- Logger and seed"
      ]
    },
    {
      "cell_type": "markdown",
      "metadata": {},
      "source": [
        "# Basic workflow (without YAML)\n",
        "\n",
        "This section provides an overview of the basic workings and setups of each class.\n",
        "\n",
        "More practical workflow (de novo molecular generation, chained to lead optimizaiton) will be covered in `tutorial_dev_2.ipynb`."
      ]
    },
    {
      "cell_type": "code",
      "execution_count": null,
      "metadata": {},
      "outputs": [],
      "source": [
        "# Imports (may take some time on the first run)\n",
        "\n",
        "import sys\n",
        "repo_root = \"../../\" # Change this if running the notebook from a different directory\n",
        "if repo_root not in sys.path:\n",
        "    sys.path.insert(0, repo_root)\n",
        "\n",
        "from generator import MCTS\n",
        "from node import CanonicalSMILESStringNode # A node can represent any state. In this case, node has SMILES string as its state.\n",
        "from transition import JensenTransition # A transition returns the next nodes and their transition probabilities for a given node.\n",
        "from reward import LogPReward # A reward maps nodes to real values, representing the objective to be optimized. \n",
        "\n",
        "from filter import ValidityFilter, RadicalFilter # Filters define conditions to skip reward calculations.\n",
        "from policy import PUCT # A policy selects the child node to explore"
      ]
    },
    {
      "cell_type": "code",
      "execution_count": null,
      "metadata": {},
      "outputs": [],
      "source": [
        "# Set up a generator (without YAML)\n",
        "\n",
        "root_node = CanonicalSMILESStringNode.node_from_key(\"c1ccccc1\") # Benzene\n",
        "reward = LogPReward()\n",
        "\n",
        "# Multiple filters can be chained, and fallback reward values can be specified for each stage.\n",
        "filters = [ValidityFilter(), RadicalFilter()]\n",
        "filter_reward=[-1, 0]\n",
        "# Note: ValidityFilter checks whether the molecule is valid. Since other filters and rewards typically assume validity and do not recheck it, this filter should usually be put first in molecular generation.\n",
        "\n",
        "# Hover over the class name (e.g., \"PUCT\") to see its available arguments, types, default values, and descriptions. Note: This may not be supported in some IDEs, and is not supported for classes loaded via lazy imports.\n",
        "policy = PUCT(c=0.1, best_rate=0.9)\n",
        "\n",
        "generator = MCTS(root=root_node, transition=JensenTransition(), reward=reward, filters=filters, filter_reward=filter_reward, policy=policy,\n",
        "                 avoid_duplicates=True, cut_failed_child=True,\n",
        "                 info_interval=100, output_dir=\"generation_result/tutorial_1\") # sandbox/tutorials/generation_result/tutorial_1"
      ]
    },
    {
      "cell_type": "code",
      "execution_count": null,
      "metadata": {},
      "outputs": [],
      "source": [
        "# Start generation\n",
        "\n",
        "generator.generate(max_generations=1000, time_limit=60) # Stops generation when either the number of generated nodes reaches 1000 or 60 seconds have passed. \n",
        "# Each generated molecule is logged to a CSV file in the output directory."
      ]
    },
    {
      "cell_type": "code",
      "execution_count": null,
      "metadata": {},
      "outputs": [],
      "source": [
        "# Analyze and plot results\n",
        "\n",
        "generator.analyze()\n",
        "generator.plot(moving_average_window=0.05, reward_top_ps=[0.1, 0.5]) # Plot the objective values and final reward for the generated molecules. The plots will also be saved to the output directory."
      ]
    },
    {
      "cell_type": "markdown",
      "metadata": {},
      "source": [
        "# Check transition"
      ]
    },
    {
      "cell_type": "code",
      "execution_count": null,
      "metadata": {},
      "outputs": [],
      "source": [
        "# Check the transition from the Benzene (should be the same as above)\n",
        "\n",
        "from utils import draw_mol\n",
        "results = JensenTransition().next_nodes(CanonicalSMILESStringNode.node_from_key(\"c1ccccc1\"))\n",
        "\n",
        "for node in results:\n",
        "    print(f\"Probability: {node.last_prob:.3f} Action: {node.last_action}\")\n",
        "    draw_mol(node.mol(), width=70, height=70) # All MolNode subclasses have a mol() method."
      ]
    },
    {
      "cell_type": "markdown",
      "metadata": {},
      "source": [
        "# Save and load"
      ]
    },
    {
      "cell_type": "code",
      "execution_count": null,
      "metadata": {},
      "outputs": [],
      "source": [
        "# Continue generation using the existing generator\n",
        "\n",
        "generator.generate(max_generations=200, time_limit=60)"
      ]
    },
    {
      "cell_type": "code",
      "execution_count": null,
      "metadata": {},
      "outputs": [],
      "source": [
        "# Save the current progress\n",
        "\n",
        "generator.save()"
      ]
    },
    {
      "cell_type": "code",
      "execution_count": null,
      "metadata": {},
      "outputs": [],
      "source": [
        "# Load generator\n",
        "\n",
        "generator_2 = MCTS.load_file(\"generation_result/tutorial_1/checkpoint/checkpoint.gtr\", transition=JensenTransition()) # Since some transitions rely on heavy models, they are separated from the generator's saved state. "
      ]
    },
    {
      "cell_type": "code",
      "execution_count": null,
      "metadata": {},
      "outputs": [],
      "source": [
        "# Continue generation using the loaded generator\n",
        "\n",
        "generator_2.generate(max_generations=200, time_limit=60)"
      ]
    },
    {
      "cell_type": "markdown",
      "metadata": {},
      "source": [
        "# Logger and seed\n",
        "(Optional) Users can specify a logger and a seed used for the generation."
      ]
    },
    {
      "cell_type": "code",
      "execution_count": null,
      "metadata": {},
      "outputs": [],
      "source": [
        "import logging\n",
        "from utils import make_logger, set_seed\n",
        "\n",
        "seed = 0 # Set to None if you want the seed to be set automatically.\n",
        "\n",
        "for i in range(3):\n",
        "    output_dir=f\"generation_result/tutorial_1_seed_{seed}/{i}\"\n",
        "    \n",
        "    # make logger\n",
        "    logger = make_logger(output_dir=output_dir, console_level=logging.INFO, file_level=logging.INFO)\n",
        "    logger.info(\"------------------------------------------------------------------\")\n",
        "    \n",
        "    # set seed\n",
        "    set_seed(seed, logger=logger)\n",
        "    \n",
        "    # Make a new root node: The root node defined above already has child nodes. Starting with root=benzene will continue the generation using the existing search tree.\n",
        "    new_root = CanonicalSMILESStringNode.node_from_key(\"c1ccccc1\")\n",
        "    \n",
        "    # Make a generator and start generation\n",
        "    generator = MCTS(root=new_root, transition=JensenTransition(), reward=reward, filters=filters, filter_reward=0, policy=policy,\n",
        "                    avoid_duplicates=True, cut_failed_child=True,\n",
        "                    info_interval=1, # All keys of generated nodes will be logged to the console and file if info_interval is set to 1\n",
        "                    output_dir=output_dir, logger=logger)\n",
        "    generator.generate(max_generations=50)\n"
      ]
    }
  ],
  "metadata": {
    "accelerator": "GPU",
    "colab": {
      "gpuType": "T4",
      "provenance": []
    },
    "kernelspec": {
      "display_name": "v3env",
      "language": "python",
      "name": "python3"
    },
    "language_info": {
      "codemirror_mode": {
        "name": "ipython",
        "version": 3
      },
      "file_extension": ".py",
      "mimetype": "text/x-python",
      "name": "python",
      "nbconvert_exporter": "python",
      "pygments_lexer": "ipython3",
      "version": "3.11.11"
    }
  },
  "nbformat": 4,
  "nbformat_minor": 0
}
