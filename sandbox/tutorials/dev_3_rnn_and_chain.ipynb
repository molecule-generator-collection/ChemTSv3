{
  "cells": [
    {
      "cell_type": "markdown",
      "metadata": {},
      "source": [
        "## Tutorial (Dev) #2\n",
        "- De novo generation using RNN\n",
        "- Chain to lead optimization"
      ]
    },
    {
      "cell_type": "code",
      "execution_count": 11,
      "metadata": {},
      "outputs": [],
      "source": [
        "# Imports\n",
        "\n",
        "import sys\n",
        "repo_root = \"../../\" # Change this if running the notebook from a different directory\n",
        "if repo_root not in sys.path:\n",
        "    sys.path.insert(0, repo_root)\n",
        "    \n",
        "import os\n",
        "from filter import ValidityFilter, RadicalFilter\n",
        "from generator import MCTS\n",
        "from language import Language\n",
        "from node import MolSentenceNode\n",
        "from policy import UCT\n",
        "from transition import RNNTransition\n",
        "from reward import JScoreReward"
      ]
    },
    {
      "cell_type": "markdown",
      "metadata": {},
      "source": [
        "# De novo generation using RNN"
      ]
    },
    {
      "cell_type": "code",
      "execution_count": null,
      "metadata": {},
      "outputs": [],
      "source": [
        "# Load the RNN model and the language file\n",
        "\n",
        "model_dir = os.path.join(repo_root, \"model/smiles/drugs_zinc/gru\")\n",
        "device = \"cpu\" # For RNNTransition, using the CPU tends to be faster even in GPU environments.\n",
        "\n",
        "smiles_lang = Language.load(os.path.join(model_dir, \"smiles_zinc.lang\")) # In the YAML workflow, a language file with the same name as the model directory will be loaded automatically.\n",
        "rnn_transition = RNNTransition(lang=smiles_lang, model_dir=model_dir, device=device,\n",
        "                               top_p=0.995) # Use tokens covering the top 99.5% cumulative probability, ignoring the rest."
      ]
    },
    {
      "cell_type": "code",
      "execution_count": null,
      "metadata": {},
      "outputs": [],
      "source": [
        "# Set up a de novo generator\n",
        "\n",
        "key = \"\" # Start from an empty SMILES\n",
        "MolSentenceNode.use_canonical_smiles_as_key = True # If set to True, the generated SMILES tensor will be converted to canonical SMILES to avoid duplicate molecules.\n",
        "root = MolSentenceNode.node_from_key(key=key, lang=smiles_lang, device=device)\n",
        "\n",
        "reward = JScoreReward()\n",
        "filters = [ValidityFilter(), RadicalFilter()]\n",
        "policy = UCT(c=0.1, best_rate=0.5)\n",
        "\n",
        "generator_de_novo = MCTS(root=root, transition=rnn_transition, reward=reward, filters=filters, filter_reward=0, policy=policy,\n",
        "                         avoid_duplicates=False, # The tree structure of the transition graph is guaranteed, so duplication checks within the search tree are unnecessary.\n",
        "                         cut_failed_child=False) # Filter results are probabilistic, as the evaluation step involves rollout: removing a child node whose rollout leads to a filtered node might eliminate a potentially good path."
      ]
    },
    {
      "cell_type": "code",
      "execution_count": null,
      "metadata": {},
      "outputs": [],
      "source": [
        "# Start generation\n",
        "\n",
        "generator_de_novo.generate(max_generations=1000, time_limit=60)\n",
        "generator_de_novo.plot(moving_average_window=0.05, reward_top_ps=[0.1])"
      ]
    },
    {
      "cell_type": "markdown",
      "metadata": {},
      "source": [
        "# Chain to lead optimization"
      ]
    },
    {
      "cell_type": "code",
      "execution_count": null,
      "metadata": {},
      "outputs": [],
      "source": [
        "# Generated molecules with top_k rewards\n",
        "\n",
        "n_keys_to_pass = 5\n",
        "top_k = generator_de_novo.top_k(k=n_keys_to_pass)\n",
        "for tuple in top_k:\n",
        "    print(\"Key: \", tuple[0], \" Reward: \", tuple[1])"
      ]
    },
    {
      "cell_type": "code",
      "execution_count": null,
      "metadata": {},
      "outputs": [],
      "source": [
        "# Make a virtual surrogate node as the common parent of top_k molecules\n",
        "\n",
        "from node import CanonicalSMILESStringNode, SurrogateNode\n",
        "\n",
        "top_keys = [key for key, _ in top_k]\n",
        "surrogate_root = SurrogateNode()\n",
        "for s in top_keys:\n",
        "    node = CanonicalSMILESStringNode.node_from_key(key=s, parent=surrogate_root, last_prob=1/len(top_keys))\n",
        "    surrogate_root.add_child(node)"
      ]
    },
    {
      "cell_type": "code",
      "execution_count": null,
      "metadata": {},
      "outputs": [],
      "source": [
        "# Set up a lead generator\n",
        "\n",
        "from transition import JensenTransition\n",
        "from policy import PUCT\n",
        "\n",
        "generator_lead = MCTS(root=surrogate_root, transition=JensenTransition(),\n",
        "                      reward=generator_de_novo.reward, filters=generator_de_novo.filters, filter_reward=generator_de_novo.filter_reward, # inherit\n",
        "                      policy=PUCT(c=0.2, best_rate=0.9),\n",
        "                      avoid_duplicates=False, # The transition graph has cycles and convergences\n",
        "                      cut_failed_child=False) # Filter results are not probabilistic\n",
        "\n",
        "generator_lead.inherit(generator_de_novo) # Inherits the generation results"
      ]
    },
    {
      "cell_type": "code",
      "execution_count": null,
      "metadata": {},
      "outputs": [],
      "source": [
        "# Lead optimization\n",
        "\n",
        "generator_lead.generate(max_generations=1000, time_limit=60)\n",
        "generator_lead.plot(moving_average_window=0.05, reward_top_ps=[0.1])"
      ]
    }
  ],
  "metadata": {
    "accelerator": "GPU",
    "colab": {
      "gpuType": "T4",
      "provenance": []
    },
    "kernelspec": {
      "display_name": "v3env",
      "language": "python",
      "name": "python3"
    },
    "language_info": {
      "codemirror_mode": {
        "name": "ipython",
        "version": 3
      },
      "file_extension": ".py",
      "mimetype": "text/x-python",
      "name": "python",
      "nbconvert_exporter": "python",
      "pygments_lexer": "ipython3",
      "version": "3.11.11"
    }
  },
  "nbformat": 4,
  "nbformat_minor": 0
}
