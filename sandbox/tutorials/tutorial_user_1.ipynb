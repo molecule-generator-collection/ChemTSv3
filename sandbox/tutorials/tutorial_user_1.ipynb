{
  "cells": [
    {
      "cell_type": "markdown",
      "metadata": {},
      "source": [
        "## Tutorial #1\n",
        "- Generate molecules with YAML\n",
        "- Analyze the result"
      ]
    },
    {
      "cell_type": "markdown",
      "metadata": {},
      "source": [
        "# Generate molecules with YAML"
      ]
    },
    {
      "cell_type": "code",
      "execution_count": null,
      "metadata": {},
      "outputs": [],
      "source": [
        "# Imports (may take some time on the first run)\n",
        "\n",
        "import sys\n",
        "repo_root = \"../../\"\n",
        "if repo_root not in sys.path:\n",
        "    sys.path.insert(0, repo_root)\n",
        "\n",
        "import os\n",
        "from generator import Generator\n",
        "from utils import conf_from_yaml, generator_from_conf, save_yaml"
      ]
    },
    {
      "cell_type": "code",
      "execution_count": null,
      "metadata": {},
      "outputs": [],
      "source": [
        "# Generate molecules\n",
        "\n",
        "yaml_path = \"config/mcts/example.yaml\" # Specify the yaml path. Open the file to see setting options.\n",
        "\n",
        "conf = conf_from_yaml(yaml_path)\n",
        "generator = generator_from_conf(conf)\n",
        "generator.generate(time_limit=conf.get(\"time_limit\"), max_generations=conf.get(\"max_generations\"))"
      ]
    },
    {
      "cell_type": "markdown",
      "metadata": {},
      "source": [
        "# Analyze the result"
      ]
    },
    {
      "cell_type": "code",
      "execution_count": null,
      "metadata": {},
      "outputs": [],
      "source": [
        "# Plot results\n",
        "\n",
        "# Plots will also be saved to the output folder.\n",
        "generator.plot(moving_average_window=0.05, reward_top_ps=[0.2, 0.5])\n",
        "# generator.plot(**conf.get(\"plot_args\", {})) # Use plot_args specified in yaml"
      ]
    },
    {
      "cell_type": "code",
      "execution_count": null,
      "metadata": {},
      "outputs": [],
      "source": [
        "# Generator methods for statistics.\n",
        "\n",
        "print(\"Number of generated nodes: \", generator.n_generated_nodes())\n",
        "print(\"Generated node per second: \", generator.node_per_sec())\n",
        "print(\"Proportion of unfiltered generated nodes: \", generator.node_per_sec())\n",
        "print(\"Average reward of top_p generated nodes: \", generator.average_reward(top_p=0.5))\n",
        "print(\"AUC of the average of top_k rewards within 1000 generation: \", generator.auc(top_k=5, max_oracle_calls=1000)) # Assumes all rewards lie within the range [0, 1]."
      ]
    },
    {
      "cell_type": "code",
      "execution_count": null,
      "metadata": {},
      "outputs": [],
      "source": [
        "# Return the generation results as a pandas.DataFrame\n",
        "\n",
        "db = generator.db()\n",
        "db"
      ]
    }
  ],
  "metadata": {
    "accelerator": "GPU",
    "colab": {
      "gpuType": "T4",
      "provenance": []
    },
    "kernelspec": {
      "display_name": "v3env-m",
      "language": "python",
      "name": "python3"
    },
    "language_info": {
      "codemirror_mode": {
        "name": "ipython",
        "version": 3
      },
      "file_extension": ".py",
      "mimetype": "text/x-python",
      "name": "python",
      "nbconvert_exporter": "python",
      "pygments_lexer": "ipython3",
      "version": "3.11.11"
    }
  },
  "nbformat": 4,
  "nbformat_minor": 0
}
