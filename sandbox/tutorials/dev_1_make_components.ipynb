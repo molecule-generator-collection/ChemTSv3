{
  "cells": [
    {
      "cell_type": "markdown",
      "metadata": {},
      "source": [
        "## Tutorial (dev): Make components\n",
        "- Define a Node class\n",
        "- Define a Transition class\n",
        "- Define a Reward class\n",
        "- Generation with the classes defined above\n",
        "- Customize generator"
      ]
    },
    {
      "cell_type": "code",
      "execution_count": null,
      "metadata": {},
      "outputs": [],
      "source": [
        "# Imports\n",
        "\n",
        "import sys\n",
        "repo_root = \"../../\"\n",
        "if repo_root not in sys.path:\n",
        "    sys.path.insert(0, repo_root)"
      ]
    },
    {
      "cell_type": "markdown",
      "metadata": {},
      "source": [
        "# Define a Node class\n",
        "A node object also stores its parent node, the transition probability from the parent (, and optionally the corresponding action)."
      ]
    },
    {
      "cell_type": "code",
      "execution_count": null,
      "metadata": {},
      "outputs": [],
      "source": [
        "from typing import Self\n",
        "from node import Node\n",
        "\n",
        "class PointNode(Node):\n",
        "    \"\"\"Node class that represents points in x-y plane.\"\"\"\n",
        "    def __init__(self, x: float, y: float, parent=None, last_prob=1.0, last_action=None):\n",
        "        self.x = x\n",
        "        self.y = y\n",
        "        super().__init__(parent=parent, last_prob=last_prob, last_action=last_action)\n",
        "        \n",
        "    # Define the reward condition\n",
        "    def has_reward(self) -> bool:\n",
        "        return True # all PointNode instances have reward\n",
        "    \n",
        "    # Return the key string. Keys of generated nodes will be recorded.\n",
        "    def key(self) -> str:\n",
        "        return f\"{self.x}, {self.y}\"\n",
        "    \n",
        "    # (Optional) Create a Node instance from a key. Only needed for yaml-based root specifications and chain generations.\n",
        "    @classmethod\n",
        "    def node_from_key(cls, key: str, parent=None, last_action: int=None, last_prob=1.0) -> Self:\n",
        "        parts = [v.strip() for v in key.split(\", \")]\n",
        "        x = float(parts[0])\n",
        "        y = float(parts[1])\n",
        "        return PointNode(x=x, y=y, parent=parent, last_prob=last_prob, last_action=last_action)"
      ]
    },
    {
      "cell_type": "markdown",
      "metadata": {},
      "source": [
        "# Define a Transition class\n",
        "A transition class must implement `next_nodes()`, which returns the next nodes and their transition probabilities for a given node."
      ]
    },
    {
      "cell_type": "code",
      "execution_count": null,
      "metadata": {},
      "outputs": [],
      "source": [
        "from transition import Transition\n",
        "\n",
        "class PointTransition(Transition):\n",
        "    \"\"\"Transition class for NumberNode that randomly prepends a number to the beginning of the string.\"\"\"\n",
        "        \n",
        "    def next_nodes(self, node: PointNode) -> list[PointNode]:\n",
        "        \"\"\"Note: If the node is terminal, an empty list [] should be returned.\"\"\"\n",
        "        x = node.x\n",
        "        y = node.y\n",
        "        \n",
        "        if node.parent is None: # From the root node\n",
        "            dx, dy = 10, 10\n",
        "        elif node.parent.x is None:\n",
        "            raise ValueError(\"Set 'discard_unneeded_states' in MCTS to False.\")\n",
        "        else:\n",
        "            dx = (x - node.parent.x) / 2\n",
        "            dy = (y - node.parent.y) / 2\n",
        "        \n",
        "        return [PointNode(x+dx, y, parent=node),\n",
        "                PointNode(x-dx, y, parent=node),\n",
        "                PointNode(x, y+dy, parent=node),\n",
        "                PointNode(x, y-dy, parent=node),\n",
        "                PointNode(x+dx, y+dy, parent=node),\n",
        "                PointNode(x+dx, y-dy, parent=node),\n",
        "                PointNode(x-dx, y+dy, parent=node),\n",
        "                PointNode(x-dx, y-dy, parent=node)]"
      ]
    },
    {
      "cell_type": "markdown",
      "metadata": {},
      "source": [
        "# Define a Reward class\n",
        "A reward class maps nodes to real values, representing the objective to be optimized. \n",
        "\n",
        "We also support multi-objective settings: although the objectives must ultimately be folded into a single scalar value for optimization, our method allows tracking of individual objective values throughout the process."
      ]
    },
    {
      "cell_type": "code",
      "execution_count": null,
      "metadata": {},
      "outputs": [],
      "source": [
        "from reward import Reward, SingleReward\n",
        "\n",
        "# Multi-objective example\n",
        "class MOConvexReward(Reward):\n",
        "    def __init__(self, goal_x: float, goal_y: float):\n",
        "        self.goal_x = goal_x\n",
        "        self.goal_y = goal_y\n",
        "    \n",
        "    def objective_functions(self):\n",
        "        def x_distance(node: Node) -> float:\n",
        "            return abs(self.goal_x - node.x)\n",
        "        \n",
        "        def y_distance(node: Node) -> float:\n",
        "            return abs(self.goal_y - node.y)\n",
        "        \n",
        "        return [x_distance, y_distance]\n",
        "    \n",
        "    def reward_from_objective_values(self, objective_values):\n",
        "        x_distance = objective_values[0]\n",
        "        y_distance = objective_values[1]\n",
        "        return 1 / (1 + (x_distance + y_distance)) # Scale the reward to (0, 1]\n",
        "    \n",
        "# Single-objective example\n",
        "class ConvexReward(SingleReward):\n",
        "    def __init__(self, goal_x: float, goal_y: float):\n",
        "        self.goal_x = goal_x\n",
        "        self.goal_y = goal_y\n",
        "    \n",
        "    def reward(self, node):\n",
        "        return 1 / (1 + (abs(self.goal_x - node.x) + abs(self.goal_y - node.y)))"
      ]
    },
    {
      "cell_type": "markdown",
      "metadata": {},
      "source": [
        "# Generation with classes defined above"
      ]
    },
    {
      "cell_type": "code",
      "execution_count": null,
      "metadata": {},
      "outputs": [],
      "source": [
        "# Run the MCTS generation using the components defined above\n",
        "\n",
        "import math\n",
        "from generator import MCTS\n",
        "from policy import UCT\n",
        "\n",
        "# Define components\n",
        "root = PointNode.node_from_key(\"0, 0\") # root node\n",
        "transition = PointTransition()\n",
        "# reward = ConvexReward(goal_x = math.pi, goal_y = math.pi)\n",
        "reward = MOConvexReward(goal_x = math.pi, goal_y = math.pi)\n",
        "policy = UCT(c=0.2, best_rate=0.8)\n",
        "\n",
        "# Define generator\n",
        "generator = MCTS(root=root, transition=transition, reward=reward, policy=policy, filters=None, info_interval=200,\n",
        "                 avoid_duplicates=True, # If set to True, nodes with the same key won't be added to the search tree. Can be false to increase the performance if the tree structure of the transiton graph is guranteed.\n",
        "                 discard_unneeded_states=False # If set to True, states in non-leaf nodes (x, y in this case) will be discarded, making it impossible to access node.parent.x in PointTransition.next_nodes(). This behavior can be also adjusted by overriding Node.discard_unneeded_states() in the implemented Node class.\n",
        "                )\n",
        "\n",
        "# Run generator (generation results will be saved in the output directory)\n",
        "generator.generate(max_generations=2000)\n",
        "\n",
        "generator.analyze()\n",
        "generator.plot(moving_average_window=0.02, reward_top_ps=[0.1, 0.5]) # This also save figs to the output directory"
      ]
    },
    {
      "cell_type": "markdown",
      "metadata": {},
      "source": [
        "# Customize generator\n",
        "MCTS class has `on_generation()` and `should_finish()` methods for users to customize its behavior. \n",
        "\n",
        "- `on_generation()` is called on generation. It receives the generated node instance, calculated objective values and reward as args.\n",
        "- `should_finish()` is checked along with time_limit and max_generations.\n",
        "\n",
        "It is also possible to inherit Generator base class and make a generator from scratch, which is not restricted to tree search. Refer to `generator.heapq_generator.py` for an example"
      ]
    },
    {
      "cell_type": "code",
      "execution_count": null,
      "metadata": {},
      "outputs": [],
      "source": [
        "class CustomGenerator(MCTS):\n",
        "    def __init__(self, *args, **kwargs):    \n",
        "        self._should_finish = False\n",
        "        super().__init__(*args, **kwargs)\n",
        "\n",
        "    # override\n",
        "    def on_generation(self, node: PointNode, objective_values, reward):\n",
        "        # Backtrack nodes if best reward is updated and reward > 0.9\n",
        "        # To backtrack actions as well, include actions in Transition.next_nodes()\n",
        "        if reward == self.best_reward and reward > 0.9:\n",
        "            current_node = node\n",
        "            while(current_node.parent is not None):\n",
        "                current_node = current_node.parent\n",
        "                self.logger.info(f\"<- {current_node.key()}\")\n",
        "\n",
        "        # Record if 3.14 < x < 3.15 or 3.14 < y < 3.15 is achieved\n",
        "        if 3.14 < node.x < 3.15 or 3.14 < node.y < 3.15:\n",
        "            self._should_finish = True\n",
        "\n",
        "    # finish generation if 3.14 < x < 3.15 or 3.14 < y < 3.15 is already achieved\n",
        "    # override\n",
        "    def should_finish(self):\n",
        "        return self._should_finish\n",
        "\n",
        "root = PointNode.node_from_key(\"0, 0\") # Root node needs to be initialized when starting the generation from scratch\n",
        "generator = CustomGenerator(root=root, transition=transition, reward=reward, policy=policy, filters=None, info_interval=200, avoid_duplicates=True, \n",
        "                discard_unneeded_states=False # This is required for backtracking as well\n",
        "            )\n",
        "generator.generate(max_generations=2000)"
      ]
    }
  ],
  "metadata": {
    "accelerator": "GPU",
    "colab": {
      "gpuType": "T4",
      "provenance": []
    },
    "kernelspec": {
      "display_name": "v3env",
      "language": "python",
      "name": "python3"
    },
    "language_info": {
      "codemirror_mode": {
        "name": "ipython",
        "version": 3
      },
      "file_extension": ".py",
      "mimetype": "text/x-python",
      "name": "python",
      "nbconvert_exporter": "python",
      "pygments_lexer": "ipython3",
      "version": "3.11.11"
    }
  },
  "nbformat": 4,
  "nbformat_minor": 0
}
