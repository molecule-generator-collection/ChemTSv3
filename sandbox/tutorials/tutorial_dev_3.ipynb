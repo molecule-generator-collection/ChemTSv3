{
  "cells": [
    {
      "cell_type": "markdown",
      "metadata": {},
      "source": [
        "## Tutorial (Dev) #3\n",
        "- Define a Node class\n",
        "- Define a Transition class\n",
        "- Define a Reward class\n",
        "- Generation with the classes defined above"
      ]
    },
    {
      "cell_type": "code",
      "execution_count": null,
      "metadata": {},
      "outputs": [],
      "source": [
        "# Imports\n",
        "\n",
        "import sys\n",
        "repo_root = \"../../\"\n",
        "if repo_root not in sys.path:\n",
        "    sys.path.insert(0, repo_root)\n",
        "\n",
        "from typing import Callable, List, Self\n",
        "import numpy as np"
      ]
    },
    {
      "cell_type": "markdown",
      "metadata": {},
      "source": [
        "# Define a Node class\n",
        "A node object also stores its parent node, the transition probability from the parent (, and optionally the corresponding action)."
      ]
    },
    {
      "cell_type": "code",
      "execution_count": null,
      "metadata": {},
      "outputs": [],
      "source": [
        "from node import Node\n",
        "\n",
        "class NumberNode(Node):\n",
        "    \"\"\"Node class that stores its number as a string.\"\"\"\n",
        "    def __init__(self, number: str, parent=None, last_action: int=None, last_prob=1.0):\n",
        "        self.number = number\n",
        "        super().__init__(parent=parent, last_prob=last_prob, last_action=last_action)\n",
        "\n",
        "    # Define the reward condition\n",
        "    def has_reward(self) -> bool:\n",
        "        # Empty string (\"\") and strings like \"0X...X\" are incomplete as numbers, and don't have reward.\n",
        "        if self.number == \"\":\n",
        "            return False\n",
        "        elif self.number.startswith(\"0\") and not self.number == \"0\":\n",
        "            return False\n",
        "        else:\n",
        "            return True\n",
        "    \n",
        "    # Return the key string. Keys are used for identity checks between nodes, and the keys of generated nodes will be recorded.\n",
        "    def key(self) -> str:\n",
        "        return self.number\n",
        "    \n",
        "    # Create a Node instance from a key\n",
        "    @classmethod\n",
        "    def node_from_key(cls, key: str, parent=None, last_action: int=None, last_prob=1.0) -> Self:\n",
        "        return NumberNode(key, parent=parent, last_prob=last_prob, last_action=last_action)"
      ]
    },
    {
      "cell_type": "markdown",
      "metadata": {},
      "source": [
        "# Define a Transition class\n",
        "A transition class must implement `next_nodes()`, which returns the next nodes and their transition probabilities for a given node."
      ]
    },
    {
      "cell_type": "code",
      "execution_count": null,
      "metadata": {},
      "outputs": [],
      "source": [
        "from transition import Transition\n",
        "\n",
        "class NumberTransition(Transition):\n",
        "    \"\"\"Transition class for NumberNode that randomly prepends a number to the beginning of the string.\"\"\"\n",
        "    \n",
        "    # It is recommended to handle settings in the __init__() method for YAML compatibility.\n",
        "    def __init__(self, numbers: list[int]=[0,1,2,3,4,5,6,7,8,9]):\n",
        "        self.numbers = numbers\n",
        "        \n",
        "    def next_nodes(self, node: NumberNode) -> list[Node]:\n",
        "        chilren = [] # Note: next_nodes() should return an empty list ([]) if no transitions are available from the node\n",
        "        for n in self.numbers:\n",
        "            next_number = str(n) + node.number\n",
        "            prob = 1 / len(self.numbers)\n",
        "            # The parent node and transition probability should be stored in the node instance.\n",
        "            child = NumberNode(number=next_number, parent=node, last_prob=prob)\n",
        "            chilren.append(child)\n",
        "        return chilren"
      ]
    },
    {
      "cell_type": "markdown",
      "metadata": {},
      "source": [
        "# Define a Reward class\n",
        "A reward class maps nodes to real values, representing the objective to be optimized. \n",
        "\n",
        "We also support multi-objective settings: although the objectives must ultimately be folded into a single scalar value for optimization, our method allows tracking of individual objective values throughout the process."
      ]
    },
    {
      "cell_type": "code",
      "execution_count": null,
      "metadata": {},
      "outputs": [],
      "source": [
        "from reward import Reward\n",
        "\n",
        "class NumberReward(Reward):\n",
        "    \"\"\"Reward class for NumberNode that returns a higher value for numbers with higher multiplicity of the given factors, and with fewer digits.\"\"\"\n",
        "    def __init__(self, factor: int=5, length_penalty: float=0.5, scale: float=1.0):\n",
        "        self.factor = factor\n",
        "        self.length_penalty = length_penalty\n",
        "        self.scale = scale    \n",
        "\n",
        "    # Return objective functions of the node; each function returns an objective value.\n",
        "    def objective_functions(self) -> List[Callable[[NumberNode], float]]:\n",
        "        def factor_count(node: Node) -> float:\n",
        "            n = int(node.number)\n",
        "            count = 0\n",
        "            while n % self.factor == 0 and n > 0:\n",
        "                n //= self.factor\n",
        "                count += 1\n",
        "            return count\n",
        "        \n",
        "        def length(node: Node) -> float:\n",
        "            return len(node.number)\n",
        "        \n",
        "        return [factor_count, length]\n",
        "    \n",
        "    # Compute the final reward based on the objective values calculated by objective_functions().\n",
        "    def reward_from_objective_values(self, objective_values: List[float]) -> float:\n",
        "        two_factor_count = objective_values[0]\n",
        "        length = objective_values[1]\n",
        "        raw_reward = (two_factor_count - self.length_penalty * length)\n",
        "        \n",
        "        return 1 / (1 + np.exp(-self.scale * raw_reward)) # Apply sigmoid to map raw_reward into [0, 1]"
      ]
    },
    {
      "cell_type": "markdown",
      "metadata": {},
      "source": [
        "# Generation with classes defined above"
      ]
    },
    {
      "cell_type": "code",
      "execution_count": null,
      "metadata": {},
      "outputs": [],
      "source": [
        "# Run the MCTS generation using the components defined above\n",
        "\n",
        "from datetime import datetime\n",
        "import os\n",
        "from generator import MCTS\n",
        "from policy import UCT\n",
        "from utils import make_logger\n",
        "\n",
        "# Define components\n",
        "root = NumberNode.node_from_key(\"\") # root node\n",
        "transition = NumberTransition()\n",
        "reward = NumberReward(factor=10, length_penalty=0.1, scale=1.0)\n",
        "policy = UCT(c=0.1, best_rate=0.5)\n",
        "\n",
        "# Define generator\n",
        "generator = MCTS(root=root, transition=transition, reward=reward, policy=policy, filters=None, discard_unneeded_states=False)\n",
        "\n",
        "# Run generator (generation results will be saved in the output directory)\n",
        "generator.generate(max_generations=2000)"
      ]
    },
    {
      "cell_type": "code",
      "execution_count": null,
      "metadata": {},
      "outputs": [],
      "source": [
        "# Analyze and visualize the result\n",
        "\n",
        "generator.analyze()\n",
        "generator.plot(moving_average_window=0.1, reward_top_ps=[0.1, 0.5]) # This also save figs to the output directory"
      ]
    }
  ],
  "metadata": {
    "accelerator": "GPU",
    "colab": {
      "gpuType": "T4",
      "provenance": []
    },
    "kernelspec": {
      "display_name": "v3env",
      "language": "python",
      "name": "python3"
    },
    "language_info": {
      "codemirror_mode": {
        "name": "ipython",
        "version": 3
      },
      "file_extension": ".py",
      "mimetype": "text/x-python",
      "name": "python",
      "nbconvert_exporter": "python",
      "pygments_lexer": "ipython3",
      "version": "3.11.11"
    }
  },
  "nbformat": 4,
  "nbformat_minor": 0
}
