{
  "cells": [
    {
      "cell_type": "code",
      "execution_count": 4,
      "metadata": {},
      "outputs": [],
      "source": [
        "import sys\n",
        "molgen_path = \"../\"\n",
        "if molgen_path not in sys.path:\n",
        "    sys.path.insert(0, molgen_path)\n",
        "    \n",
        "from indigo import *"
      ]
    },
    {
      "cell_type": "code",
      "execution_count": 17,
      "metadata": {},
      "outputs": [],
      "source": [
        "im1 = Indigo().loadMolecule(\"CC(C)C[C@H](NC(=O)[C@H](C)N)C(=O)N[C@@H](Cc1ccc(O)cc1)C(=O)N[C@@H](C)C(=O)N[C@@H](CO)C(=O)N[C@@H](CCCCN)C(=O)N[C@@H](CC(C)C)C(=O)N[C@@H](CO)C(N)=O\")\n",
        "smiles = im1.canonicalSmiles()\n"
      ]
    },
    {
      "cell_type": "code",
      "execution_count": 16,
      "metadata": {},
      "outputs": [],
      "source": [
        "from rdkit import Chem\n",
        "from rdkit.Chem import Mol\n",
        "\n",
        "def indigo2mol(indigo_mol: Indigo) -> Mol:\n",
        "    smiles = im1.canonicalSmiles()\n",
        "    return Chem.MolFromSmiles(smiles)"
      ]
    },
    {
      "cell_type": "code",
      "execution_count": 20,
      "metadata": {},
      "outputs": [
        {
          "data": {
            "image/png": "[encoded data removed]",
            "text/plain": [
              "<rdkit.Chem.rdchem.Mol at 0x124745a80>"
            ]
          },
          "execution_count": 20,
          "metadata": {},
          "output_type": "execute_result"
        }
      ],
      "source": [
        "indigo2mol(im1)"
      ]
    },
    {
      "cell_type": "code",
      "execution_count": null,
      "metadata": {},
      "outputs": [
        {
          "ename": "IndigoException",
          "evalue": "core: can not access object #2: unordered_map::at: key not found",
          "output_type": "error",
          "traceback": [
            "\u001b[31m---------------------------------------------------------------------------\u001b[39m",
            "\u001b[31mIndigoException\u001b[39m                           Traceback (most recent call last)",
            "\u001b[36mCell\u001b[39m\u001b[36m \u001b[39m\u001b[32mIn[41]\u001b[39m\u001b[32m, line 3\u001b[39m\n\u001b[32m      1\u001b[39m lib_path = molgen_path + \u001b[33m\"\u001b[39m\u001b[33mdata/helm/HELMCoreLibrary.json\u001b[39m\u001b[33m\"\u001b[39m\n\u001b[32m      2\u001b[39m mlib = Indigo().loadMonomerLibraryFromFile(lib_path)\n\u001b[32m----> \u001b[39m\u001b[32m3\u001b[39m im2 = \u001b[43mIndigo\u001b[49m\u001b[43m(\u001b[49m\u001b[43m)\u001b[49m\u001b[43m.\u001b[49m\u001b[43mloadHelm\u001b[49m\u001b[43m(\u001b[49m\u001b[33;43m\"\u001b[39;49m\u001b[33;43m\"\u001b[39;49m\u001b[43m,\u001b[49m\u001b[43m \u001b[49m\u001b[43mmlib\u001b[49m\u001b[43m)\u001b[49m\n",
            "\u001b[36mFile \u001b[39m\u001b[32m/opt/anaconda3/envs/molgen/lib/python3.11/site-packages/indigo/indigo/indigo.py:742\u001b[39m, in \u001b[36mIndigo.loadHelm\u001b[39m\u001b[34m(self, string, library)\u001b[39m\n\u001b[32m    727\u001b[39m \u001b[38;5;28;01mdef\u001b[39;00m\u001b[38;5;250m \u001b[39m\u001b[34mloadHelm\u001b[39m(\u001b[38;5;28mself\u001b[39m, string, library):\n\u001b[32m    728\u001b[39m \u001b[38;5;250m    \u001b[39m\u001b[33;03m\"\"\"Loads molecule from HELM string\u001b[39;00m\n\u001b[32m    729\u001b[39m \n\u001b[32m    730\u001b[39m \u001b[33;03m    Args:\u001b[39;00m\n\u001b[32m   (...)\u001b[39m\u001b[32m    737\u001b[39m \u001b[33;03m        IndigoException: Exception if structure format is incorrect\u001b[39;00m\n\u001b[32m    738\u001b[39m \u001b[33;03m    \"\"\"\u001b[39;00m\n\u001b[32m    740\u001b[39m     \u001b[38;5;28;01mreturn\u001b[39;00m IndigoObject(\n\u001b[32m    741\u001b[39m         \u001b[38;5;28mself\u001b[39m,\n\u001b[32m--> \u001b[39m\u001b[32m742\u001b[39m         \u001b[43mIndigoLib\u001b[49m\u001b[43m.\u001b[49m\u001b[43mcheckResult\u001b[49m\u001b[43m(\u001b[49m\n\u001b[32m    743\u001b[39m \u001b[43m            \u001b[49m\u001b[38;5;28;43mself\u001b[39;49m\u001b[43m.\u001b[49m\u001b[43m_lib\u001b[49m\u001b[43m(\u001b[49m\u001b[43m)\u001b[49m\u001b[43m.\u001b[49m\u001b[43mindigoLoadHelmFromString\u001b[49m\u001b[43m(\u001b[49m\n\u001b[32m    744\u001b[39m \u001b[43m                \u001b[49m\u001b[43mstring\u001b[49m\u001b[43m.\u001b[49m\u001b[43mencode\u001b[49m\u001b[43m(\u001b[49m\u001b[43m)\u001b[49m\u001b[43m,\u001b[49m\u001b[43m \u001b[49m\u001b[43mlibrary\u001b[49m\u001b[43m.\u001b[49m\u001b[43mid\u001b[49m\n\u001b[32m    745\u001b[39m \u001b[43m            \u001b[49m\u001b[43m)\u001b[49m\n\u001b[32m    746\u001b[39m \u001b[43m        \u001b[49m\u001b[43m)\u001b[49m,\n\u001b[32m    747\u001b[39m     )\n",
            "\u001b[36mFile \u001b[39m\u001b[32m/opt/anaconda3/envs/molgen/lib/python3.11/site-packages/indigo/indigo/indigo_lib.py:1081\u001b[39m, in \u001b[36mIndigoLib.checkResult\u001b[39m\u001b[34m(result, exception_class)\u001b[39m\n\u001b[32m   1079\u001b[39m \u001b[38;5;28;01mif\u001b[39;00m result < \u001b[32m0\u001b[39m:\n\u001b[32m   1080\u001b[39m     \u001b[38;5;28;01massert\u001b[39;00m IndigoLib.lib\n\u001b[32m-> \u001b[39m\u001b[32m1081\u001b[39m     \u001b[38;5;28;01mraise\u001b[39;00m exception_class(IndigoLib.lib.indigoGetLastError())\n\u001b[32m   1082\u001b[39m \u001b[38;5;28;01mreturn\u001b[39;00m result\n",
            "\u001b[31mIndigoException\u001b[39m: core: can not access object #2: unordered_map::at: key not found"
          ]
        }
      ],
      "source": [
        "lib_path = molgen_path + \"data/helm/HELMCoreLibrary.json\"\n",
        "mlib = Indigo().loadMonomerLibraryFromFile(lib_path).\n",
        "im2 = Indigo().loadHelm(\"\", mlib)\n",
        "Indigo()."
      ]
    },
    {
      "cell_type": "code",
      "execution_count": 39,
      "metadata": {},
      "outputs": [
        {
          "data": {
            "text/plain": [
              "indigo.indigo.indigo_object.IndigoObject"
            ]
          },
          "execution_count": 39,
          "metadata": {},
          "output_type": "execute_result"
        }
      ],
      "source": [
        "type(mlib)"
      ]
    },
    {
      "cell_type": "code",
      "execution_count": null,
      "metadata": {},
      "outputs": [],
      "source": []
    }
  ],
  "metadata": {
    "accelerator": "GPU",
    "colab": {
      "gpuType": "T4",
      "provenance": []
    },
    "kernelspec": {
      "display_name": "molgen",
      "language": "python",
      "name": "python3"
    },
    "language_info": {
      "codemirror_mode": {
        "name": "ipython",
        "version": 3
      },
      "file_extension": ".py",
      "mimetype": "text/x-python",
      "name": "python",
      "nbconvert_exporter": "python",
      "pygments_lexer": "ipython3",
      "version": "3.11.11"
    }
  },
  "nbformat": 4,
  "nbformat_minor": 0
}
