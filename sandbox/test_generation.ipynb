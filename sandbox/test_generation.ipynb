{
  "cells": [
    {
      "cell_type": "markdown",
      "metadata": {},
      "source": [
        "This notebook is intended for development purposes. For general usage, the CLI (generation.py) is faster and more stable."
      ]
    },
    {
      "cell_type": "code",
      "execution_count": null,
      "metadata": {},
      "outputs": [],
      "source": [
        "# Imports\n",
        "\n",
        "import sys\n",
        "repo_root = \"../\"\n",
        "if repo_root not in sys.path:\n",
        "    sys.path.insert(0, repo_root)\n",
        "\n",
        "import os\n",
        "from generator import Generator\n",
        "from utils import conf_from_yaml, generator_from_conf, save_yaml"
      ]
    },
    {
      "cell_type": "code",
      "execution_count": null,
      "metadata": {
        "colab": {
          "base_uri": "https://localhost:8080/",
          "height": 1000
        },
        "id": "KsQZ5Dx_zWtD",
        "outputId": "ad4867f1-023b-4634-ae52-fa0f64488692"
      },
      "outputs": [],
      "source": [
        "# Start generation\n",
        "\n",
        "yaml_path = \"config/mcts/example.yaml\" # Specify the yaml path\n",
        "\n",
        "conf = conf_from_yaml(yaml_path)\n",
        "generator = generator_from_conf(conf)\n",
        "generator.generate(time_limit=conf.get(\"time_limit\"), max_generations=conf.get(\"max_generations\"))\n",
        "\n",
        "# Plot and analyze results\n",
        "generator.plot(moving_average_window=0.05, reward_top_ps=[0.2, 0.5])\n",
        "# generator.plot(**conf.get(\"plot_args\", {})) # Use plot_args specified in yaml\n",
        "generator.analyze()"
      ]
    },
    {
      "cell_type": "code",
      "execution_count": null,
      "metadata": {},
      "outputs": [],
      "source": [
        "# Chain\n",
        "\n",
        "n_top_keys_to_pass=conf.get(\"n_keys_to_pass\", 3) # Pass 3 keys if \"n_keys_to_pass\" is not specified in yaml\n",
        "yaml_path = conf.get(\"next_yaml_path\", \"config/mcts/example_chain_2.yaml\") # Use \"example_chain_2.yaml\" if \"next_yaml_path\" is not specified in yaml\n",
        "\n",
        "conf = conf_from_yaml(yaml_path)\n",
        "generator = generator_from_conf(conf, predecessor=generator, n_top_keys_to_pass=n_top_keys_to_pass)\n",
        "\n",
        "generator.generate(time_limit=conf.get(\"time_limit\"), max_generations=conf.get(\"max_generations\"))"
      ]
    },
    {
      "cell_type": "code",
      "execution_count": null,
      "metadata": {
        "id": "EC6dDxCrF1dA"
      },
      "outputs": [],
      "source": [
        "# Save generator\n",
        "\n",
        "save_dir = os.path.join(generator.output_dir(), \"save\")\n",
        "os.makedirs(save_dir, exist_ok=True)\n",
        "save_yaml(conf, save_dir, overwrite=True)\n",
        "generator.save(os.path.join(save_dir, \"save.gtr\"))"
      ]
    },
    {
      "cell_type": "code",
      "execution_count": null,
      "metadata": {},
      "outputs": [],
      "source": [
        "# Load generator\n",
        "\n",
        "load_dir = \"sandbox/generation_result/~~~/save\" # Specify the save dir\n",
        "generator = Generator.load_dir(load_dir)"
      ]
    },
    {
      "cell_type": "code",
      "execution_count": null,
      "metadata": {},
      "outputs": [],
      "source": [
        "# Continue generation\n",
        "\n",
        "generator.generate(max_generations=500, time_limit=60)"
      ]
    }
  ],
  "metadata": {
    "accelerator": "GPU",
    "colab": {
      "gpuType": "T4",
      "provenance": []
    },
    "kernelspec": {
      "display_name": "v3env",
      "language": "python",
      "name": "python3"
    },
    "language_info": {
      "codemirror_mode": {
        "name": "ipython",
        "version": 3
      },
      "file_extension": ".py",
      "mimetype": "text/x-python",
      "name": "python",
      "nbconvert_exporter": "python",
      "pygments_lexer": "ipython3",
      "version": "3.11.11"
    }
  },
  "nbformat": 4,
  "nbformat_minor": 0
}
